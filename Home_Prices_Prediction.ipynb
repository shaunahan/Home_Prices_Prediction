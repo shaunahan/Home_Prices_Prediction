{
  "nbformat": 4,
  "nbformat_minor": 0,
  "metadata": {
    "colab": {
      "name": "Home Prices Prediction.ipynb",
      "provenance": []
    },
    "kernelspec": {
      "name": "python3",
      "display_name": "Python 3"
    },
    "language_info": {
      "name": "python"
    }
  },
  "cells": [
    {
      "cell_type": "markdown",
      "source": [
        "# Regression Project: Predicting Home Prices in Banglore"
      ],
      "metadata": {
        "id": "KJ10XY_yWDeg"
      }
    },
    {
      "cell_type": "code",
      "source": [
        "import warnings\n",
        "warnings.filterwarnings('ignore')"
      ],
      "metadata": {
        "id": "CrU0FfNX29h_"
      },
      "execution_count": null,
      "outputs": []
    },
    {
      "cell_type": "code",
      "execution_count": null,
      "metadata": {
        "id": "PfwbogquWBcZ"
      },
      "outputs": [],
      "source": [
        "\n",
        "import pandas as pd\n",
        "import numpy as np\n",
        "from matplotlib import pyplot as plt\n",
        "%matplotlib inline\n",
        "import matplotlib \n",
        "matplotlib.rcParams[\"figure.figsize\"] = (20,10)"
      ]
    },
    {
      "cell_type": "markdown",
      "source": [
        "## load the data into a dataframe, and clean the data"
      ],
      "metadata": {
        "id": "ukMeTj2lXwAY"
      }
    },
    {
      "cell_type": "code",
      "source": [
        "from google.colab import drive\n",
        "drive.mount('/content/drive')"
      ],
      "metadata": {
        "colab": {
          "base_uri": "https://localhost:8080/"
        },
        "id": "epqO-UnOWJu1",
        "outputId": "9284beef-88fa-4212-f566-cdb036d314e6"
      },
      "execution_count": null,
      "outputs": [
        {
          "output_type": "stream",
          "name": "stdout",
          "text": [
            "Mounted at /content/drive\n"
          ]
        }
      ]
    },
    {
      "cell_type": "code",
      "source": [
        "path = \"/content/drive/MyDrive/Bengaluru_House_Data.csv\"\n",
        "df1 = pd.read_csv(path)\n",
        "df1.head()"
      ],
      "metadata": {
        "colab": {
          "base_uri": "https://localhost:8080/",
          "height": 206
        },
        "id": "OhuCI2aIWXNk",
        "outputId": "4890614b-e9db-41d0-8728-59784090f8f5"
      },
      "execution_count": null,
      "outputs": [
        {
          "output_type": "execute_result",
          "data": {
            "text/plain": [
              "              area_type   availability                  location       size  \\\n",
              "0  Super built-up  Area         19-Dec  Electronic City Phase II      2 BHK   \n",
              "1            Plot  Area  Ready To Move          Chikka Tirupathi  4 Bedroom   \n",
              "2        Built-up  Area  Ready To Move               Uttarahalli      3 BHK   \n",
              "3  Super built-up  Area  Ready To Move        Lingadheeranahalli      3 BHK   \n",
              "4  Super built-up  Area  Ready To Move                  Kothanur      2 BHK   \n",
              "\n",
              "   society total_sqft  bath  balcony   price  \n",
              "0  Coomee        1056   2.0      1.0   39.07  \n",
              "1  Theanmp       2600   5.0      3.0  120.00  \n",
              "2      NaN       1440   2.0      3.0   62.00  \n",
              "3  Soiewre       1521   3.0      1.0   95.00  \n",
              "4      NaN       1200   2.0      1.0   51.00  "
            ],
            "text/html": [
              "\n",
              "  <div id=\"df-4cbe7f66-3a68-47d0-bcd3-2e8dbcf20bca\">\n",
              "    <div class=\"colab-df-container\">\n",
              "      <div>\n",
              "<style scoped>\n",
              "    .dataframe tbody tr th:only-of-type {\n",
              "        vertical-align: middle;\n",
              "    }\n",
              "\n",
              "    .dataframe tbody tr th {\n",
              "        vertical-align: top;\n",
              "    }\n",
              "\n",
              "    .dataframe thead th {\n",
              "        text-align: right;\n",
              "    }\n",
              "</style>\n",
              "<table border=\"1\" class=\"dataframe\">\n",
              "  <thead>\n",
              "    <tr style=\"text-align: right;\">\n",
              "      <th></th>\n",
              "      <th>area_type</th>\n",
              "      <th>availability</th>\n",
              "      <th>location</th>\n",
              "      <th>size</th>\n",
              "      <th>society</th>\n",
              "      <th>total_sqft</th>\n",
              "      <th>bath</th>\n",
              "      <th>balcony</th>\n",
              "      <th>price</th>\n",
              "    </tr>\n",
              "  </thead>\n",
              "  <tbody>\n",
              "    <tr>\n",
              "      <th>0</th>\n",
              "      <td>Super built-up  Area</td>\n",
              "      <td>19-Dec</td>\n",
              "      <td>Electronic City Phase II</td>\n",
              "      <td>2 BHK</td>\n",
              "      <td>Coomee</td>\n",
              "      <td>1056</td>\n",
              "      <td>2.0</td>\n",
              "      <td>1.0</td>\n",
              "      <td>39.07</td>\n",
              "    </tr>\n",
              "    <tr>\n",
              "      <th>1</th>\n",
              "      <td>Plot  Area</td>\n",
              "      <td>Ready To Move</td>\n",
              "      <td>Chikka Tirupathi</td>\n",
              "      <td>4 Bedroom</td>\n",
              "      <td>Theanmp</td>\n",
              "      <td>2600</td>\n",
              "      <td>5.0</td>\n",
              "      <td>3.0</td>\n",
              "      <td>120.00</td>\n",
              "    </tr>\n",
              "    <tr>\n",
              "      <th>2</th>\n",
              "      <td>Built-up  Area</td>\n",
              "      <td>Ready To Move</td>\n",
              "      <td>Uttarahalli</td>\n",
              "      <td>3 BHK</td>\n",
              "      <td>NaN</td>\n",
              "      <td>1440</td>\n",
              "      <td>2.0</td>\n",
              "      <td>3.0</td>\n",
              "      <td>62.00</td>\n",
              "    </tr>\n",
              "    <tr>\n",
              "      <th>3</th>\n",
              "      <td>Super built-up  Area</td>\n",
              "      <td>Ready To Move</td>\n",
              "      <td>Lingadheeranahalli</td>\n",
              "      <td>3 BHK</td>\n",
              "      <td>Soiewre</td>\n",
              "      <td>1521</td>\n",
              "      <td>3.0</td>\n",
              "      <td>1.0</td>\n",
              "      <td>95.00</td>\n",
              "    </tr>\n",
              "    <tr>\n",
              "      <th>4</th>\n",
              "      <td>Super built-up  Area</td>\n",
              "      <td>Ready To Move</td>\n",
              "      <td>Kothanur</td>\n",
              "      <td>2 BHK</td>\n",
              "      <td>NaN</td>\n",
              "      <td>1200</td>\n",
              "      <td>2.0</td>\n",
              "      <td>1.0</td>\n",
              "      <td>51.00</td>\n",
              "    </tr>\n",
              "  </tbody>\n",
              "</table>\n",
              "</div>\n",
              "      <button class=\"colab-df-convert\" onclick=\"convertToInteractive('df-4cbe7f66-3a68-47d0-bcd3-2e8dbcf20bca')\"\n",
              "              title=\"Convert this dataframe to an interactive table.\"\n",
              "              style=\"display:none;\">\n",
              "        \n",
              "  <svg xmlns=\"http://www.w3.org/2000/svg\" height=\"24px\"viewBox=\"0 0 24 24\"\n",
              "       width=\"24px\">\n",
              "    <path d=\"M0 0h24v24H0V0z\" fill=\"none\"/>\n",
              "    <path d=\"M18.56 5.44l.94 2.06.94-2.06 2.06-.94-2.06-.94-.94-2.06-.94 2.06-2.06.94zm-11 1L8.5 8.5l.94-2.06 2.06-.94-2.06-.94L8.5 2.5l-.94 2.06-2.06.94zm10 10l.94 2.06.94-2.06 2.06-.94-2.06-.94-.94-2.06-.94 2.06-2.06.94z\"/><path d=\"M17.41 7.96l-1.37-1.37c-.4-.4-.92-.59-1.43-.59-.52 0-1.04.2-1.43.59L10.3 9.45l-7.72 7.72c-.78.78-.78 2.05 0 2.83L4 21.41c.39.39.9.59 1.41.59.51 0 1.02-.2 1.41-.59l7.78-7.78 2.81-2.81c.8-.78.8-2.07 0-2.86zM5.41 20L4 18.59l7.72-7.72 1.47 1.35L5.41 20z\"/>\n",
              "  </svg>\n",
              "      </button>\n",
              "      \n",
              "  <style>\n",
              "    .colab-df-container {\n",
              "      display:flex;\n",
              "      flex-wrap:wrap;\n",
              "      gap: 12px;\n",
              "    }\n",
              "\n",
              "    .colab-df-convert {\n",
              "      background-color: #E8F0FE;\n",
              "      border: none;\n",
              "      border-radius: 50%;\n",
              "      cursor: pointer;\n",
              "      display: none;\n",
              "      fill: #1967D2;\n",
              "      height: 32px;\n",
              "      padding: 0 0 0 0;\n",
              "      width: 32px;\n",
              "    }\n",
              "\n",
              "    .colab-df-convert:hover {\n",
              "      background-color: #E2EBFA;\n",
              "      box-shadow: 0px 1px 2px rgba(60, 64, 67, 0.3), 0px 1px 3px 1px rgba(60, 64, 67, 0.15);\n",
              "      fill: #174EA6;\n",
              "    }\n",
              "\n",
              "    [theme=dark] .colab-df-convert {\n",
              "      background-color: #3B4455;\n",
              "      fill: #D2E3FC;\n",
              "    }\n",
              "\n",
              "    [theme=dark] .colab-df-convert:hover {\n",
              "      background-color: #434B5C;\n",
              "      box-shadow: 0px 1px 3px 1px rgba(0, 0, 0, 0.15);\n",
              "      filter: drop-shadow(0px 1px 2px rgba(0, 0, 0, 0.3));\n",
              "      fill: #FFFFFF;\n",
              "    }\n",
              "  </style>\n",
              "\n",
              "      <script>\n",
              "        const buttonEl =\n",
              "          document.querySelector('#df-4cbe7f66-3a68-47d0-bcd3-2e8dbcf20bca button.colab-df-convert');\n",
              "        buttonEl.style.display =\n",
              "          google.colab.kernel.accessAllowed ? 'block' : 'none';\n",
              "\n",
              "        async function convertToInteractive(key) {\n",
              "          const element = document.querySelector('#df-4cbe7f66-3a68-47d0-bcd3-2e8dbcf20bca');\n",
              "          const dataTable =\n",
              "            await google.colab.kernel.invokeFunction('convertToInteractive',\n",
              "                                                     [key], {});\n",
              "          if (!dataTable) return;\n",
              "\n",
              "          const docLinkHtml = 'Like what you see? Visit the ' +\n",
              "            '<a target=\"_blank\" href=https://colab.research.google.com/notebooks/data_table.ipynb>data table notebook</a>'\n",
              "            + ' to learn more about interactive tables.';\n",
              "          element.innerHTML = '';\n",
              "          dataTable['output_type'] = 'display_data';\n",
              "          await google.colab.output.renderOutput(dataTable, element);\n",
              "          const docLink = document.createElement('div');\n",
              "          docLink.innerHTML = docLinkHtml;\n",
              "          element.appendChild(docLink);\n",
              "        }\n",
              "      </script>\n",
              "    </div>\n",
              "  </div>\n",
              "  "
            ]
          },
          "metadata": {},
          "execution_count": 4
        }
      ]
    },
    {
      "cell_type": "code",
      "source": [
        "df1.shape"
      ],
      "metadata": {
        "colab": {
          "base_uri": "https://localhost:8080/"
        },
        "id": "H5pgk3-5WmcU",
        "outputId": "f70f4584-7d32-4f17-cd1a-7a47ad3119ec"
      },
      "execution_count": null,
      "outputs": [
        {
          "output_type": "execute_result",
          "data": {
            "text/plain": [
              "(13320, 9)"
            ]
          },
          "metadata": {},
          "execution_count": 5
        }
      ]
    },
    {
      "cell_type": "code",
      "source": [
        "df1.columns"
      ],
      "metadata": {
        "colab": {
          "base_uri": "https://localhost:8080/"
        },
        "id": "dg5IUdqTWshx",
        "outputId": "331a9df1-f6b3-49ca-a2a9-0f34955e27b7"
      },
      "execution_count": null,
      "outputs": [
        {
          "output_type": "execute_result",
          "data": {
            "text/plain": [
              "Index(['area_type', 'availability', 'location', 'size', 'society',\n",
              "       'total_sqft', 'bath', 'balcony', 'price'],\n",
              "      dtype='object')"
            ]
          },
          "metadata": {},
          "execution_count": 6
        }
      ]
    },
    {
      "cell_type": "code",
      "source": [
        "df1['area_type'].unique()"
      ],
      "metadata": {
        "colab": {
          "base_uri": "https://localhost:8080/"
        },
        "id": "Rg-Sgj_rWspc",
        "outputId": "fdf69174-1cbf-470d-ea87-71a41e4fc01b"
      },
      "execution_count": null,
      "outputs": [
        {
          "output_type": "execute_result",
          "data": {
            "text/plain": [
              "array(['Super built-up  Area', 'Plot  Area', 'Built-up  Area',\n",
              "       'Carpet  Area'], dtype=object)"
            ]
          },
          "metadata": {},
          "execution_count": 7
        }
      ]
    },
    {
      "cell_type": "code",
      "source": [
        "df1['area_type'].value_counts()"
      ],
      "metadata": {
        "colab": {
          "base_uri": "https://localhost:8080/"
        },
        "id": "NF2475L6Ww7y",
        "outputId": "fa09c5d4-766e-4517-f38a-672c061175df"
      },
      "execution_count": null,
      "outputs": [
        {
          "output_type": "execute_result",
          "data": {
            "text/plain": [
              "Super built-up  Area    8790\n",
              "Built-up  Area          2418\n",
              "Plot  Area              2025\n",
              "Carpet  Area              87\n",
              "Name: area_type, dtype: int64"
            ]
          },
          "metadata": {},
          "execution_count": 8
        }
      ]
    },
    {
      "cell_type": "markdown",
      "source": [
        "drop features that are not required to build our model"
      ],
      "metadata": {
        "id": "G9PsuW3BW6BW"
      }
    },
    {
      "cell_type": "code",
      "source": [
        "df2 = df1.drop(['area_type', 'society', 'balcony', 'availability'], axis = 'columns')\n",
        "df2.shape"
      ],
      "metadata": {
        "colab": {
          "base_uri": "https://localhost:8080/"
        },
        "id": "_BRqEJVXW3zy",
        "outputId": "b97723f5-a1e6-4465-abf0-df4c747a1290"
      },
      "execution_count": null,
      "outputs": [
        {
          "output_type": "execute_result",
          "data": {
            "text/plain": [
              "(13320, 5)"
            ]
          },
          "metadata": {},
          "execution_count": 10
        }
      ]
    },
    {
      "cell_type": "markdown",
      "source": [
        "## Data cleaning: handle NA values"
      ],
      "metadata": {
        "id": "oHyHKf0IXQLi"
      }
    },
    {
      "cell_type": "code",
      "source": [
        "df2.isnull().sum()"
      ],
      "metadata": {
        "colab": {
          "base_uri": "https://localhost:8080/"
        },
        "id": "UwRip9dhXPT9",
        "outputId": "960dcad1-5d5f-4e33-e6a6-48cc31a14a93"
      },
      "execution_count": null,
      "outputs": [
        {
          "output_type": "execute_result",
          "data": {
            "text/plain": [
              "location       1\n",
              "size          16\n",
              "total_sqft     0\n",
              "bath          73\n",
              "price          0\n",
              "dtype: int64"
            ]
          },
          "metadata": {},
          "execution_count": 11
        }
      ]
    },
    {
      "cell_type": "code",
      "source": [
        "df2.shape"
      ],
      "metadata": {
        "colab": {
          "base_uri": "https://localhost:8080/"
        },
        "id": "9-Q5w3a3XYsZ",
        "outputId": "a0d97d96-973f-4028-8e93-7758dd4cdb7a"
      },
      "execution_count": null,
      "outputs": [
        {
          "output_type": "execute_result",
          "data": {
            "text/plain": [
              "(13320, 5)"
            ]
          },
          "metadata": {},
          "execution_count": 12
        }
      ]
    },
    {
      "cell_type": "code",
      "source": [
        "df3 =df2.dropna()\n",
        "df3.isnull().sum()"
      ],
      "metadata": {
        "colab": {
          "base_uri": "https://localhost:8080/"
        },
        "id": "dEEquMlJXguZ",
        "outputId": "9c72a0e3-afab-487d-f49b-d2536f567816"
      },
      "execution_count": null,
      "outputs": [
        {
          "output_type": "execute_result",
          "data": {
            "text/plain": [
              "location      0\n",
              "size          0\n",
              "total_sqft    0\n",
              "bath          0\n",
              "price         0\n",
              "dtype: int64"
            ]
          },
          "metadata": {},
          "execution_count": 13
        }
      ]
    },
    {
      "cell_type": "code",
      "source": [
        "df3.shape"
      ],
      "metadata": {
        "colab": {
          "base_uri": "https://localhost:8080/"
        },
        "id": "LMyHruBWXm58",
        "outputId": "a5ae5821-8f29-428d-df95-da21f432cf6e"
      },
      "execution_count": null,
      "outputs": [
        {
          "output_type": "execute_result",
          "data": {
            "text/plain": [
              "(13246, 5)"
            ]
          },
          "metadata": {},
          "execution_count": 14
        }
      ]
    },
    {
      "cell_type": "markdown",
      "source": [
        "# Feature Engineering"
      ],
      "metadata": {
        "id": "TLgXOLCBXsHx"
      }
    },
    {
      "cell_type": "code",
      "source": [
        "# add new feature (integer) for bhk (Bedrooms Hall Kitchen)\n",
        "\n",
        "df3['bhk'] = df3['size'].apply(lambda x: int(x.split(' ')[0]))\n",
        "\n",
        "df3.bhk.unique() #there are home with 43 bedrooms!! "
      ],
      "metadata": {
        "colab": {
          "base_uri": "https://localhost:8080/"
        },
        "id": "OpKicm8HX4if",
        "outputId": "0507c34c-ac5b-4f25-f277-8ece47caeb73"
      },
      "execution_count": null,
      "outputs": [
        {
          "output_type": "stream",
          "name": "stderr",
          "text": [
            "/usr/local/lib/python3.7/dist-packages/ipykernel_launcher.py:3: SettingWithCopyWarning: \n",
            "A value is trying to be set on a copy of a slice from a DataFrame.\n",
            "Try using .loc[row_indexer,col_indexer] = value instead\n",
            "\n",
            "See the caveats in the documentation: https://pandas.pydata.org/pandas-docs/stable/user_guide/indexing.html#returning-a-view-versus-a-copy\n",
            "  This is separate from the ipykernel package so we can avoid doing imports until\n"
          ]
        },
        {
          "output_type": "execute_result",
          "data": {
            "text/plain": [
              "array([ 2,  4,  3,  6,  1,  8,  7,  5, 11,  9, 27, 10, 19, 16, 43, 14, 12,\n",
              "       13, 18])"
            ]
          },
          "metadata": {},
          "execution_count": 15
        }
      ]
    },
    {
      "cell_type": "code",
      "source": [
        "# explore total_sqft feature\n",
        "# convert value in total_sqft feature into float \n",
        "def is_float(x):\n",
        "  try:\n",
        "      float(x)\n",
        "  except:\n",
        "      return False\n",
        "  return True "
      ],
      "metadata": {
        "id": "cFgK8nDGYoY4"
      },
      "execution_count": null,
      "outputs": []
    },
    {
      "cell_type": "code",
      "source": [
        "2+3"
      ],
      "metadata": {
        "colab": {
          "base_uri": "https://localhost:8080/"
        },
        "id": "ZA2D06XtY8oy",
        "outputId": "54efc80d-ac8c-4161-c9d4-1563ef0aa731"
      },
      "execution_count": null,
      "outputs": [
        {
          "output_type": "execute_result",
          "data": {
            "text/plain": [
              "5"
            ]
          },
          "metadata": {},
          "execution_count": 18
        }
      ]
    },
    {
      "cell_type": "code",
      "source": [
        "df3[~df3['total_sqft'].apply(is_float)].head(10)"
      ],
      "metadata": {
        "colab": {
          "base_uri": "https://localhost:8080/",
          "height": 363
        },
        "id": "2GfysFMzZWgg",
        "outputId": "8c17b099-e287-44ed-fe61-a818ff4ec495"
      },
      "execution_count": null,
      "outputs": [
        {
          "output_type": "execute_result",
          "data": {
            "text/plain": [
              "               location       size      total_sqft  bath    price  bhk\n",
              "30            Yelahanka      4 BHK     2100 - 2850   4.0  186.000    4\n",
              "122              Hebbal      4 BHK     3067 - 8156   4.0  477.000    4\n",
              "137  8th Phase JP Nagar      2 BHK     1042 - 1105   2.0   54.005    2\n",
              "165            Sarjapur      2 BHK     1145 - 1340   2.0   43.490    2\n",
              "188            KR Puram      2 BHK     1015 - 1540   2.0   56.800    2\n",
              "410             Kengeri      1 BHK  34.46Sq. Meter   1.0   18.500    1\n",
              "549         Hennur Road      2 BHK     1195 - 1440   2.0   63.770    2\n",
              "648             Arekere  9 Bedroom       4125Perch   9.0  265.000    9\n",
              "661           Yelahanka      2 BHK     1120 - 1145   2.0   48.130    2\n",
              "672        Bettahalsoor  4 Bedroom     3090 - 5002   4.0  445.000    4"
            ],
            "text/html": [
              "\n",
              "  <div id=\"df-7c7eae46-cfa3-447f-bc86-acc7bfe1218b\">\n",
              "    <div class=\"colab-df-container\">\n",
              "      <div>\n",
              "<style scoped>\n",
              "    .dataframe tbody tr th:only-of-type {\n",
              "        vertical-align: middle;\n",
              "    }\n",
              "\n",
              "    .dataframe tbody tr th {\n",
              "        vertical-align: top;\n",
              "    }\n",
              "\n",
              "    .dataframe thead th {\n",
              "        text-align: right;\n",
              "    }\n",
              "</style>\n",
              "<table border=\"1\" class=\"dataframe\">\n",
              "  <thead>\n",
              "    <tr style=\"text-align: right;\">\n",
              "      <th></th>\n",
              "      <th>location</th>\n",
              "      <th>size</th>\n",
              "      <th>total_sqft</th>\n",
              "      <th>bath</th>\n",
              "      <th>price</th>\n",
              "      <th>bhk</th>\n",
              "    </tr>\n",
              "  </thead>\n",
              "  <tbody>\n",
              "    <tr>\n",
              "      <th>30</th>\n",
              "      <td>Yelahanka</td>\n",
              "      <td>4 BHK</td>\n",
              "      <td>2100 - 2850</td>\n",
              "      <td>4.0</td>\n",
              "      <td>186.000</td>\n",
              "      <td>4</td>\n",
              "    </tr>\n",
              "    <tr>\n",
              "      <th>122</th>\n",
              "      <td>Hebbal</td>\n",
              "      <td>4 BHK</td>\n",
              "      <td>3067 - 8156</td>\n",
              "      <td>4.0</td>\n",
              "      <td>477.000</td>\n",
              "      <td>4</td>\n",
              "    </tr>\n",
              "    <tr>\n",
              "      <th>137</th>\n",
              "      <td>8th Phase JP Nagar</td>\n",
              "      <td>2 BHK</td>\n",
              "      <td>1042 - 1105</td>\n",
              "      <td>2.0</td>\n",
              "      <td>54.005</td>\n",
              "      <td>2</td>\n",
              "    </tr>\n",
              "    <tr>\n",
              "      <th>165</th>\n",
              "      <td>Sarjapur</td>\n",
              "      <td>2 BHK</td>\n",
              "      <td>1145 - 1340</td>\n",
              "      <td>2.0</td>\n",
              "      <td>43.490</td>\n",
              "      <td>2</td>\n",
              "    </tr>\n",
              "    <tr>\n",
              "      <th>188</th>\n",
              "      <td>KR Puram</td>\n",
              "      <td>2 BHK</td>\n",
              "      <td>1015 - 1540</td>\n",
              "      <td>2.0</td>\n",
              "      <td>56.800</td>\n",
              "      <td>2</td>\n",
              "    </tr>\n",
              "    <tr>\n",
              "      <th>410</th>\n",
              "      <td>Kengeri</td>\n",
              "      <td>1 BHK</td>\n",
              "      <td>34.46Sq. Meter</td>\n",
              "      <td>1.0</td>\n",
              "      <td>18.500</td>\n",
              "      <td>1</td>\n",
              "    </tr>\n",
              "    <tr>\n",
              "      <th>549</th>\n",
              "      <td>Hennur Road</td>\n",
              "      <td>2 BHK</td>\n",
              "      <td>1195 - 1440</td>\n",
              "      <td>2.0</td>\n",
              "      <td>63.770</td>\n",
              "      <td>2</td>\n",
              "    </tr>\n",
              "    <tr>\n",
              "      <th>648</th>\n",
              "      <td>Arekere</td>\n",
              "      <td>9 Bedroom</td>\n",
              "      <td>4125Perch</td>\n",
              "      <td>9.0</td>\n",
              "      <td>265.000</td>\n",
              "      <td>9</td>\n",
              "    </tr>\n",
              "    <tr>\n",
              "      <th>661</th>\n",
              "      <td>Yelahanka</td>\n",
              "      <td>2 BHK</td>\n",
              "      <td>1120 - 1145</td>\n",
              "      <td>2.0</td>\n",
              "      <td>48.130</td>\n",
              "      <td>2</td>\n",
              "    </tr>\n",
              "    <tr>\n",
              "      <th>672</th>\n",
              "      <td>Bettahalsoor</td>\n",
              "      <td>4 Bedroom</td>\n",
              "      <td>3090 - 5002</td>\n",
              "      <td>4.0</td>\n",
              "      <td>445.000</td>\n",
              "      <td>4</td>\n",
              "    </tr>\n",
              "  </tbody>\n",
              "</table>\n",
              "</div>\n",
              "      <button class=\"colab-df-convert\" onclick=\"convertToInteractive('df-7c7eae46-cfa3-447f-bc86-acc7bfe1218b')\"\n",
              "              title=\"Convert this dataframe to an interactive table.\"\n",
              "              style=\"display:none;\">\n",
              "        \n",
              "  <svg xmlns=\"http://www.w3.org/2000/svg\" height=\"24px\"viewBox=\"0 0 24 24\"\n",
              "       width=\"24px\">\n",
              "    <path d=\"M0 0h24v24H0V0z\" fill=\"none\"/>\n",
              "    <path d=\"M18.56 5.44l.94 2.06.94-2.06 2.06-.94-2.06-.94-.94-2.06-.94 2.06-2.06.94zm-11 1L8.5 8.5l.94-2.06 2.06-.94-2.06-.94L8.5 2.5l-.94 2.06-2.06.94zm10 10l.94 2.06.94-2.06 2.06-.94-2.06-.94-.94-2.06-.94 2.06-2.06.94z\"/><path d=\"M17.41 7.96l-1.37-1.37c-.4-.4-.92-.59-1.43-.59-.52 0-1.04.2-1.43.59L10.3 9.45l-7.72 7.72c-.78.78-.78 2.05 0 2.83L4 21.41c.39.39.9.59 1.41.59.51 0 1.02-.2 1.41-.59l7.78-7.78 2.81-2.81c.8-.78.8-2.07 0-2.86zM5.41 20L4 18.59l7.72-7.72 1.47 1.35L5.41 20z\"/>\n",
              "  </svg>\n",
              "      </button>\n",
              "      \n",
              "  <style>\n",
              "    .colab-df-container {\n",
              "      display:flex;\n",
              "      flex-wrap:wrap;\n",
              "      gap: 12px;\n",
              "    }\n",
              "\n",
              "    .colab-df-convert {\n",
              "      background-color: #E8F0FE;\n",
              "      border: none;\n",
              "      border-radius: 50%;\n",
              "      cursor: pointer;\n",
              "      display: none;\n",
              "      fill: #1967D2;\n",
              "      height: 32px;\n",
              "      padding: 0 0 0 0;\n",
              "      width: 32px;\n",
              "    }\n",
              "\n",
              "    .colab-df-convert:hover {\n",
              "      background-color: #E2EBFA;\n",
              "      box-shadow: 0px 1px 2px rgba(60, 64, 67, 0.3), 0px 1px 3px 1px rgba(60, 64, 67, 0.15);\n",
              "      fill: #174EA6;\n",
              "    }\n",
              "\n",
              "    [theme=dark] .colab-df-convert {\n",
              "      background-color: #3B4455;\n",
              "      fill: #D2E3FC;\n",
              "    }\n",
              "\n",
              "    [theme=dark] .colab-df-convert:hover {\n",
              "      background-color: #434B5C;\n",
              "      box-shadow: 0px 1px 3px 1px rgba(0, 0, 0, 0.15);\n",
              "      filter: drop-shadow(0px 1px 2px rgba(0, 0, 0, 0.3));\n",
              "      fill: #FFFFFF;\n",
              "    }\n",
              "  </style>\n",
              "\n",
              "      <script>\n",
              "        const buttonEl =\n",
              "          document.querySelector('#df-7c7eae46-cfa3-447f-bc86-acc7bfe1218b button.colab-df-convert');\n",
              "        buttonEl.style.display =\n",
              "          google.colab.kernel.accessAllowed ? 'block' : 'none';\n",
              "\n",
              "        async function convertToInteractive(key) {\n",
              "          const element = document.querySelector('#df-7c7eae46-cfa3-447f-bc86-acc7bfe1218b');\n",
              "          const dataTable =\n",
              "            await google.colab.kernel.invokeFunction('convertToInteractive',\n",
              "                                                     [key], {});\n",
              "          if (!dataTable) return;\n",
              "\n",
              "          const docLinkHtml = 'Like what you see? Visit the ' +\n",
              "            '<a target=\"_blank\" href=https://colab.research.google.com/notebooks/data_table.ipynb>data table notebook</a>'\n",
              "            + ' to learn more about interactive tables.';\n",
              "          element.innerHTML = '';\n",
              "          dataTable['output_type'] = 'display_data';\n",
              "          await google.colab.output.renderOutput(dataTable, element);\n",
              "          const docLink = document.createElement('div');\n",
              "          docLink.innerHTML = docLinkHtml;\n",
              "          element.appendChild(docLink);\n",
              "        }\n",
              "      </script>\n",
              "    </div>\n",
              "  </div>\n",
              "  "
            ]
          },
          "metadata": {},
          "execution_count": 19
        }
      ]
    },
    {
      "cell_type": "markdown",
      "source": [
        "Most ranges indicate min and max values in the range, but there are values such as 34.46 sq.Meter or 2145Perch. For such cases, I could convert the value in Sq.Meter to Sq ft , or perch to sqft using unit conversion. However, here I will just drop such corner cases to keep things simple."
      ],
      "metadata": {
        "id": "loKy5LjBZfYX"
      }
    },
    {
      "cell_type": "code",
      "source": [
        "def convert_sqft_to_num(x):\n",
        "    tokens = x.split('-')\n",
        "    if len(tokens) == 2:\n",
        "        return (float(tokens[0]) + float(tokens[1]))/2\n",
        "    try:  \n",
        "        return float(x)\n",
        "    except:\n",
        "        return None\n",
        "        "
      ],
      "metadata": {
        "id": "JW_P9V2lZepl"
      },
      "execution_count": null,
      "outputs": []
    },
    {
      "cell_type": "code",
      "source": [
        "df4 = df3.copy()\n",
        "df4.total_sqft = df4.total_sqft.apply(convert_sqft_to_num)\n",
        "df4 = df4[df4.total_sqft.notnull()]\n",
        "df4.head(3)"
      ],
      "metadata": {
        "colab": {
          "base_uri": "https://localhost:8080/",
          "height": 143
        },
        "id": "w3ICPGaDaXK5",
        "outputId": "ffebd3e5-525d-4df1-ff95-31eaba05ab20"
      },
      "execution_count": null,
      "outputs": [
        {
          "output_type": "execute_result",
          "data": {
            "text/plain": [
              "                   location       size  total_sqft  bath   price  bhk\n",
              "0  Electronic City Phase II      2 BHK      1056.0   2.0   39.07    2\n",
              "1          Chikka Tirupathi  4 Bedroom      2600.0   5.0  120.00    4\n",
              "2               Uttarahalli      3 BHK      1440.0   2.0   62.00    3"
            ],
            "text/html": [
              "\n",
              "  <div id=\"df-f107de53-d09b-4948-a2ff-1de94e7fd601\">\n",
              "    <div class=\"colab-df-container\">\n",
              "      <div>\n",
              "<style scoped>\n",
              "    .dataframe tbody tr th:only-of-type {\n",
              "        vertical-align: middle;\n",
              "    }\n",
              "\n",
              "    .dataframe tbody tr th {\n",
              "        vertical-align: top;\n",
              "    }\n",
              "\n",
              "    .dataframe thead th {\n",
              "        text-align: right;\n",
              "    }\n",
              "</style>\n",
              "<table border=\"1\" class=\"dataframe\">\n",
              "  <thead>\n",
              "    <tr style=\"text-align: right;\">\n",
              "      <th></th>\n",
              "      <th>location</th>\n",
              "      <th>size</th>\n",
              "      <th>total_sqft</th>\n",
              "      <th>bath</th>\n",
              "      <th>price</th>\n",
              "      <th>bhk</th>\n",
              "    </tr>\n",
              "  </thead>\n",
              "  <tbody>\n",
              "    <tr>\n",
              "      <th>0</th>\n",
              "      <td>Electronic City Phase II</td>\n",
              "      <td>2 BHK</td>\n",
              "      <td>1056.0</td>\n",
              "      <td>2.0</td>\n",
              "      <td>39.07</td>\n",
              "      <td>2</td>\n",
              "    </tr>\n",
              "    <tr>\n",
              "      <th>1</th>\n",
              "      <td>Chikka Tirupathi</td>\n",
              "      <td>4 Bedroom</td>\n",
              "      <td>2600.0</td>\n",
              "      <td>5.0</td>\n",
              "      <td>120.00</td>\n",
              "      <td>4</td>\n",
              "    </tr>\n",
              "    <tr>\n",
              "      <th>2</th>\n",
              "      <td>Uttarahalli</td>\n",
              "      <td>3 BHK</td>\n",
              "      <td>1440.0</td>\n",
              "      <td>2.0</td>\n",
              "      <td>62.00</td>\n",
              "      <td>3</td>\n",
              "    </tr>\n",
              "  </tbody>\n",
              "</table>\n",
              "</div>\n",
              "      <button class=\"colab-df-convert\" onclick=\"convertToInteractive('df-f107de53-d09b-4948-a2ff-1de94e7fd601')\"\n",
              "              title=\"Convert this dataframe to an interactive table.\"\n",
              "              style=\"display:none;\">\n",
              "        \n",
              "  <svg xmlns=\"http://www.w3.org/2000/svg\" height=\"24px\"viewBox=\"0 0 24 24\"\n",
              "       width=\"24px\">\n",
              "    <path d=\"M0 0h24v24H0V0z\" fill=\"none\"/>\n",
              "    <path d=\"M18.56 5.44l.94 2.06.94-2.06 2.06-.94-2.06-.94-.94-2.06-.94 2.06-2.06.94zm-11 1L8.5 8.5l.94-2.06 2.06-.94-2.06-.94L8.5 2.5l-.94 2.06-2.06.94zm10 10l.94 2.06.94-2.06 2.06-.94-2.06-.94-.94-2.06-.94 2.06-2.06.94z\"/><path d=\"M17.41 7.96l-1.37-1.37c-.4-.4-.92-.59-1.43-.59-.52 0-1.04.2-1.43.59L10.3 9.45l-7.72 7.72c-.78.78-.78 2.05 0 2.83L4 21.41c.39.39.9.59 1.41.59.51 0 1.02-.2 1.41-.59l7.78-7.78 2.81-2.81c.8-.78.8-2.07 0-2.86zM5.41 20L4 18.59l7.72-7.72 1.47 1.35L5.41 20z\"/>\n",
              "  </svg>\n",
              "      </button>\n",
              "      \n",
              "  <style>\n",
              "    .colab-df-container {\n",
              "      display:flex;\n",
              "      flex-wrap:wrap;\n",
              "      gap: 12px;\n",
              "    }\n",
              "\n",
              "    .colab-df-convert {\n",
              "      background-color: #E8F0FE;\n",
              "      border: none;\n",
              "      border-radius: 50%;\n",
              "      cursor: pointer;\n",
              "      display: none;\n",
              "      fill: #1967D2;\n",
              "      height: 32px;\n",
              "      padding: 0 0 0 0;\n",
              "      width: 32px;\n",
              "    }\n",
              "\n",
              "    .colab-df-convert:hover {\n",
              "      background-color: #E2EBFA;\n",
              "      box-shadow: 0px 1px 2px rgba(60, 64, 67, 0.3), 0px 1px 3px 1px rgba(60, 64, 67, 0.15);\n",
              "      fill: #174EA6;\n",
              "    }\n",
              "\n",
              "    [theme=dark] .colab-df-convert {\n",
              "      background-color: #3B4455;\n",
              "      fill: #D2E3FC;\n",
              "    }\n",
              "\n",
              "    [theme=dark] .colab-df-convert:hover {\n",
              "      background-color: #434B5C;\n",
              "      box-shadow: 0px 1px 3px 1px rgba(0, 0, 0, 0.15);\n",
              "      filter: drop-shadow(0px 1px 2px rgba(0, 0, 0, 0.3));\n",
              "      fill: #FFFFFF;\n",
              "    }\n",
              "  </style>\n",
              "\n",
              "      <script>\n",
              "        const buttonEl =\n",
              "          document.querySelector('#df-f107de53-d09b-4948-a2ff-1de94e7fd601 button.colab-df-convert');\n",
              "        buttonEl.style.display =\n",
              "          google.colab.kernel.accessAllowed ? 'block' : 'none';\n",
              "\n",
              "        async function convertToInteractive(key) {\n",
              "          const element = document.querySelector('#df-f107de53-d09b-4948-a2ff-1de94e7fd601');\n",
              "          const dataTable =\n",
              "            await google.colab.kernel.invokeFunction('convertToInteractive',\n",
              "                                                     [key], {});\n",
              "          if (!dataTable) return;\n",
              "\n",
              "          const docLinkHtml = 'Like what you see? Visit the ' +\n",
              "            '<a target=\"_blank\" href=https://colab.research.google.com/notebooks/data_table.ipynb>data table notebook</a>'\n",
              "            + ' to learn more about interactive tables.';\n",
              "          element.innerHTML = '';\n",
              "          dataTable['output_type'] = 'display_data';\n",
              "          await google.colab.output.renderOutput(dataTable, element);\n",
              "          const docLink = document.createElement('div');\n",
              "          docLink.innerHTML = docLinkHtml;\n",
              "          element.appendChild(docLink);\n",
              "        }\n",
              "      </script>\n",
              "    </div>\n",
              "  </div>\n",
              "  "
            ]
          },
          "metadata": {},
          "execution_count": 27
        }
      ]
    },
    {
      "cell_type": "code",
      "source": [
        "df4.loc[30] #for this row, it shows that total_sqft as 2475 is an average of the range 2100-2850."
      ],
      "metadata": {
        "colab": {
          "base_uri": "https://localhost:8080/"
        },
        "id": "c0UEtVHwb-cI",
        "outputId": "0fe9f577-55da-4bcb-9157-33a163c62a6c"
      },
      "execution_count": null,
      "outputs": [
        {
          "output_type": "execute_result",
          "data": {
            "text/plain": [
              "location      Yelahanka\n",
              "size              4 BHK\n",
              "total_sqft       2475.0\n",
              "bath                4.0\n",
              "price             186.0\n",
              "bhk                   4\n",
              "Name: 30, dtype: object"
            ]
          },
          "metadata": {},
          "execution_count": 22
        }
      ]
    },
    {
      "cell_type": "code",
      "source": [
        "(2100+2850)/2"
      ],
      "metadata": {
        "colab": {
          "base_uri": "https://localhost:8080/"
        },
        "id": "eow6WfAUcEbc",
        "outputId": "d71783ff-3dd1-4c90-e511-f78ce75bdbc7"
      },
      "execution_count": null,
      "outputs": [
        {
          "output_type": "execute_result",
          "data": {
            "text/plain": [
              "2475.0"
            ]
          },
          "metadata": {},
          "execution_count": 23
        }
      ]
    },
    {
      "cell_type": "markdown",
      "source": [
        "Add new feature called price per square feet"
      ],
      "metadata": {
        "id": "_w92D63Edzkq"
      }
    },
    {
      "cell_type": "code",
      "source": [
        "df5 = df4.copy()\n",
        "df5['price_per_sqft'] = df5['price']*100000/df5['total_sqft']\n",
        "df5.head()"
      ],
      "metadata": {
        "colab": {
          "base_uri": "https://localhost:8080/",
          "height": 206
        },
        "id": "Yo_BX-wFdLhZ",
        "outputId": "ddcdea77-080c-43b2-bab6-fefbaac1c749"
      },
      "execution_count": null,
      "outputs": [
        {
          "output_type": "execute_result",
          "data": {
            "text/plain": [
              "                   location       size  total_sqft  bath   price  bhk  \\\n",
              "0  Electronic City Phase II      2 BHK      1056.0   2.0   39.07    2   \n",
              "1          Chikka Tirupathi  4 Bedroom      2600.0   5.0  120.00    4   \n",
              "2               Uttarahalli      3 BHK      1440.0   2.0   62.00    3   \n",
              "3        Lingadheeranahalli      3 BHK      1521.0   3.0   95.00    3   \n",
              "4                  Kothanur      2 BHK      1200.0   2.0   51.00    2   \n",
              "\n",
              "   price_per_sqft  \n",
              "0     3699.810606  \n",
              "1     4615.384615  \n",
              "2     4305.555556  \n",
              "3     6245.890861  \n",
              "4     4250.000000  "
            ],
            "text/html": [
              "\n",
              "  <div id=\"df-9a7dc8a0-6c64-49f9-8da5-8506a23a71b2\">\n",
              "    <div class=\"colab-df-container\">\n",
              "      <div>\n",
              "<style scoped>\n",
              "    .dataframe tbody tr th:only-of-type {\n",
              "        vertical-align: middle;\n",
              "    }\n",
              "\n",
              "    .dataframe tbody tr th {\n",
              "        vertical-align: top;\n",
              "    }\n",
              "\n",
              "    .dataframe thead th {\n",
              "        text-align: right;\n",
              "    }\n",
              "</style>\n",
              "<table border=\"1\" class=\"dataframe\">\n",
              "  <thead>\n",
              "    <tr style=\"text-align: right;\">\n",
              "      <th></th>\n",
              "      <th>location</th>\n",
              "      <th>size</th>\n",
              "      <th>total_sqft</th>\n",
              "      <th>bath</th>\n",
              "      <th>price</th>\n",
              "      <th>bhk</th>\n",
              "      <th>price_per_sqft</th>\n",
              "    </tr>\n",
              "  </thead>\n",
              "  <tbody>\n",
              "    <tr>\n",
              "      <th>0</th>\n",
              "      <td>Electronic City Phase II</td>\n",
              "      <td>2 BHK</td>\n",
              "      <td>1056.0</td>\n",
              "      <td>2.0</td>\n",
              "      <td>39.07</td>\n",
              "      <td>2</td>\n",
              "      <td>3699.810606</td>\n",
              "    </tr>\n",
              "    <tr>\n",
              "      <th>1</th>\n",
              "      <td>Chikka Tirupathi</td>\n",
              "      <td>4 Bedroom</td>\n",
              "      <td>2600.0</td>\n",
              "      <td>5.0</td>\n",
              "      <td>120.00</td>\n",
              "      <td>4</td>\n",
              "      <td>4615.384615</td>\n",
              "    </tr>\n",
              "    <tr>\n",
              "      <th>2</th>\n",
              "      <td>Uttarahalli</td>\n",
              "      <td>3 BHK</td>\n",
              "      <td>1440.0</td>\n",
              "      <td>2.0</td>\n",
              "      <td>62.00</td>\n",
              "      <td>3</td>\n",
              "      <td>4305.555556</td>\n",
              "    </tr>\n",
              "    <tr>\n",
              "      <th>3</th>\n",
              "      <td>Lingadheeranahalli</td>\n",
              "      <td>3 BHK</td>\n",
              "      <td>1521.0</td>\n",
              "      <td>3.0</td>\n",
              "      <td>95.00</td>\n",
              "      <td>3</td>\n",
              "      <td>6245.890861</td>\n",
              "    </tr>\n",
              "    <tr>\n",
              "      <th>4</th>\n",
              "      <td>Kothanur</td>\n",
              "      <td>2 BHK</td>\n",
              "      <td>1200.0</td>\n",
              "      <td>2.0</td>\n",
              "      <td>51.00</td>\n",
              "      <td>2</td>\n",
              "      <td>4250.000000</td>\n",
              "    </tr>\n",
              "  </tbody>\n",
              "</table>\n",
              "</div>\n",
              "      <button class=\"colab-df-convert\" onclick=\"convertToInteractive('df-9a7dc8a0-6c64-49f9-8da5-8506a23a71b2')\"\n",
              "              title=\"Convert this dataframe to an interactive table.\"\n",
              "              style=\"display:none;\">\n",
              "        \n",
              "  <svg xmlns=\"http://www.w3.org/2000/svg\" height=\"24px\"viewBox=\"0 0 24 24\"\n",
              "       width=\"24px\">\n",
              "    <path d=\"M0 0h24v24H0V0z\" fill=\"none\"/>\n",
              "    <path d=\"M18.56 5.44l.94 2.06.94-2.06 2.06-.94-2.06-.94-.94-2.06-.94 2.06-2.06.94zm-11 1L8.5 8.5l.94-2.06 2.06-.94-2.06-.94L8.5 2.5l-.94 2.06-2.06.94zm10 10l.94 2.06.94-2.06 2.06-.94-2.06-.94-.94-2.06-.94 2.06-2.06.94z\"/><path d=\"M17.41 7.96l-1.37-1.37c-.4-.4-.92-.59-1.43-.59-.52 0-1.04.2-1.43.59L10.3 9.45l-7.72 7.72c-.78.78-.78 2.05 0 2.83L4 21.41c.39.39.9.59 1.41.59.51 0 1.02-.2 1.41-.59l7.78-7.78 2.81-2.81c.8-.78.8-2.07 0-2.86zM5.41 20L4 18.59l7.72-7.72 1.47 1.35L5.41 20z\"/>\n",
              "  </svg>\n",
              "      </button>\n",
              "      \n",
              "  <style>\n",
              "    .colab-df-container {\n",
              "      display:flex;\n",
              "      flex-wrap:wrap;\n",
              "      gap: 12px;\n",
              "    }\n",
              "\n",
              "    .colab-df-convert {\n",
              "      background-color: #E8F0FE;\n",
              "      border: none;\n",
              "      border-radius: 50%;\n",
              "      cursor: pointer;\n",
              "      display: none;\n",
              "      fill: #1967D2;\n",
              "      height: 32px;\n",
              "      padding: 0 0 0 0;\n",
              "      width: 32px;\n",
              "    }\n",
              "\n",
              "    .colab-df-convert:hover {\n",
              "      background-color: #E2EBFA;\n",
              "      box-shadow: 0px 1px 2px rgba(60, 64, 67, 0.3), 0px 1px 3px 1px rgba(60, 64, 67, 0.15);\n",
              "      fill: #174EA6;\n",
              "    }\n",
              "\n",
              "    [theme=dark] .colab-df-convert {\n",
              "      background-color: #3B4455;\n",
              "      fill: #D2E3FC;\n",
              "    }\n",
              "\n",
              "    [theme=dark] .colab-df-convert:hover {\n",
              "      background-color: #434B5C;\n",
              "      box-shadow: 0px 1px 3px 1px rgba(0, 0, 0, 0.15);\n",
              "      filter: drop-shadow(0px 1px 2px rgba(0, 0, 0, 0.3));\n",
              "      fill: #FFFFFF;\n",
              "    }\n",
              "  </style>\n",
              "\n",
              "      <script>\n",
              "        const buttonEl =\n",
              "          document.querySelector('#df-9a7dc8a0-6c64-49f9-8da5-8506a23a71b2 button.colab-df-convert');\n",
              "        buttonEl.style.display =\n",
              "          google.colab.kernel.accessAllowed ? 'block' : 'none';\n",
              "\n",
              "        async function convertToInteractive(key) {\n",
              "          const element = document.querySelector('#df-9a7dc8a0-6c64-49f9-8da5-8506a23a71b2');\n",
              "          const dataTable =\n",
              "            await google.colab.kernel.invokeFunction('convertToInteractive',\n",
              "                                                     [key], {});\n",
              "          if (!dataTable) return;\n",
              "\n",
              "          const docLinkHtml = 'Like what you see? Visit the ' +\n",
              "            '<a target=\"_blank\" href=https://colab.research.google.com/notebooks/data_table.ipynb>data table notebook</a>'\n",
              "            + ' to learn more about interactive tables.';\n",
              "          element.innerHTML = '';\n",
              "          dataTable['output_type'] = 'display_data';\n",
              "          await google.colab.output.renderOutput(dataTable, element);\n",
              "          const docLink = document.createElement('div');\n",
              "          docLink.innerHTML = docLinkHtml;\n",
              "          element.appendChild(docLink);\n",
              "        }\n",
              "      </script>\n",
              "    </div>\n",
              "  </div>\n",
              "  "
            ]
          },
          "metadata": {},
          "execution_count": 32
        }
      ]
    },
    {
      "cell_type": "code",
      "source": [
        "df5_stats = df5['price_per_sqft'].describe()\n",
        "df5_stats"
      ],
      "metadata": {
        "colab": {
          "base_uri": "https://localhost:8080/"
        },
        "id": "Yd_WZQk5fMn7",
        "outputId": "e625673c-ec02-49d0-bbc1-abd80fa6f268"
      },
      "execution_count": null,
      "outputs": [
        {
          "output_type": "execute_result",
          "data": {
            "text/plain": [
              "count    1.320000e+04\n",
              "mean     7.920759e+03\n",
              "std      1.067272e+05\n",
              "min      2.678298e+02\n",
              "25%      4.267701e+03\n",
              "50%      5.438331e+03\n",
              "75%      7.317073e+03\n",
              "max      1.200000e+07\n",
              "Name: price_per_sqft, dtype: float64"
            ]
          },
          "metadata": {},
          "execution_count": 36
        }
      ]
    },
    {
      "cell_type": "code",
      "source": [
        "df5.to_csv(\"bhp.csv\", index= False)"
      ],
      "metadata": {
        "id": "9gOAKwvcfR2V"
      },
      "execution_count": null,
      "outputs": []
    },
    {
      "cell_type": "markdown",
      "source": [
        "Check the number of locations, and how many rows are available in the dataset. Location is a categorical variable."
      ],
      "metadata": {
        "id": "-SWdC7Kfd5Rd"
      }
    },
    {
      "cell_type": "code",
      "source": [
        "#check the number of locations\n",
        "\n",
        "print(len(df5.location.unique()))\n",
        "print(df5.location.unique())\n"
      ],
      "metadata": {
        "colab": {
          "base_uri": "https://localhost:8080/"
        },
        "id": "-C7qXaphdn_r",
        "outputId": "9de58a92-1dc4-4c14-bc64-7b8f8e240b01"
      },
      "execution_count": null,
      "outputs": [
        {
          "output_type": "stream",
          "name": "stdout",
          "text": [
            "241\n",
            "['Electronic City Phase II' 'Chikka Tirupathi' 'Uttarahalli'\n",
            " 'Lingadheeranahalli' 'Kothanur' 'Whitefield' 'Old Airport Road'\n",
            " 'Rajaji Nagar' 'Marathahalli' 'other' '7th Phase JP Nagar' 'Gottigere'\n",
            " 'Sarjapur' 'Mysore Road' 'Bisuvanahalli' 'Raja Rajeshwari Nagar'\n",
            " 'Kengeri' 'Binny Pete' 'Thanisandra' 'Bellandur' 'Electronic City'\n",
            " 'Ramagondanahalli' 'Yelahanka' 'Hebbal' 'Kasturi Nagar' 'Kanakpura Road'\n",
            " 'Electronics City Phase 1' 'Kundalahalli' 'Chikkalasandra'\n",
            " 'Murugeshpalya' 'Sarjapur  Road' 'HSR Layout' 'Doddathoguru' 'KR Puram'\n",
            " 'Bhoganhalli' 'Lakshminarayana Pura' 'Begur Road' 'Varthur'\n",
            " 'Bommanahalli' 'Gunjur' 'Devarachikkanahalli' 'Hegde Nagar'\n",
            " 'Haralur Road' 'Hennur Road' 'Kothannur' 'Kalena Agrahara'\n",
            " 'Kaval Byrasandra' 'ISRO Layout' 'Garudachar Palya' 'EPIP Zone'\n",
            " 'Dasanapura' 'Kasavanhalli' 'Sanjay nagar' 'Domlur'\n",
            " 'Sarjapura - Attibele Road' 'Yeshwanthpur' 'Chandapura' 'Nagarbhavi'\n",
            " 'Devanahalli' 'Ramamurthy Nagar' 'Malleshwaram' 'Akshaya Nagar'\n",
            " 'Shampura' 'Kadugodi' 'LB Shastri Nagar' 'Hormavu' 'Vishwapriya Layout'\n",
            " 'Kudlu Gate' '8th Phase JP Nagar' 'Bommasandra Industrial Area'\n",
            " 'Anandapura' 'Vishveshwarya Layout' 'Kengeri Satellite Town'\n",
            " 'Kannamangala' 'Hulimavu' 'Mahalakshmi Layout' 'Hosa Road' 'Attibele'\n",
            " 'CV Raman Nagar' 'Kumaraswami Layout' 'Nagavara' 'Hebbal Kempapura'\n",
            " 'Vijayanagar' 'Pattandur Agrahara' 'Nagasandra' 'Kogilu' 'Panathur'\n",
            " 'Padmanabhanagar' '1st Block Jayanagar' 'Kammasandra' 'Dasarahalli'\n",
            " 'Magadi Road' 'Koramangala' 'Dommasandra' 'Budigere' 'Kalyan nagar'\n",
            " 'OMBR Layout' 'Horamavu Agara' 'Ambedkar Nagar' 'Talaghattapura'\n",
            " 'Balagere' 'Jigani' 'Gollarapalya Hosahalli' 'Old Madras Road'\n",
            " 'Kaggadasapura' '9th Phase JP Nagar' 'Jakkur' 'TC Palaya' 'Giri Nagar'\n",
            " 'Singasandra' 'AECS Layout' 'Mallasandra' 'Begur' 'JP Nagar'\n",
            " 'Malleshpalya' 'Munnekollal' 'Kaggalipura' '6th Phase JP Nagar' 'Ulsoor'\n",
            " 'Thigalarapalya' 'Somasundara Palya' 'Basaveshwara Nagar' 'Bommasandra'\n",
            " 'Ardendale' 'Harlur' 'Kodihalli' 'Narayanapura' 'Bannerghatta Road'\n",
            " 'Hennur' '5th Phase JP Nagar' 'Kodigehaali' 'Billekahalli' 'Jalahalli'\n",
            " 'Mahadevpura' 'Anekal' 'Sompura' 'Dodda Nekkundi' 'Hosur Road'\n",
            " 'Battarahalli' 'Sultan Palaya' 'Ambalipura' 'Hoodi' 'Brookefield'\n",
            " 'Yelenahalli' 'Vittasandra' '2nd Stage Nagarbhavi' 'Vidyaranyapura'\n",
            " 'Amruthahalli' 'Kodigehalli' 'Subramanyapura' 'Basavangudi'\n",
            " 'Kenchenahalli' 'Banjara Layout' 'Kereguddadahalli' 'Kambipura'\n",
            " 'Banashankari Stage III' 'Sector 7 HSR Layout' 'Rajiv Nagar' 'Arekere'\n",
            " 'Mico Layout' 'Kammanahalli' 'Banashankari' 'Chikkabanavar' 'HRBR Layout'\n",
            " 'Nehru Nagar' 'Kanakapura' 'Konanakunte' 'Margondanahalli' 'R.T. Nagar'\n",
            " 'Tumkur Road' 'Vasanthapura' 'GM Palaya' 'Jalahalli East' 'Hosakerehalli'\n",
            " 'Indira Nagar' 'Kodichikkanahalli' 'Varthur Road' 'Anjanapura' 'Abbigere'\n",
            " 'Tindlu' 'Gubbalala' 'Parappana Agrahara' 'Cunningham Road' 'Kudlu'\n",
            " 'Banashankari Stage VI' 'Cox Town' 'Kathriguppe' 'HBR Layout'\n",
            " 'Yelahanka New Town' 'Sahakara Nagar' 'Rachenahalli' 'Yelachenahalli'\n",
            " 'Green Glen Layout' 'Thubarahalli' 'Horamavu Banaswadi'\n",
            " '1st Phase JP Nagar' 'NGR Layout' 'Seegehalli' 'BEML Layout' 'NRI Layout'\n",
            " 'ITPL' 'Babusapalaya' 'Iblur Village' 'Ananth Nagar' 'Channasandra'\n",
            " 'Choodasandra' 'Kaikondrahalli' 'Neeladri Nagar' 'Frazer Town'\n",
            " 'Cooke Town' 'Doddakallasandra' 'Chamrajpet' 'Rayasandra'\n",
            " '5th Block Hbr Layout' 'Pai Layout' 'Banashankari Stage V' 'Sonnenahalli'\n",
            " 'Benson Town' '2nd Phase Judicial Layout' 'Poorna Pragna Layout'\n",
            " 'Judicial Layout' 'Banashankari Stage II' 'Karuna Nagar' 'Bannerghatta'\n",
            " 'Marsur' 'Bommenahalli' 'Laggere' 'Prithvi Layout' 'Banaswadi'\n",
            " 'Sector 2 HSR Layout' 'Shivaji Nagar' 'Badavala Nagar' 'Nagavarapalya'\n",
            " 'BTM Layout' 'BTM 2nd Stage' 'Hoskote' 'Doddaballapur' 'Sarakki Nagar'\n",
            " 'Bharathi Nagar' 'HAL 2nd Stage' 'Kadubeesanahalli']\n"
          ]
        }
      ]
    },
    {
      "cell_type": "markdown",
      "source": [
        "There are 1,300 locations, which is a big number. To handle the text data, we convert it into dummy columns using one hot encoding. \n",
        "We need to apply dimensionality reduction technique to reduce the number of locations."
      ],
      "metadata": {
        "id": "wmWHRSvhePw6"
      }
    },
    {
      "cell_type": "code",
      "source": [
        "# strip any extra spaces from the location. (leading spaces/ spaces at the end)\n",
        "\n",
        "df5.location =df5.location.apply(lambda x: x.strip())\n",
        "location_stats = df5['location'].value_counts(ascending= False)\n",
        "location_stats"
      ],
      "metadata": {
        "colab": {
          "base_uri": "https://localhost:8080/"
        },
        "id": "BrRGAQkEePPi",
        "outputId": "2cae20f5-ab38-4ebd-df7a-e8be682cdb5a"
      },
      "execution_count": null,
      "outputs": [
        {
          "output_type": "execute_result",
          "data": {
            "text/plain": [
              "Whitefield                   533\n",
              "Sarjapur  Road               392\n",
              "Electronic City              304\n",
              "Kanakpura Road               264\n",
              "Thanisandra                  235\n",
              "                            ... \n",
              "Rajanna Layout                 1\n",
              "Subramanyanagar                1\n",
              "Lakshmipura Vidyaanyapura      1\n",
              "Malur Hosur Road               1\n",
              "Abshot Layout                  1\n",
              "Name: location, Length: 1287, dtype: int64"
            ]
          },
          "metadata": {},
          "execution_count": 38
        }
      ]
    },
    {
      "cell_type": "code",
      "source": [
        "location_stats = df5.groupby('location')['location'].agg('count').sort_values(ascending = False)\n",
        "location_stats"
      ],
      "metadata": {
        "colab": {
          "base_uri": "https://localhost:8080/"
        },
        "id": "Vmg041F2fwya",
        "outputId": "698b57b6-40e7-42c6-a17f-c5210e033e57"
      },
      "execution_count": null,
      "outputs": [
        {
          "output_type": "execute_result",
          "data": {
            "text/plain": [
              "location\n",
              "Whitefield               533\n",
              "Sarjapur  Road           392\n",
              "Electronic City          304\n",
              "Kanakpura Road           264\n",
              "Thanisandra              235\n",
              "                        ... \n",
              "1 Giri Nagar               1\n",
              "Kanakapura Road,           1\n",
              "Kanakapura main  Road      1\n",
              "Kannur                     1\n",
              "whitefiled                 1\n",
              "Name: location, Length: 1287, dtype: int64"
            ]
          },
          "metadata": {},
          "execution_count": 40
        }
      ]
    },
    {
      "cell_type": "code",
      "source": [
        "len(location_stats[location_stats <= 10])"
      ],
      "metadata": {
        "colab": {
          "base_uri": "https://localhost:8080/"
        },
        "id": "hEO0xuBngUtE",
        "outputId": "10cfe711-664c-4f98-ed01-679c84e30286"
      },
      "execution_count": null,
      "outputs": [
        {
          "output_type": "execute_result",
          "data": {
            "text/plain": [
              "1047"
            ]
          },
          "metadata": {},
          "execution_count": 41
        }
      ]
    },
    {
      "cell_type": "code",
      "source": [
        "location_stats.values.sum()"
      ],
      "metadata": {
        "colab": {
          "base_uri": "https://localhost:8080/"
        },
        "id": "-qa9UtgOht2v",
        "outputId": "e5fc4ff5-6bcb-4b99-a7c8-bb68c2953b4c"
      },
      "execution_count": null,
      "outputs": [
        {
          "output_type": "execute_result",
          "data": {
            "text/plain": [
              "13200"
            ]
          },
          "metadata": {},
          "execution_count": 49
        }
      ]
    },
    {
      "cell_type": "code",
      "source": [
        "len(location_stats[location_stats>10])"
      ],
      "metadata": {
        "colab": {
          "base_uri": "https://localhost:8080/"
        },
        "id": "IN7B2qhZhxdF",
        "outputId": "280f5516-aede-40db-d70d-4614de376245"
      },
      "execution_count": null,
      "outputs": [
        {
          "output_type": "execute_result",
          "data": {
            "text/plain": [
              "240"
            ]
          },
          "metadata": {},
          "execution_count": 50
        }
      ]
    },
    {
      "cell_type": "code",
      "source": [
        "len(location_stats)"
      ],
      "metadata": {
        "colab": {
          "base_uri": "https://localhost:8080/"
        },
        "id": "hx454YxQh1T2",
        "outputId": "0e881957-4720-4949-f14f-6f9eab80c378"
      },
      "execution_count": null,
      "outputs": [
        {
          "output_type": "execute_result",
          "data": {
            "text/plain": [
              "1287"
            ]
          },
          "metadata": {},
          "execution_count": 51
        }
      ]
    },
    {
      "cell_type": "markdown",
      "source": [
        "## Dimensionality Reduction\n",
        "\n",
        "Any location having less than 10 data points should be tagged as \"other\" location. This way, number of categories can be reduced by huge amount. Later on when we do one-hot-encoding, it will help us with having fewer dummy columns."
      ],
      "metadata": {
        "id": "WcpphPvbho6T"
      }
    },
    {
      "cell_type": "code",
      "source": [
        "location_stats_less_than_10 = location_stats[location_stats <= 10]\n",
        "location_stats_less_than_10"
      ],
      "metadata": {
        "colab": {
          "base_uri": "https://localhost:8080/"
        },
        "id": "cqTEuFLCgbxh",
        "outputId": "7baad09e-3716-4876-fa99-fd5cd9cb2227"
      },
      "execution_count": null,
      "outputs": [
        {
          "output_type": "execute_result",
          "data": {
            "text/plain": [
              "location\n",
              "Sadashiva Nagar          10\n",
              "Naganathapura            10\n",
              "Basapura                 10\n",
              "Nagadevanahalli          10\n",
              "Kalkere                  10\n",
              "                         ..\n",
              "1 Giri Nagar              1\n",
              "Kanakapura Road,          1\n",
              "Kanakapura main  Road     1\n",
              "Kannur                    1\n",
              "whitefiled                1\n",
              "Name: location, Length: 1047, dtype: int64"
            ]
          },
          "metadata": {},
          "execution_count": 43
        }
      ]
    },
    {
      "cell_type": "code",
      "source": [
        "len(df5.location.unique())"
      ],
      "metadata": {
        "colab": {
          "base_uri": "https://localhost:8080/"
        },
        "id": "_lN2vzhjgjOn",
        "outputId": "416d0174-f7d4-4d8f-fa39-d1dc26cc49bd"
      },
      "execution_count": null,
      "outputs": [
        {
          "output_type": "execute_result",
          "data": {
            "text/plain": [
              "1287"
            ]
          },
          "metadata": {},
          "execution_count": 44
        }
      ]
    },
    {
      "cell_type": "code",
      "source": [
        "df5.location = df5.location.apply(lambda x: 'other' if x in location_stats_less_than_10 else x )"
      ],
      "metadata": {
        "id": "_nderyRVgrCP"
      },
      "execution_count": null,
      "outputs": []
    },
    {
      "cell_type": "code",
      "source": [
        "len(df5.location.unique()) #only have 241 for one-hot-encoding"
      ],
      "metadata": {
        "colab": {
          "base_uri": "https://localhost:8080/"
        },
        "id": "NIBCKVPngz4g",
        "outputId": "0b525182-bb47-42e7-e53f-0fa995b08571"
      },
      "execution_count": null,
      "outputs": [
        {
          "output_type": "execute_result",
          "data": {
            "text/plain": [
              "241"
            ]
          },
          "metadata": {},
          "execution_count": 46
        }
      ]
    },
    {
      "cell_type": "code",
      "source": [
        "df5.head(100) #good! some locations have turned to \"other\""
      ],
      "metadata": {
        "colab": {
          "base_uri": "https://localhost:8080/",
          "height": 424
        },
        "id": "4lMxmjT6g76w",
        "outputId": "074357cf-837f-49ec-d447-70b83fa654b0"
      },
      "execution_count": null,
      "outputs": [
        {
          "output_type": "execute_result",
          "data": {
            "text/plain": [
              "                      location       size  total_sqft  bath   price  bhk  \\\n",
              "0     Electronic City Phase II      2 BHK      1056.0   2.0   39.07    2   \n",
              "1             Chikka Tirupathi  4 Bedroom      2600.0   5.0  120.00    4   \n",
              "2                  Uttarahalli      3 BHK      1440.0   2.0   62.00    3   \n",
              "3           Lingadheeranahalli      3 BHK      1521.0   3.0   95.00    3   \n",
              "4                     Kothanur      2 BHK      1200.0   2.0   51.00    2   \n",
              "..                         ...        ...         ...   ...     ...  ...   \n",
              "97   Sarjapura - Attibele Road      3 BHK      1330.0   2.0   48.00    3   \n",
              "98                       other      2 BHK      1200.0   2.0   65.00    2   \n",
              "99                       other  3 Bedroom      1200.0   3.0   90.00    3   \n",
              "100               Yeshwanthpur      3 BHK      2502.0   3.0  138.00    3   \n",
              "101                 Chandapura      2 BHK       650.0   1.0   17.00    2   \n",
              "\n",
              "     price_per_sqft  \n",
              "0       3699.810606  \n",
              "1       4615.384615  \n",
              "2       4305.555556  \n",
              "3       6245.890861  \n",
              "4       4250.000000  \n",
              "..              ...  \n",
              "97      3609.022556  \n",
              "98      5416.666667  \n",
              "99      7500.000000  \n",
              "100     5515.587530  \n",
              "101     2615.384615  \n",
              "\n",
              "[100 rows x 7 columns]"
            ],
            "text/html": [
              "\n",
              "  <div id=\"df-aff90bfb-0141-41da-a464-3a64faa22918\">\n",
              "    <div class=\"colab-df-container\">\n",
              "      <div>\n",
              "<style scoped>\n",
              "    .dataframe tbody tr th:only-of-type {\n",
              "        vertical-align: middle;\n",
              "    }\n",
              "\n",
              "    .dataframe tbody tr th {\n",
              "        vertical-align: top;\n",
              "    }\n",
              "\n",
              "    .dataframe thead th {\n",
              "        text-align: right;\n",
              "    }\n",
              "</style>\n",
              "<table border=\"1\" class=\"dataframe\">\n",
              "  <thead>\n",
              "    <tr style=\"text-align: right;\">\n",
              "      <th></th>\n",
              "      <th>location</th>\n",
              "      <th>size</th>\n",
              "      <th>total_sqft</th>\n",
              "      <th>bath</th>\n",
              "      <th>price</th>\n",
              "      <th>bhk</th>\n",
              "      <th>price_per_sqft</th>\n",
              "    </tr>\n",
              "  </thead>\n",
              "  <tbody>\n",
              "    <tr>\n",
              "      <th>0</th>\n",
              "      <td>Electronic City Phase II</td>\n",
              "      <td>2 BHK</td>\n",
              "      <td>1056.0</td>\n",
              "      <td>2.0</td>\n",
              "      <td>39.07</td>\n",
              "      <td>2</td>\n",
              "      <td>3699.810606</td>\n",
              "    </tr>\n",
              "    <tr>\n",
              "      <th>1</th>\n",
              "      <td>Chikka Tirupathi</td>\n",
              "      <td>4 Bedroom</td>\n",
              "      <td>2600.0</td>\n",
              "      <td>5.0</td>\n",
              "      <td>120.00</td>\n",
              "      <td>4</td>\n",
              "      <td>4615.384615</td>\n",
              "    </tr>\n",
              "    <tr>\n",
              "      <th>2</th>\n",
              "      <td>Uttarahalli</td>\n",
              "      <td>3 BHK</td>\n",
              "      <td>1440.0</td>\n",
              "      <td>2.0</td>\n",
              "      <td>62.00</td>\n",
              "      <td>3</td>\n",
              "      <td>4305.555556</td>\n",
              "    </tr>\n",
              "    <tr>\n",
              "      <th>3</th>\n",
              "      <td>Lingadheeranahalli</td>\n",
              "      <td>3 BHK</td>\n",
              "      <td>1521.0</td>\n",
              "      <td>3.0</td>\n",
              "      <td>95.00</td>\n",
              "      <td>3</td>\n",
              "      <td>6245.890861</td>\n",
              "    </tr>\n",
              "    <tr>\n",
              "      <th>4</th>\n",
              "      <td>Kothanur</td>\n",
              "      <td>2 BHK</td>\n",
              "      <td>1200.0</td>\n",
              "      <td>2.0</td>\n",
              "      <td>51.00</td>\n",
              "      <td>2</td>\n",
              "      <td>4250.000000</td>\n",
              "    </tr>\n",
              "    <tr>\n",
              "      <th>...</th>\n",
              "      <td>...</td>\n",
              "      <td>...</td>\n",
              "      <td>...</td>\n",
              "      <td>...</td>\n",
              "      <td>...</td>\n",
              "      <td>...</td>\n",
              "      <td>...</td>\n",
              "    </tr>\n",
              "    <tr>\n",
              "      <th>97</th>\n",
              "      <td>Sarjapura - Attibele Road</td>\n",
              "      <td>3 BHK</td>\n",
              "      <td>1330.0</td>\n",
              "      <td>2.0</td>\n",
              "      <td>48.00</td>\n",
              "      <td>3</td>\n",
              "      <td>3609.022556</td>\n",
              "    </tr>\n",
              "    <tr>\n",
              "      <th>98</th>\n",
              "      <td>other</td>\n",
              "      <td>2 BHK</td>\n",
              "      <td>1200.0</td>\n",
              "      <td>2.0</td>\n",
              "      <td>65.00</td>\n",
              "      <td>2</td>\n",
              "      <td>5416.666667</td>\n",
              "    </tr>\n",
              "    <tr>\n",
              "      <th>99</th>\n",
              "      <td>other</td>\n",
              "      <td>3 Bedroom</td>\n",
              "      <td>1200.0</td>\n",
              "      <td>3.0</td>\n",
              "      <td>90.00</td>\n",
              "      <td>3</td>\n",
              "      <td>7500.000000</td>\n",
              "    </tr>\n",
              "    <tr>\n",
              "      <th>100</th>\n",
              "      <td>Yeshwanthpur</td>\n",
              "      <td>3 BHK</td>\n",
              "      <td>2502.0</td>\n",
              "      <td>3.0</td>\n",
              "      <td>138.00</td>\n",
              "      <td>3</td>\n",
              "      <td>5515.587530</td>\n",
              "    </tr>\n",
              "    <tr>\n",
              "      <th>101</th>\n",
              "      <td>Chandapura</td>\n",
              "      <td>2 BHK</td>\n",
              "      <td>650.0</td>\n",
              "      <td>1.0</td>\n",
              "      <td>17.00</td>\n",
              "      <td>2</td>\n",
              "      <td>2615.384615</td>\n",
              "    </tr>\n",
              "  </tbody>\n",
              "</table>\n",
              "<p>100 rows × 7 columns</p>\n",
              "</div>\n",
              "      <button class=\"colab-df-convert\" onclick=\"convertToInteractive('df-aff90bfb-0141-41da-a464-3a64faa22918')\"\n",
              "              title=\"Convert this dataframe to an interactive table.\"\n",
              "              style=\"display:none;\">\n",
              "        \n",
              "  <svg xmlns=\"http://www.w3.org/2000/svg\" height=\"24px\"viewBox=\"0 0 24 24\"\n",
              "       width=\"24px\">\n",
              "    <path d=\"M0 0h24v24H0V0z\" fill=\"none\"/>\n",
              "    <path d=\"M18.56 5.44l.94 2.06.94-2.06 2.06-.94-2.06-.94-.94-2.06-.94 2.06-2.06.94zm-11 1L8.5 8.5l.94-2.06 2.06-.94-2.06-.94L8.5 2.5l-.94 2.06-2.06.94zm10 10l.94 2.06.94-2.06 2.06-.94-2.06-.94-.94-2.06-.94 2.06-2.06.94z\"/><path d=\"M17.41 7.96l-1.37-1.37c-.4-.4-.92-.59-1.43-.59-.52 0-1.04.2-1.43.59L10.3 9.45l-7.72 7.72c-.78.78-.78 2.05 0 2.83L4 21.41c.39.39.9.59 1.41.59.51 0 1.02-.2 1.41-.59l7.78-7.78 2.81-2.81c.8-.78.8-2.07 0-2.86zM5.41 20L4 18.59l7.72-7.72 1.47 1.35L5.41 20z\"/>\n",
              "  </svg>\n",
              "      </button>\n",
              "      \n",
              "  <style>\n",
              "    .colab-df-container {\n",
              "      display:flex;\n",
              "      flex-wrap:wrap;\n",
              "      gap: 12px;\n",
              "    }\n",
              "\n",
              "    .colab-df-convert {\n",
              "      background-color: #E8F0FE;\n",
              "      border: none;\n",
              "      border-radius: 50%;\n",
              "      cursor: pointer;\n",
              "      display: none;\n",
              "      fill: #1967D2;\n",
              "      height: 32px;\n",
              "      padding: 0 0 0 0;\n",
              "      width: 32px;\n",
              "    }\n",
              "\n",
              "    .colab-df-convert:hover {\n",
              "      background-color: #E2EBFA;\n",
              "      box-shadow: 0px 1px 2px rgba(60, 64, 67, 0.3), 0px 1px 3px 1px rgba(60, 64, 67, 0.15);\n",
              "      fill: #174EA6;\n",
              "    }\n",
              "\n",
              "    [theme=dark] .colab-df-convert {\n",
              "      background-color: #3B4455;\n",
              "      fill: #D2E3FC;\n",
              "    }\n",
              "\n",
              "    [theme=dark] .colab-df-convert:hover {\n",
              "      background-color: #434B5C;\n",
              "      box-shadow: 0px 1px 3px 1px rgba(0, 0, 0, 0.15);\n",
              "      filter: drop-shadow(0px 1px 2px rgba(0, 0, 0, 0.3));\n",
              "      fill: #FFFFFF;\n",
              "    }\n",
              "  </style>\n",
              "\n",
              "      <script>\n",
              "        const buttonEl =\n",
              "          document.querySelector('#df-aff90bfb-0141-41da-a464-3a64faa22918 button.colab-df-convert');\n",
              "        buttonEl.style.display =\n",
              "          google.colab.kernel.accessAllowed ? 'block' : 'none';\n",
              "\n",
              "        async function convertToInteractive(key) {\n",
              "          const element = document.querySelector('#df-aff90bfb-0141-41da-a464-3a64faa22918');\n",
              "          const dataTable =\n",
              "            await google.colab.kernel.invokeFunction('convertToInteractive',\n",
              "                                                     [key], {});\n",
              "          if (!dataTable) return;\n",
              "\n",
              "          const docLinkHtml = 'Like what you see? Visit the ' +\n",
              "            '<a target=\"_blank\" href=https://colab.research.google.com/notebooks/data_table.ipynb>data table notebook</a>'\n",
              "            + ' to learn more about interactive tables.';\n",
              "          element.innerHTML = '';\n",
              "          dataTable['output_type'] = 'display_data';\n",
              "          await google.colab.output.renderOutput(dataTable, element);\n",
              "          const docLink = document.createElement('div');\n",
              "          docLink.innerHTML = docLinkHtml;\n",
              "          element.appendChild(docLink);\n",
              "        }\n",
              "      </script>\n",
              "    </div>\n",
              "  </div>\n",
              "  "
            ]
          },
          "metadata": {},
          "execution_count": 48
        }
      ]
    },
    {
      "cell_type": "markdown",
      "source": [
        "## Outlier Removal Using Business Logic"
      ],
      "metadata": {
        "id": "_FdO51g9hUFB"
      }
    },
    {
      "cell_type": "markdown",
      "source": [
        "In real-estate, normally square ft per bedroom is 300 (2hk apartment is minimum 600 sqft.) If an aprtment with 2 bhk is 400 sqft, it seems suspicious and can be removed as an outlier. We will remove such outliers by keeping our minimum threshold per bhk to be 300 sqft. "
      ],
      "metadata": {
        "id": "uG4VrulFipFU"
      }
    },
    {
      "cell_type": "code",
      "source": [
        "df5[(df5.total_sqft/df5.bhk) <300].head()"
      ],
      "metadata": {
        "colab": {
          "base_uri": "https://localhost:8080/",
          "height": 206
        },
        "id": "f8O4owcrhI6j",
        "outputId": "af6f65e7-97d3-4ada-db08-4c77b74983b9"
      },
      "execution_count": null,
      "outputs": [
        {
          "output_type": "execute_result",
          "data": {
            "text/plain": [
              "               location       size  total_sqft  bath  price  bhk  \\\n",
              "9                 other  6 Bedroom      1020.0   6.0  370.0    6   \n",
              "45           HSR Layout  8 Bedroom       600.0   9.0  200.0    8   \n",
              "58        Murugeshpalya  6 Bedroom      1407.0   4.0  150.0    6   \n",
              "68  Devarachikkanahalli  8 Bedroom      1350.0   7.0   85.0    8   \n",
              "70                other  3 Bedroom       500.0   3.0  100.0    3   \n",
              "\n",
              "    price_per_sqft  \n",
              "9     36274.509804  \n",
              "45    33333.333333  \n",
              "58    10660.980810  \n",
              "68     6296.296296  \n",
              "70    20000.000000  "
            ],
            "text/html": [
              "\n",
              "  <div id=\"df-4e7612c7-f9cc-40e3-8ca1-a38f00c932c6\">\n",
              "    <div class=\"colab-df-container\">\n",
              "      <div>\n",
              "<style scoped>\n",
              "    .dataframe tbody tr th:only-of-type {\n",
              "        vertical-align: middle;\n",
              "    }\n",
              "\n",
              "    .dataframe tbody tr th {\n",
              "        vertical-align: top;\n",
              "    }\n",
              "\n",
              "    .dataframe thead th {\n",
              "        text-align: right;\n",
              "    }\n",
              "</style>\n",
              "<table border=\"1\" class=\"dataframe\">\n",
              "  <thead>\n",
              "    <tr style=\"text-align: right;\">\n",
              "      <th></th>\n",
              "      <th>location</th>\n",
              "      <th>size</th>\n",
              "      <th>total_sqft</th>\n",
              "      <th>bath</th>\n",
              "      <th>price</th>\n",
              "      <th>bhk</th>\n",
              "      <th>price_per_sqft</th>\n",
              "    </tr>\n",
              "  </thead>\n",
              "  <tbody>\n",
              "    <tr>\n",
              "      <th>9</th>\n",
              "      <td>other</td>\n",
              "      <td>6 Bedroom</td>\n",
              "      <td>1020.0</td>\n",
              "      <td>6.0</td>\n",
              "      <td>370.0</td>\n",
              "      <td>6</td>\n",
              "      <td>36274.509804</td>\n",
              "    </tr>\n",
              "    <tr>\n",
              "      <th>45</th>\n",
              "      <td>HSR Layout</td>\n",
              "      <td>8 Bedroom</td>\n",
              "      <td>600.0</td>\n",
              "      <td>9.0</td>\n",
              "      <td>200.0</td>\n",
              "      <td>8</td>\n",
              "      <td>33333.333333</td>\n",
              "    </tr>\n",
              "    <tr>\n",
              "      <th>58</th>\n",
              "      <td>Murugeshpalya</td>\n",
              "      <td>6 Bedroom</td>\n",
              "      <td>1407.0</td>\n",
              "      <td>4.0</td>\n",
              "      <td>150.0</td>\n",
              "      <td>6</td>\n",
              "      <td>10660.980810</td>\n",
              "    </tr>\n",
              "    <tr>\n",
              "      <th>68</th>\n",
              "      <td>Devarachikkanahalli</td>\n",
              "      <td>8 Bedroom</td>\n",
              "      <td>1350.0</td>\n",
              "      <td>7.0</td>\n",
              "      <td>85.0</td>\n",
              "      <td>8</td>\n",
              "      <td>6296.296296</td>\n",
              "    </tr>\n",
              "    <tr>\n",
              "      <th>70</th>\n",
              "      <td>other</td>\n",
              "      <td>3 Bedroom</td>\n",
              "      <td>500.0</td>\n",
              "      <td>3.0</td>\n",
              "      <td>100.0</td>\n",
              "      <td>3</td>\n",
              "      <td>20000.000000</td>\n",
              "    </tr>\n",
              "  </tbody>\n",
              "</table>\n",
              "</div>\n",
              "      <button class=\"colab-df-convert\" onclick=\"convertToInteractive('df-4e7612c7-f9cc-40e3-8ca1-a38f00c932c6')\"\n",
              "              title=\"Convert this dataframe to an interactive table.\"\n",
              "              style=\"display:none;\">\n",
              "        \n",
              "  <svg xmlns=\"http://www.w3.org/2000/svg\" height=\"24px\"viewBox=\"0 0 24 24\"\n",
              "       width=\"24px\">\n",
              "    <path d=\"M0 0h24v24H0V0z\" fill=\"none\"/>\n",
              "    <path d=\"M18.56 5.44l.94 2.06.94-2.06 2.06-.94-2.06-.94-.94-2.06-.94 2.06-2.06.94zm-11 1L8.5 8.5l.94-2.06 2.06-.94-2.06-.94L8.5 2.5l-.94 2.06-2.06.94zm10 10l.94 2.06.94-2.06 2.06-.94-2.06-.94-.94-2.06-.94 2.06-2.06.94z\"/><path d=\"M17.41 7.96l-1.37-1.37c-.4-.4-.92-.59-1.43-.59-.52 0-1.04.2-1.43.59L10.3 9.45l-7.72 7.72c-.78.78-.78 2.05 0 2.83L4 21.41c.39.39.9.59 1.41.59.51 0 1.02-.2 1.41-.59l7.78-7.78 2.81-2.81c.8-.78.8-2.07 0-2.86zM5.41 20L4 18.59l7.72-7.72 1.47 1.35L5.41 20z\"/>\n",
              "  </svg>\n",
              "      </button>\n",
              "      \n",
              "  <style>\n",
              "    .colab-df-container {\n",
              "      display:flex;\n",
              "      flex-wrap:wrap;\n",
              "      gap: 12px;\n",
              "    }\n",
              "\n",
              "    .colab-df-convert {\n",
              "      background-color: #E8F0FE;\n",
              "      border: none;\n",
              "      border-radius: 50%;\n",
              "      cursor: pointer;\n",
              "      display: none;\n",
              "      fill: #1967D2;\n",
              "      height: 32px;\n",
              "      padding: 0 0 0 0;\n",
              "      width: 32px;\n",
              "    }\n",
              "\n",
              "    .colab-df-convert:hover {\n",
              "      background-color: #E2EBFA;\n",
              "      box-shadow: 0px 1px 2px rgba(60, 64, 67, 0.3), 0px 1px 3px 1px rgba(60, 64, 67, 0.15);\n",
              "      fill: #174EA6;\n",
              "    }\n",
              "\n",
              "    [theme=dark] .colab-df-convert {\n",
              "      background-color: #3B4455;\n",
              "      fill: #D2E3FC;\n",
              "    }\n",
              "\n",
              "    [theme=dark] .colab-df-convert:hover {\n",
              "      background-color: #434B5C;\n",
              "      box-shadow: 0px 1px 3px 1px rgba(0, 0, 0, 0.15);\n",
              "      filter: drop-shadow(0px 1px 2px rgba(0, 0, 0, 0.3));\n",
              "      fill: #FFFFFF;\n",
              "    }\n",
              "  </style>\n",
              "\n",
              "      <script>\n",
              "        const buttonEl =\n",
              "          document.querySelector('#df-4e7612c7-f9cc-40e3-8ca1-a38f00c932c6 button.colab-df-convert');\n",
              "        buttonEl.style.display =\n",
              "          google.colab.kernel.accessAllowed ? 'block' : 'none';\n",
              "\n",
              "        async function convertToInteractive(key) {\n",
              "          const element = document.querySelector('#df-4e7612c7-f9cc-40e3-8ca1-a38f00c932c6');\n",
              "          const dataTable =\n",
              "            await google.colab.kernel.invokeFunction('convertToInteractive',\n",
              "                                                     [key], {});\n",
              "          if (!dataTable) return;\n",
              "\n",
              "          const docLinkHtml = 'Like what you see? Visit the ' +\n",
              "            '<a target=\"_blank\" href=https://colab.research.google.com/notebooks/data_table.ipynb>data table notebook</a>'\n",
              "            + ' to learn more about interactive tables.';\n",
              "          element.innerHTML = '';\n",
              "          dataTable['output_type'] = 'display_data';\n",
              "          await google.colab.output.renderOutput(dataTable, element);\n",
              "          const docLink = document.createElement('div');\n",
              "          docLink.innerHTML = docLinkHtml;\n",
              "          element.appendChild(docLink);\n",
              "        }\n",
              "      </script>\n",
              "    </div>\n",
              "  </div>\n",
              "  "
            ]
          },
          "metadata": {},
          "execution_count": 56
        }
      ]
    },
    {
      "cell_type": "markdown",
      "source": [
        "check above data points. We have 6 bhk apartment with 1020 sqft. Another one is 8 bhk and total sqft is 600. These are clear data errors that can be removed safely. "
      ],
      "metadata": {
        "id": "SyOo3OcLji-v"
      }
    },
    {
      "cell_type": "code",
      "source": [
        "df5.shape"
      ],
      "metadata": {
        "colab": {
          "base_uri": "https://localhost:8080/"
        },
        "id": "VtjcIGVqjinp",
        "outputId": "c515d8db-7fb1-4e4a-868f-bcf22aa90268"
      },
      "execution_count": null,
      "outputs": [
        {
          "output_type": "execute_result",
          "data": {
            "text/plain": [
              "(13200, 7)"
            ]
          },
          "metadata": {},
          "execution_count": 57
        }
      ]
    },
    {
      "cell_type": "code",
      "source": [
        "df6 = df5[~(df5.total_sqft/df5.bhk<300)]\n",
        "df6.shape"
      ],
      "metadata": {
        "colab": {
          "base_uri": "https://localhost:8080/"
        },
        "id": "EIQdgmGGjty-",
        "outputId": "831ef3b0-c630-4852-f437-7d6b53745c2a"
      },
      "execution_count": null,
      "outputs": [
        {
          "output_type": "execute_result",
          "data": {
            "text/plain": [
              "(12456, 7)"
            ]
          },
          "metadata": {},
          "execution_count": 58
        }
      ]
    },
    {
      "cell_type": "markdown",
      "source": [
        "## Outlier Removal Using Standard Deviation and Mean"
      ],
      "metadata": {
        "id": "gS-0cB2cj9kY"
      }
    },
    {
      "cell_type": "code",
      "source": [
        "df6.price_per_sqft.describe()"
      ],
      "metadata": {
        "colab": {
          "base_uri": "https://localhost:8080/"
        },
        "id": "x7XN92ONkB5s",
        "outputId": "9d419e06-e886-4dd1-9ce1-409026bfcc47"
      },
      "execution_count": null,
      "outputs": [
        {
          "output_type": "execute_result",
          "data": {
            "text/plain": [
              "count     12456.000000\n",
              "mean       6308.502826\n",
              "std        4168.127339\n",
              "min         267.829813\n",
              "25%        4210.526316\n",
              "50%        5294.117647\n",
              "75%        6916.666667\n",
              "max      176470.588235\n",
              "Name: price_per_sqft, dtype: float64"
            ]
          },
          "metadata": {},
          "execution_count": 59
        }
      ]
    },
    {
      "cell_type": "markdown",
      "source": [
        "Here we find that min price per sqft is 267 rs/sqft whereas max is 176470, this shows a wide variation in property prices. We should remove outliers per location using mean and one standard deviation. "
      ],
      "metadata": {
        "id": "wP_T7ZW4kIUZ"
      }
    },
    {
      "cell_type": "code",
      "source": [
        "def remove_pps_outliers(df):\n",
        "    df_out = pd.DataFrame()\n",
        "    for key, subdf in df.groupby('location'):\n",
        "        m = np.mean(subdf.price_per_sqft)\n",
        "        st = np.std(subdf.price_per_sqft)\n",
        "        reduced_df = subdf[(subdf.price_per_sqft>(m-st)) & (subdf.price_per_sqft<=(m+st))]\n",
        "        df_out = pd.concat([df_out,reduced_df],ignore_index=True)\n",
        "    return df_out\n",
        "df7 = remove_pps_outliers(df6)\n",
        "df7.shape"
      ],
      "metadata": {
        "colab": {
          "base_uri": "https://localhost:8080/"
        },
        "id": "AtPJkWUanNWq",
        "outputId": "03dba547-36f9-4081-d2bb-c4c8c08cc93e"
      },
      "execution_count": null,
      "outputs": [
        {
          "output_type": "execute_result",
          "data": {
            "text/plain": [
              "(10242, 7)"
            ]
          },
          "metadata": {},
          "execution_count": 63
        }
      ]
    },
    {
      "cell_type": "code",
      "source": [
        "#let's check if for a given location how does the 2 BHK and 3 BHK property prices look like\n",
        "# Scatter Plot for the location \"Rajaji Najar\"\n",
        "\n",
        "def plot_scatter_chart(df,location):\n",
        "    bhk2 = df[(df.location==location) & (df.bhk==2)]\n",
        "    bhk3 = df[(df.location==location) & (df.bhk==3)]\n",
        "    matplotlib.rcParams['figure.figsize'] = (15,10)\n",
        "    plt.scatter(bhk2.total_sqft,bhk2.price,color='blue',label='2 BHK', s=50)\n",
        "    plt.scatter(bhk3.total_sqft,bhk3.price,marker='+', color='green',label='3 BHK', s=50)\n",
        "    plt.xlabel(\"Total Square Feet Area\")\n",
        "    plt.ylabel(\"Price (Lakh Indian Rupees)\")\n",
        "    plt.title(location)\n",
        "    plt.legend()\n",
        "    \n",
        "plot_scatter_chart(df7,\"Rajaji Nagar\")"
      ],
      "metadata": {
        "colab": {
          "base_uri": "https://localhost:8080/",
          "height": 621
        },
        "id": "QeYHhfj7nVUZ",
        "outputId": "63729c47-f50b-4c4f-f311-f3f320a2e19c"
      },
      "execution_count": null,
      "outputs": [
        {
          "output_type": "display_data",
          "data": {
            "text/plain": [
              "<Figure size 1080x720 with 1 Axes>"
            ],
            "image/png": "[encoded data removed]"
          },
          "metadata": {
            "needs_background": "light"
          }
        }
      ]
    },
    {
      "cell_type": "markdown",
      "source": [
        "We should also remove properties where for same location, the price of 3 bedroom apartment is less than 2 bedroom apartment (with same square ft area). What we will do is for a given location, we will build a dictionary of stats per bhk, ie. \n",
        "{\n",
        "    '1' : {\n",
        "        'mean': 4000,\n",
        "        'std: 2000,\n",
        "        'count': 34\n",
        "    },\n",
        "    '2' : {\n",
        "        'mean': 4300,\n",
        "        'std: 2300,\n",
        "        'count': 22\n",
        "    }}"
      ],
      "metadata": {
        "id": "ySbhF1OGrfUH"
      }
    },
    {
      "cell_type": "markdown",
      "source": [
        "Now we can remove those 2 BHK apartments whose price_per_sqft is less than mean price_per_sqft of 1 BHK apartment. "
      ],
      "metadata": {
        "id": "z8fDb-99r91f"
      }
    },
    {
      "cell_type": "code",
      "source": [
        "def remove_bhk_outliers(df):\n",
        "    exclude_indices = np.array([])\n",
        "    for location, location_df in df.groupby('location'):\n",
        "        bhk_stats = {}\n",
        "        for bhk, bhk_df in location_df.groupby('bhk'):\n",
        "            bhk_stats[bhk] = {\n",
        "                'mean': np.mean(bhk_df.price_per_sqft),\n",
        "                'std': np.std(bhk_df.price_per_sqft),\n",
        "                'count': bhk_df.shape[0]\n",
        "            }\n",
        "        for bhk, bhk_df in location_df.groupby('bhk'):\n",
        "            stats = bhk_stats.get(bhk-1)\n",
        "            if stats and stats['count']>5:\n",
        "                exclude_indices = np.append(exclude_indices, bhk_df[bhk_df.price_per_sqft<(stats['mean'])].index.values)\n",
        "    return df.drop(exclude_indices,axis='index')\n",
        "df8 = remove_bhk_outliers(df7)\n",
        "# df8 = df7.copy()\n",
        "df8.shape"
      ],
      "metadata": {
        "colab": {
          "base_uri": "https://localhost:8080/"
        },
        "id": "ChQ96G1mqZOb",
        "outputId": "5f6c956c-8a3d-4f5d-8c6b-e53d82564960"
      },
      "execution_count": null,
      "outputs": [
        {
          "output_type": "execute_result",
          "data": {
            "text/plain": [
              "(7317, 7)"
            ]
          },
          "metadata": {},
          "execution_count": 77
        }
      ]
    },
    {
      "cell_type": "markdown",
      "source": [
        "Plot the same scatter chart again to visualize price_per_sqft for 2 BHK and 3 BHK properties."
      ],
      "metadata": {
        "id": "_gm38UoNsoj6"
      }
    },
    {
      "cell_type": "code",
      "source": [
        "plot_scatter_chart(df8, \"Rajaji Nagar\")"
      ],
      "metadata": {
        "colab": {
          "base_uri": "https://localhost:8080/",
          "height": 621
        },
        "id": "hzLHtMm0syDz",
        "outputId": "d19e9ef8-0c88-4622-b1d3-1a2aef2a5d06"
      },
      "execution_count": null,
      "outputs": [
        {
          "output_type": "display_data",
          "data": {
            "text/plain": [
              "<Figure size 1080x720 with 1 Axes>"
            ],
            "image/png": "[encoded data removed]"
          },
          "metadata": {
            "needs_background": "light"
          }
        }
      ]
    },
    {
      "cell_type": "markdown",
      "source": [
        "![rajaji_nagar_outliers.png](data:image/png;base64,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)"
      ],
      "metadata": {
        "id": "ExmjmtH6tWc4"
      }
    },
    {
      "cell_type": "markdown",
      "source": [
        "As shown above, if we compare before and after oulier removal, green data points in the circled zone in the picture are gone. Majority 3 bedroom apartments are now priced higher than 2 bedroom apartments. "
      ],
      "metadata": {
        "id": "QoKr-fBZtm0i"
      }
    },
    {
      "cell_type": "code",
      "source": [
        "# histogram\n",
        "import matplotlib\n",
        "matplotlib.rcParams[\"figure.figsize\"] = (20,10)\n",
        "plt.hist(df8.price_per_sqft,rwidth=0.8)\n",
        "plt.xlabel(\"Price Per Square Feet\")\n",
        "plt.ylabel(\"Count\")"
      ],
      "metadata": {
        "colab": {
          "base_uri": "https://localhost:8080/",
          "height": 624
        },
        "id": "_Fsu0tR-uKbz",
        "outputId": "9b86f44b-e2bf-4f13-99fa-27059152c761"
      },
      "execution_count": null,
      "outputs": [
        {
          "output_type": "execute_result",
          "data": {
            "text/plain": [
              "Text(0, 0.5, 'Count')"
            ]
          },
          "metadata": {},
          "execution_count": 80
        },
        {
          "output_type": "display_data",
          "data": {
            "text/plain": [
              "<Figure size 1440x720 with 1 Axes>"
            ],
            "image/png": "[encoded data removed]"
          },
          "metadata": {
            "needs_background": "light"
          }
        }
      ]
    },
    {
      "cell_type": "markdown",
      "source": [
        "## Outlier Removal using Bathrooms Feature"
      ],
      "metadata": {
        "id": "3jGBrPaXuUzQ"
      }
    },
    {
      "cell_type": "code",
      "source": [
        "df8.bath.unique()"
      ],
      "metadata": {
        "colab": {
          "base_uri": "https://localhost:8080/"
        },
        "id": "3ca-sjL3uZd2",
        "outputId": "f8184350-41cd-4f0d-c67f-16f14aacb08a"
      },
      "execution_count": null,
      "outputs": [
        {
          "output_type": "execute_result",
          "data": {
            "text/plain": [
              "array([ 4.,  3.,  2.,  5.,  8.,  1.,  6.,  7.,  9., 12., 16., 13.])"
            ]
          },
          "metadata": {},
          "execution_count": 81
        }
      ]
    },
    {
      "cell_type": "code",
      "source": [
        "plt.hist(df8.bath, rwidth=0.8)\n",
        "plt.xlabel(\"Number of bathrooms\")\n",
        "plt.ylabel(\"Count\")"
      ],
      "metadata": {
        "colab": {
          "base_uri": "https://localhost:8080/",
          "height": 624
        },
        "id": "ys1J5fjaubJr",
        "outputId": "654c7f15-b26d-4d98-8798-539a0eca0955"
      },
      "execution_count": null,
      "outputs": [
        {
          "output_type": "execute_result",
          "data": {
            "text/plain": [
              "Text(0, 0.5, 'Count')"
            ]
          },
          "metadata": {},
          "execution_count": 82
        },
        {
          "output_type": "display_data",
          "data": {
            "text/plain": [
              "<Figure size 1440x720 with 1 Axes>"
            ],
            "image/png": "[encoded data removed]"
          },
          "metadata": {
            "needs_background": "light"
          }
        }
      ]
    },
    {
      "cell_type": "code",
      "source": [
        "df8[df8.bath >10]"
      ],
      "metadata": {
        "colab": {
          "base_uri": "https://localhost:8080/",
          "height": 206
        },
        "id": "REzBBiblujxH",
        "outputId": "d0966a53-28e5-417a-a9ab-c6c14c378f7e"
      },
      "execution_count": null,
      "outputs": [
        {
          "output_type": "execute_result",
          "data": {
            "text/plain": [
              "            location    size  total_sqft  bath  price  bhk  price_per_sqft\n",
              "5277  Neeladri Nagar  10 BHK      4000.0  12.0  160.0   10     4000.000000\n",
              "8483           other  10 BHK     12000.0  12.0  525.0   10     4375.000000\n",
              "8572           other  16 BHK     10000.0  16.0  550.0   16     5500.000000\n",
              "9306           other  11 BHK      6000.0  12.0  150.0   11     2500.000000\n",
              "9637           other  13 BHK      5425.0  13.0  275.0   13     5069.124424"
            ],
            "text/html": [
              "\n",
              "  <div id=\"df-8868fbd9-d77e-4aca-929b-b88e7713e65b\">\n",
              "    <div class=\"colab-df-container\">\n",
              "      <div>\n",
              "<style scoped>\n",
              "    .dataframe tbody tr th:only-of-type {\n",
              "        vertical-align: middle;\n",
              "    }\n",
              "\n",
              "    .dataframe tbody tr th {\n",
              "        vertical-align: top;\n",
              "    }\n",
              "\n",
              "    .dataframe thead th {\n",
              "        text-align: right;\n",
              "    }\n",
              "</style>\n",
              "<table border=\"1\" class=\"dataframe\">\n",
              "  <thead>\n",
              "    <tr style=\"text-align: right;\">\n",
              "      <th></th>\n",
              "      <th>location</th>\n",
              "      <th>size</th>\n",
              "      <th>total_sqft</th>\n",
              "      <th>bath</th>\n",
              "      <th>price</th>\n",
              "      <th>bhk</th>\n",
              "      <th>price_per_sqft</th>\n",
              "    </tr>\n",
              "  </thead>\n",
              "  <tbody>\n",
              "    <tr>\n",
              "      <th>5277</th>\n",
              "      <td>Neeladri Nagar</td>\n",
              "      <td>10 BHK</td>\n",
              "      <td>4000.0</td>\n",
              "      <td>12.0</td>\n",
              "      <td>160.0</td>\n",
              "      <td>10</td>\n",
              "      <td>4000.000000</td>\n",
              "    </tr>\n",
              "    <tr>\n",
              "      <th>8483</th>\n",
              "      <td>other</td>\n",
              "      <td>10 BHK</td>\n",
              "      <td>12000.0</td>\n",
              "      <td>12.0</td>\n",
              "      <td>525.0</td>\n",
              "      <td>10</td>\n",
              "      <td>4375.000000</td>\n",
              "    </tr>\n",
              "    <tr>\n",
              "      <th>8572</th>\n",
              "      <td>other</td>\n",
              "      <td>16 BHK</td>\n",
              "      <td>10000.0</td>\n",
              "      <td>16.0</td>\n",
              "      <td>550.0</td>\n",
              "      <td>16</td>\n",
              "      <td>5500.000000</td>\n",
              "    </tr>\n",
              "    <tr>\n",
              "      <th>9306</th>\n",
              "      <td>other</td>\n",
              "      <td>11 BHK</td>\n",
              "      <td>6000.0</td>\n",
              "      <td>12.0</td>\n",
              "      <td>150.0</td>\n",
              "      <td>11</td>\n",
              "      <td>2500.000000</td>\n",
              "    </tr>\n",
              "    <tr>\n",
              "      <th>9637</th>\n",
              "      <td>other</td>\n",
              "      <td>13 BHK</td>\n",
              "      <td>5425.0</td>\n",
              "      <td>13.0</td>\n",
              "      <td>275.0</td>\n",
              "      <td>13</td>\n",
              "      <td>5069.124424</td>\n",
              "    </tr>\n",
              "  </tbody>\n",
              "</table>\n",
              "</div>\n",
              "      <button class=\"colab-df-convert\" onclick=\"convertToInteractive('df-8868fbd9-d77e-4aca-929b-b88e7713e65b')\"\n",
              "              title=\"Convert this dataframe to an interactive table.\"\n",
              "              style=\"display:none;\">\n",
              "        \n",
              "  <svg xmlns=\"http://www.w3.org/2000/svg\" height=\"24px\"viewBox=\"0 0 24 24\"\n",
              "       width=\"24px\">\n",
              "    <path d=\"M0 0h24v24H0V0z\" fill=\"none\"/>\n",
              "    <path d=\"M18.56 5.44l.94 2.06.94-2.06 2.06-.94-2.06-.94-.94-2.06-.94 2.06-2.06.94zm-11 1L8.5 8.5l.94-2.06 2.06-.94-2.06-.94L8.5 2.5l-.94 2.06-2.06.94zm10 10l.94 2.06.94-2.06 2.06-.94-2.06-.94-.94-2.06-.94 2.06-2.06.94z\"/><path d=\"M17.41 7.96l-1.37-1.37c-.4-.4-.92-.59-1.43-.59-.52 0-1.04.2-1.43.59L10.3 9.45l-7.72 7.72c-.78.78-.78 2.05 0 2.83L4 21.41c.39.39.9.59 1.41.59.51 0 1.02-.2 1.41-.59l7.78-7.78 2.81-2.81c.8-.78.8-2.07 0-2.86zM5.41 20L4 18.59l7.72-7.72 1.47 1.35L5.41 20z\"/>\n",
              "  </svg>\n",
              "      </button>\n",
              "      \n",
              "  <style>\n",
              "    .colab-df-container {\n",
              "      display:flex;\n",
              "      flex-wrap:wrap;\n",
              "      gap: 12px;\n",
              "    }\n",
              "\n",
              "    .colab-df-convert {\n",
              "      background-color: #E8F0FE;\n",
              "      border: none;\n",
              "      border-radius: 50%;\n",
              "      cursor: pointer;\n",
              "      display: none;\n",
              "      fill: #1967D2;\n",
              "      height: 32px;\n",
              "      padding: 0 0 0 0;\n",
              "      width: 32px;\n",
              "    }\n",
              "\n",
              "    .colab-df-convert:hover {\n",
              "      background-color: #E2EBFA;\n",
              "      box-shadow: 0px 1px 2px rgba(60, 64, 67, 0.3), 0px 1px 3px 1px rgba(60, 64, 67, 0.15);\n",
              "      fill: #174EA6;\n",
              "    }\n",
              "\n",
              "    [theme=dark] .colab-df-convert {\n",
              "      background-color: #3B4455;\n",
              "      fill: #D2E3FC;\n",
              "    }\n",
              "\n",
              "    [theme=dark] .colab-df-convert:hover {\n",
              "      background-color: #434B5C;\n",
              "      box-shadow: 0px 1px 3px 1px rgba(0, 0, 0, 0.15);\n",
              "      filter: drop-shadow(0px 1px 2px rgba(0, 0, 0, 0.3));\n",
              "      fill: #FFFFFF;\n",
              "    }\n",
              "  </style>\n",
              "\n",
              "      <script>\n",
              "        const buttonEl =\n",
              "          document.querySelector('#df-8868fbd9-d77e-4aca-929b-b88e7713e65b button.colab-df-convert');\n",
              "        buttonEl.style.display =\n",
              "          google.colab.kernel.accessAllowed ? 'block' : 'none';\n",
              "\n",
              "        async function convertToInteractive(key) {\n",
              "          const element = document.querySelector('#df-8868fbd9-d77e-4aca-929b-b88e7713e65b');\n",
              "          const dataTable =\n",
              "            await google.colab.kernel.invokeFunction('convertToInteractive',\n",
              "                                                     [key], {});\n",
              "          if (!dataTable) return;\n",
              "\n",
              "          const docLinkHtml = 'Like what you see? Visit the ' +\n",
              "            '<a target=\"_blank\" href=https://colab.research.google.com/notebooks/data_table.ipynb>data table notebook</a>'\n",
              "            + ' to learn more about interactive tables.';\n",
              "          element.innerHTML = '';\n",
              "          dataTable['output_type'] = 'display_data';\n",
              "          await google.colab.output.renderOutput(dataTable, element);\n",
              "          const docLink = document.createElement('div');\n",
              "          docLink.innerHTML = docLinkHtml;\n",
              "          element.appendChild(docLink);\n",
              "        }\n",
              "      </script>\n",
              "    </div>\n",
              "  </div>\n",
              "  "
            ]
          },
          "metadata": {},
          "execution_count": 83
        }
      ]
    },
    {
      "cell_type": "markdown",
      "source": [
        "It is unusal to have two more bathrooms than number of bedrooms in a home."
      ],
      "metadata": {
        "id": "d3jGpi_5unDN"
      }
    },
    {
      "cell_type": "code",
      "source": [
        "df8[df8.bath > df8.bhk]"
      ],
      "metadata": {
        "colab": {
          "base_uri": "https://localhost:8080/",
          "height": 424
        },
        "id": "VFKGFcJUvg-U",
        "outputId": "d845be1e-e5fe-4bbf-d0a0-a0d3703b7bf2"
      },
      "execution_count": null,
      "outputs": [
        {
          "output_type": "execute_result",
          "data": {
            "text/plain": [
              "                   location       size  total_sqft  bath  price  bhk  \\\n",
              "10       1st Phase JP Nagar      3 BHK      2065.0   4.0  210.0    3   \n",
              "16       1st Phase JP Nagar      1 BHK       840.0   2.0   50.0    1   \n",
              "36     2nd Stage Nagarbhavi  6 Bedroom      3000.0   8.0  451.0    6   \n",
              "37     2nd Stage Nagarbhavi  6 Bedroom      2400.0   8.0  450.0    6   \n",
              "48       5th Phase JP Nagar      2 BHK      1150.0   3.0   52.5    2   \n",
              "...                     ...        ...         ...   ...    ...  ...   \n",
              "10146                 other  4 Bedroom      3100.0   5.0  425.0    4   \n",
              "10175                 other      2 BHK       600.0   3.0   72.0    2   \n",
              "10203                 other      4 BHK      6652.0   6.0  660.0    4   \n",
              "10210                 other  4 Bedroom      6688.0   6.0  700.0    4   \n",
              "10241                 other      4 BHK      3600.0   5.0  400.0    4   \n",
              "\n",
              "       price_per_sqft  \n",
              "10       10169.491525  \n",
              "16        5952.380952  \n",
              "36       15033.333333  \n",
              "37       18750.000000  \n",
              "48        4565.217391  \n",
              "...               ...  \n",
              "10146    13709.677419  \n",
              "10175    12000.000000  \n",
              "10203     9921.828022  \n",
              "10210    10466.507177  \n",
              "10241    11111.111111  \n",
              "\n",
              "[458 rows x 7 columns]"
            ],
            "text/html": [
              "\n",
              "  <div id=\"df-897a4f72-1833-4a81-981c-386d1ed24ca6\">\n",
              "    <div class=\"colab-df-container\">\n",
              "      <div>\n",
              "<style scoped>\n",
              "    .dataframe tbody tr th:only-of-type {\n",
              "        vertical-align: middle;\n",
              "    }\n",
              "\n",
              "    .dataframe tbody tr th {\n",
              "        vertical-align: top;\n",
              "    }\n",
              "\n",
              "    .dataframe thead th {\n",
              "        text-align: right;\n",
              "    }\n",
              "</style>\n",
              "<table border=\"1\" class=\"dataframe\">\n",
              "  <thead>\n",
              "    <tr style=\"text-align: right;\">\n",
              "      <th></th>\n",
              "      <th>location</th>\n",
              "      <th>size</th>\n",
              "      <th>total_sqft</th>\n",
              "      <th>bath</th>\n",
              "      <th>price</th>\n",
              "      <th>bhk</th>\n",
              "      <th>price_per_sqft</th>\n",
              "    </tr>\n",
              "  </thead>\n",
              "  <tbody>\n",
              "    <tr>\n",
              "      <th>10</th>\n",
              "      <td>1st Phase JP Nagar</td>\n",
              "      <td>3 BHK</td>\n",
              "      <td>2065.0</td>\n",
              "      <td>4.0</td>\n",
              "      <td>210.0</td>\n",
              "      <td>3</td>\n",
              "      <td>10169.491525</td>\n",
              "    </tr>\n",
              "    <tr>\n",
              "      <th>16</th>\n",
              "      <td>1st Phase JP Nagar</td>\n",
              "      <td>1 BHK</td>\n",
              "      <td>840.0</td>\n",
              "      <td>2.0</td>\n",
              "      <td>50.0</td>\n",
              "      <td>1</td>\n",
              "      <td>5952.380952</td>\n",
              "    </tr>\n",
              "    <tr>\n",
              "      <th>36</th>\n",
              "      <td>2nd Stage Nagarbhavi</td>\n",
              "      <td>6 Bedroom</td>\n",
              "      <td>3000.0</td>\n",
              "      <td>8.0</td>\n",
              "      <td>451.0</td>\n",
              "      <td>6</td>\n",
              "      <td>15033.333333</td>\n",
              "    </tr>\n",
              "    <tr>\n",
              "      <th>37</th>\n",
              "      <td>2nd Stage Nagarbhavi</td>\n",
              "      <td>6 Bedroom</td>\n",
              "      <td>2400.0</td>\n",
              "      <td>8.0</td>\n",
              "      <td>450.0</td>\n",
              "      <td>6</td>\n",
              "      <td>18750.000000</td>\n",
              "    </tr>\n",
              "    <tr>\n",
              "      <th>48</th>\n",
              "      <td>5th Phase JP Nagar</td>\n",
              "      <td>2 BHK</td>\n",
              "      <td>1150.0</td>\n",
              "      <td>3.0</td>\n",
              "      <td>52.5</td>\n",
              "      <td>2</td>\n",
              "      <td>4565.217391</td>\n",
              "    </tr>\n",
              "    <tr>\n",
              "      <th>...</th>\n",
              "      <td>...</td>\n",
              "      <td>...</td>\n",
              "      <td>...</td>\n",
              "      <td>...</td>\n",
              "      <td>...</td>\n",
              "      <td>...</td>\n",
              "      <td>...</td>\n",
              "    </tr>\n",
              "    <tr>\n",
              "      <th>10146</th>\n",
              "      <td>other</td>\n",
              "      <td>4 Bedroom</td>\n",
              "      <td>3100.0</td>\n",
              "      <td>5.0</td>\n",
              "      <td>425.0</td>\n",
              "      <td>4</td>\n",
              "      <td>13709.677419</td>\n",
              "    </tr>\n",
              "    <tr>\n",
              "      <th>10175</th>\n",
              "      <td>other</td>\n",
              "      <td>2 BHK</td>\n",
              "      <td>600.0</td>\n",
              "      <td>3.0</td>\n",
              "      <td>72.0</td>\n",
              "      <td>2</td>\n",
              "      <td>12000.000000</td>\n",
              "    </tr>\n",
              "    <tr>\n",
              "      <th>10203</th>\n",
              "      <td>other</td>\n",
              "      <td>4 BHK</td>\n",
              "      <td>6652.0</td>\n",
              "      <td>6.0</td>\n",
              "      <td>660.0</td>\n",
              "      <td>4</td>\n",
              "      <td>9921.828022</td>\n",
              "    </tr>\n",
              "    <tr>\n",
              "      <th>10210</th>\n",
              "      <td>other</td>\n",
              "      <td>4 Bedroom</td>\n",
              "      <td>6688.0</td>\n",
              "      <td>6.0</td>\n",
              "      <td>700.0</td>\n",
              "      <td>4</td>\n",
              "      <td>10466.507177</td>\n",
              "    </tr>\n",
              "    <tr>\n",
              "      <th>10241</th>\n",
              "      <td>other</td>\n",
              "      <td>4 BHK</td>\n",
              "      <td>3600.0</td>\n",
              "      <td>5.0</td>\n",
              "      <td>400.0</td>\n",
              "      <td>4</td>\n",
              "      <td>11111.111111</td>\n",
              "    </tr>\n",
              "  </tbody>\n",
              "</table>\n",
              "<p>458 rows × 7 columns</p>\n",
              "</div>\n",
              "      <button class=\"colab-df-convert\" onclick=\"convertToInteractive('df-897a4f72-1833-4a81-981c-386d1ed24ca6')\"\n",
              "              title=\"Convert this dataframe to an interactive table.\"\n",
              "              style=\"display:none;\">\n",
              "        \n",
              "  <svg xmlns=\"http://www.w3.org/2000/svg\" height=\"24px\"viewBox=\"0 0 24 24\"\n",
              "       width=\"24px\">\n",
              "    <path d=\"M0 0h24v24H0V0z\" fill=\"none\"/>\n",
              "    <path d=\"M18.56 5.44l.94 2.06.94-2.06 2.06-.94-2.06-.94-.94-2.06-.94 2.06-2.06.94zm-11 1L8.5 8.5l.94-2.06 2.06-.94-2.06-.94L8.5 2.5l-.94 2.06-2.06.94zm10 10l.94 2.06.94-2.06 2.06-.94-2.06-.94-.94-2.06-.94 2.06-2.06.94z\"/><path d=\"M17.41 7.96l-1.37-1.37c-.4-.4-.92-.59-1.43-.59-.52 0-1.04.2-1.43.59L10.3 9.45l-7.72 7.72c-.78.78-.78 2.05 0 2.83L4 21.41c.39.39.9.59 1.41.59.51 0 1.02-.2 1.41-.59l7.78-7.78 2.81-2.81c.8-.78.8-2.07 0-2.86zM5.41 20L4 18.59l7.72-7.72 1.47 1.35L5.41 20z\"/>\n",
              "  </svg>\n",
              "      </button>\n",
              "      \n",
              "  <style>\n",
              "    .colab-df-container {\n",
              "      display:flex;\n",
              "      flex-wrap:wrap;\n",
              "      gap: 12px;\n",
              "    }\n",
              "\n",
              "    .colab-df-convert {\n",
              "      background-color: #E8F0FE;\n",
              "      border: none;\n",
              "      border-radius: 50%;\n",
              "      cursor: pointer;\n",
              "      display: none;\n",
              "      fill: #1967D2;\n",
              "      height: 32px;\n",
              "      padding: 0 0 0 0;\n",
              "      width: 32px;\n",
              "    }\n",
              "\n",
              "    .colab-df-convert:hover {\n",
              "      background-color: #E2EBFA;\n",
              "      box-shadow: 0px 1px 2px rgba(60, 64, 67, 0.3), 0px 1px 3px 1px rgba(60, 64, 67, 0.15);\n",
              "      fill: #174EA6;\n",
              "    }\n",
              "\n",
              "    [theme=dark] .colab-df-convert {\n",
              "      background-color: #3B4455;\n",
              "      fill: #D2E3FC;\n",
              "    }\n",
              "\n",
              "    [theme=dark] .colab-df-convert:hover {\n",
              "      background-color: #434B5C;\n",
              "      box-shadow: 0px 1px 3px 1px rgba(0, 0, 0, 0.15);\n",
              "      filter: drop-shadow(0px 1px 2px rgba(0, 0, 0, 0.3));\n",
              "      fill: #FFFFFF;\n",
              "    }\n",
              "  </style>\n",
              "\n",
              "      <script>\n",
              "        const buttonEl =\n",
              "          document.querySelector('#df-897a4f72-1833-4a81-981c-386d1ed24ca6 button.colab-df-convert');\n",
              "        buttonEl.style.display =\n",
              "          google.colab.kernel.accessAllowed ? 'block' : 'none';\n",
              "\n",
              "        async function convertToInteractive(key) {\n",
              "          const element = document.querySelector('#df-897a4f72-1833-4a81-981c-386d1ed24ca6');\n",
              "          const dataTable =\n",
              "            await google.colab.kernel.invokeFunction('convertToInteractive',\n",
              "                                                     [key], {});\n",
              "          if (!dataTable) return;\n",
              "\n",
              "          const docLinkHtml = 'Like what you see? Visit the ' +\n",
              "            '<a target=\"_blank\" href=https://colab.research.google.com/notebooks/data_table.ipynb>data table notebook</a>'\n",
              "            + ' to learn more about interactive tables.';\n",
              "          element.innerHTML = '';\n",
              "          dataTable['output_type'] = 'display_data';\n",
              "          await google.colab.output.renderOutput(dataTable, element);\n",
              "          const docLink = document.createElement('div');\n",
              "          docLink.innerHTML = docLinkHtml;\n",
              "          element.appendChild(docLink);\n",
              "        }\n",
              "      </script>\n",
              "    </div>\n",
              "  </div>\n",
              "  "
            ]
          },
          "metadata": {},
          "execution_count": 86
        }
      ]
    },
    {
      "cell_type": "code",
      "source": [
        "df8[df8.bath > df8.bhk+2]"
      ],
      "metadata": {
        "colab": {
          "base_uri": "https://localhost:8080/",
          "height": 175
        },
        "id": "_TKeh_x6umLg",
        "outputId": "c1681b7b-2e84-4a40-bcb4-862da90294e3"
      },
      "execution_count": null,
      "outputs": [
        {
          "output_type": "execute_result",
          "data": {
            "text/plain": [
              "           location       size  total_sqft  bath   price  bhk  price_per_sqft\n",
              "1626  Chikkabanavar  4 Bedroom      2460.0   7.0    80.0    4     3252.032520\n",
              "5238     Nagasandra  4 Bedroom      7000.0   8.0   450.0    4     6428.571429\n",
              "6711    Thanisandra      3 BHK      1806.0   6.0   116.0    3     6423.034330\n",
              "8408          other      6 BHK     11338.0   9.0  1000.0    6     8819.897689"
            ],
            "text/html": [
              "\n",
              "  <div id=\"df-164cc8d2-e3e9-4c04-8059-40893966eac3\">\n",
              "    <div class=\"colab-df-container\">\n",
              "      <div>\n",
              "<style scoped>\n",
              "    .dataframe tbody tr th:only-of-type {\n",
              "        vertical-align: middle;\n",
              "    }\n",
              "\n",
              "    .dataframe tbody tr th {\n",
              "        vertical-align: top;\n",
              "    }\n",
              "\n",
              "    .dataframe thead th {\n",
              "        text-align: right;\n",
              "    }\n",
              "</style>\n",
              "<table border=\"1\" class=\"dataframe\">\n",
              "  <thead>\n",
              "    <tr style=\"text-align: right;\">\n",
              "      <th></th>\n",
              "      <th>location</th>\n",
              "      <th>size</th>\n",
              "      <th>total_sqft</th>\n",
              "      <th>bath</th>\n",
              "      <th>price</th>\n",
              "      <th>bhk</th>\n",
              "      <th>price_per_sqft</th>\n",
              "    </tr>\n",
              "  </thead>\n",
              "  <tbody>\n",
              "    <tr>\n",
              "      <th>1626</th>\n",
              "      <td>Chikkabanavar</td>\n",
              "      <td>4 Bedroom</td>\n",
              "      <td>2460.0</td>\n",
              "      <td>7.0</td>\n",
              "      <td>80.0</td>\n",
              "      <td>4</td>\n",
              "      <td>3252.032520</td>\n",
              "    </tr>\n",
              "    <tr>\n",
              "      <th>5238</th>\n",
              "      <td>Nagasandra</td>\n",
              "      <td>4 Bedroom</td>\n",
              "      <td>7000.0</td>\n",
              "      <td>8.0</td>\n",
              "      <td>450.0</td>\n",
              "      <td>4</td>\n",
              "      <td>6428.571429</td>\n",
              "    </tr>\n",
              "    <tr>\n",
              "      <th>6711</th>\n",
              "      <td>Thanisandra</td>\n",
              "      <td>3 BHK</td>\n",
              "      <td>1806.0</td>\n",
              "      <td>6.0</td>\n",
              "      <td>116.0</td>\n",
              "      <td>3</td>\n",
              "      <td>6423.034330</td>\n",
              "    </tr>\n",
              "    <tr>\n",
              "      <th>8408</th>\n",
              "      <td>other</td>\n",
              "      <td>6 BHK</td>\n",
              "      <td>11338.0</td>\n",
              "      <td>9.0</td>\n",
              "      <td>1000.0</td>\n",
              "      <td>6</td>\n",
              "      <td>8819.897689</td>\n",
              "    </tr>\n",
              "  </tbody>\n",
              "</table>\n",
              "</div>\n",
              "      <button class=\"colab-df-convert\" onclick=\"convertToInteractive('df-164cc8d2-e3e9-4c04-8059-40893966eac3')\"\n",
              "              title=\"Convert this dataframe to an interactive table.\"\n",
              "              style=\"display:none;\">\n",
              "        \n",
              "  <svg xmlns=\"http://www.w3.org/2000/svg\" height=\"24px\"viewBox=\"0 0 24 24\"\n",
              "       width=\"24px\">\n",
              "    <path d=\"M0 0h24v24H0V0z\" fill=\"none\"/>\n",
              "    <path d=\"M18.56 5.44l.94 2.06.94-2.06 2.06-.94-2.06-.94-.94-2.06-.94 2.06-2.06.94zm-11 1L8.5 8.5l.94-2.06 2.06-.94-2.06-.94L8.5 2.5l-.94 2.06-2.06.94zm10 10l.94 2.06.94-2.06 2.06-.94-2.06-.94-.94-2.06-.94 2.06-2.06.94z\"/><path d=\"M17.41 7.96l-1.37-1.37c-.4-.4-.92-.59-1.43-.59-.52 0-1.04.2-1.43.59L10.3 9.45l-7.72 7.72c-.78.78-.78 2.05 0 2.83L4 21.41c.39.39.9.59 1.41.59.51 0 1.02-.2 1.41-.59l7.78-7.78 2.81-2.81c.8-.78.8-2.07 0-2.86zM5.41 20L4 18.59l7.72-7.72 1.47 1.35L5.41 20z\"/>\n",
              "  </svg>\n",
              "      </button>\n",
              "      \n",
              "  <style>\n",
              "    .colab-df-container {\n",
              "      display:flex;\n",
              "      flex-wrap:wrap;\n",
              "      gap: 12px;\n",
              "    }\n",
              "\n",
              "    .colab-df-convert {\n",
              "      background-color: #E8F0FE;\n",
              "      border: none;\n",
              "      border-radius: 50%;\n",
              "      cursor: pointer;\n",
              "      display: none;\n",
              "      fill: #1967D2;\n",
              "      height: 32px;\n",
              "      padding: 0 0 0 0;\n",
              "      width: 32px;\n",
              "    }\n",
              "\n",
              "    .colab-df-convert:hover {\n",
              "      background-color: #E2EBFA;\n",
              "      box-shadow: 0px 1px 2px rgba(60, 64, 67, 0.3), 0px 1px 3px 1px rgba(60, 64, 67, 0.15);\n",
              "      fill: #174EA6;\n",
              "    }\n",
              "\n",
              "    [theme=dark] .colab-df-convert {\n",
              "      background-color: #3B4455;\n",
              "      fill: #D2E3FC;\n",
              "    }\n",
              "\n",
              "    [theme=dark] .colab-df-convert:hover {\n",
              "      background-color: #434B5C;\n",
              "      box-shadow: 0px 1px 3px 1px rgba(0, 0, 0, 0.15);\n",
              "      filter: drop-shadow(0px 1px 2px rgba(0, 0, 0, 0.3));\n",
              "      fill: #FFFFFF;\n",
              "    }\n",
              "  </style>\n",
              "\n",
              "      <script>\n",
              "        const buttonEl =\n",
              "          document.querySelector('#df-164cc8d2-e3e9-4c04-8059-40893966eac3 button.colab-df-convert');\n",
              "        buttonEl.style.display =\n",
              "          google.colab.kernel.accessAllowed ? 'block' : 'none';\n",
              "\n",
              "        async function convertToInteractive(key) {\n",
              "          const element = document.querySelector('#df-164cc8d2-e3e9-4c04-8059-40893966eac3');\n",
              "          const dataTable =\n",
              "            await google.colab.kernel.invokeFunction('convertToInteractive',\n",
              "                                                     [key], {});\n",
              "          if (!dataTable) return;\n",
              "\n",
              "          const docLinkHtml = 'Like what you see? Visit the ' +\n",
              "            '<a target=\"_blank\" href=https://colab.research.google.com/notebooks/data_table.ipynb>data table notebook</a>'\n",
              "            + ' to learn more about interactive tables.';\n",
              "          element.innerHTML = '';\n",
              "          dataTable['output_type'] = 'display_data';\n",
              "          await google.colab.output.renderOutput(dataTable, element);\n",
              "          const docLink = document.createElement('div');\n",
              "          docLink.innerHTML = docLinkHtml;\n",
              "          element.appendChild(docLink);\n",
              "        }\n",
              "      </script>\n",
              "    </div>\n",
              "  </div>\n",
              "  "
            ]
          },
          "metadata": {},
          "execution_count": 84
        }
      ]
    },
    {
      "cell_type": "markdown",
      "source": [
        "For example, if you have 4-bedroom home and even if you have bathrooms in all 4 rooms plus one guest bathroom, you will have total bath = total bed +1 max. Anything above that is an outlier or a data error."
      ],
      "metadata": {
        "id": "qtWEmCB5v1NZ"
      }
    },
    {
      "cell_type": "code",
      "source": [
        "df9 = df8[df8.bath < df8.bhk+2]\n",
        "df9.shape"
      ],
      "metadata": {
        "colab": {
          "base_uri": "https://localhost:8080/"
        },
        "id": "wuLo4jG6vv4I",
        "outputId": "73174c2f-d0bf-47ac-b115-1b07d23c5038"
      },
      "execution_count": null,
      "outputs": [
        {
          "output_type": "execute_result",
          "data": {
            "text/plain": [
              "(7239, 7)"
            ]
          },
          "metadata": {},
          "execution_count": 87
        }
      ]
    },
    {
      "cell_type": "code",
      "source": [
        "df9.head(2)"
      ],
      "metadata": {
        "colab": {
          "base_uri": "https://localhost:8080/",
          "height": 112
        },
        "id": "-0G0kc0NwE-o",
        "outputId": "8678db5f-ba7a-477c-e639-b8ab6cc5f45d"
      },
      "execution_count": null,
      "outputs": [
        {
          "output_type": "execute_result",
          "data": {
            "text/plain": [
              "              location   size  total_sqft  bath  price  bhk  price_per_sqft\n",
              "0  1st Block Jayanagar  4 BHK      2850.0   4.0  428.0    4    15017.543860\n",
              "1  1st Block Jayanagar  3 BHK      1630.0   3.0  194.0    3    11901.840491"
            ],
            "text/html": [
              "\n",
              "  <div id=\"df-2e925acd-a754-4d5d-bfd6-23d0d23ff917\">\n",
              "    <div class=\"colab-df-container\">\n",
              "      <div>\n",
              "<style scoped>\n",
              "    .dataframe tbody tr th:only-of-type {\n",
              "        vertical-align: middle;\n",
              "    }\n",
              "\n",
              "    .dataframe tbody tr th {\n",
              "        vertical-align: top;\n",
              "    }\n",
              "\n",
              "    .dataframe thead th {\n",
              "        text-align: right;\n",
              "    }\n",
              "</style>\n",
              "<table border=\"1\" class=\"dataframe\">\n",
              "  <thead>\n",
              "    <tr style=\"text-align: right;\">\n",
              "      <th></th>\n",
              "      <th>location</th>\n",
              "      <th>size</th>\n",
              "      <th>total_sqft</th>\n",
              "      <th>bath</th>\n",
              "      <th>price</th>\n",
              "      <th>bhk</th>\n",
              "      <th>price_per_sqft</th>\n",
              "    </tr>\n",
              "  </thead>\n",
              "  <tbody>\n",
              "    <tr>\n",
              "      <th>0</th>\n",
              "      <td>1st Block Jayanagar</td>\n",
              "      <td>4 BHK</td>\n",
              "      <td>2850.0</td>\n",
              "      <td>4.0</td>\n",
              "      <td>428.0</td>\n",
              "      <td>4</td>\n",
              "      <td>15017.543860</td>\n",
              "    </tr>\n",
              "    <tr>\n",
              "      <th>1</th>\n",
              "      <td>1st Block Jayanagar</td>\n",
              "      <td>3 BHK</td>\n",
              "      <td>1630.0</td>\n",
              "      <td>3.0</td>\n",
              "      <td>194.0</td>\n",
              "      <td>3</td>\n",
              "      <td>11901.840491</td>\n",
              "    </tr>\n",
              "  </tbody>\n",
              "</table>\n",
              "</div>\n",
              "      <button class=\"colab-df-convert\" onclick=\"convertToInteractive('df-2e925acd-a754-4d5d-bfd6-23d0d23ff917')\"\n",
              "              title=\"Convert this dataframe to an interactive table.\"\n",
              "              style=\"display:none;\">\n",
              "        \n",
              "  <svg xmlns=\"http://www.w3.org/2000/svg\" height=\"24px\"viewBox=\"0 0 24 24\"\n",
              "       width=\"24px\">\n",
              "    <path d=\"M0 0h24v24H0V0z\" fill=\"none\"/>\n",
              "    <path d=\"M18.56 5.44l.94 2.06.94-2.06 2.06-.94-2.06-.94-.94-2.06-.94 2.06-2.06.94zm-11 1L8.5 8.5l.94-2.06 2.06-.94-2.06-.94L8.5 2.5l-.94 2.06-2.06.94zm10 10l.94 2.06.94-2.06 2.06-.94-2.06-.94-.94-2.06-.94 2.06-2.06.94z\"/><path d=\"M17.41 7.96l-1.37-1.37c-.4-.4-.92-.59-1.43-.59-.52 0-1.04.2-1.43.59L10.3 9.45l-7.72 7.72c-.78.78-.78 2.05 0 2.83L4 21.41c.39.39.9.59 1.41.59.51 0 1.02-.2 1.41-.59l7.78-7.78 2.81-2.81c.8-.78.8-2.07 0-2.86zM5.41 20L4 18.59l7.72-7.72 1.47 1.35L5.41 20z\"/>\n",
              "  </svg>\n",
              "      </button>\n",
              "      \n",
              "  <style>\n",
              "    .colab-df-container {\n",
              "      display:flex;\n",
              "      flex-wrap:wrap;\n",
              "      gap: 12px;\n",
              "    }\n",
              "\n",
              "    .colab-df-convert {\n",
              "      background-color: #E8F0FE;\n",
              "      border: none;\n",
              "      border-radius: 50%;\n",
              "      cursor: pointer;\n",
              "      display: none;\n",
              "      fill: #1967D2;\n",
              "      height: 32px;\n",
              "      padding: 0 0 0 0;\n",
              "      width: 32px;\n",
              "    }\n",
              "\n",
              "    .colab-df-convert:hover {\n",
              "      background-color: #E2EBFA;\n",
              "      box-shadow: 0px 1px 2px rgba(60, 64, 67, 0.3), 0px 1px 3px 1px rgba(60, 64, 67, 0.15);\n",
              "      fill: #174EA6;\n",
              "    }\n",
              "\n",
              "    [theme=dark] .colab-df-convert {\n",
              "      background-color: #3B4455;\n",
              "      fill: #D2E3FC;\n",
              "    }\n",
              "\n",
              "    [theme=dark] .colab-df-convert:hover {\n",
              "      background-color: #434B5C;\n",
              "      box-shadow: 0px 1px 3px 1px rgba(0, 0, 0, 0.15);\n",
              "      filter: drop-shadow(0px 1px 2px rgba(0, 0, 0, 0.3));\n",
              "      fill: #FFFFFF;\n",
              "    }\n",
              "  </style>\n",
              "\n",
              "      <script>\n",
              "        const buttonEl =\n",
              "          document.querySelector('#df-2e925acd-a754-4d5d-bfd6-23d0d23ff917 button.colab-df-convert');\n",
              "        buttonEl.style.display =\n",
              "          google.colab.kernel.accessAllowed ? 'block' : 'none';\n",
              "\n",
              "        async function convertToInteractive(key) {\n",
              "          const element = document.querySelector('#df-2e925acd-a754-4d5d-bfd6-23d0d23ff917');\n",
              "          const dataTable =\n",
              "            await google.colab.kernel.invokeFunction('convertToInteractive',\n",
              "                                                     [key], {});\n",
              "          if (!dataTable) return;\n",
              "\n",
              "          const docLinkHtml = 'Like what you see? Visit the ' +\n",
              "            '<a target=\"_blank\" href=https://colab.research.google.com/notebooks/data_table.ipynb>data table notebook</a>'\n",
              "            + ' to learn more about interactive tables.';\n",
              "          element.innerHTML = '';\n",
              "          dataTable['output_type'] = 'display_data';\n",
              "          await google.colab.output.renderOutput(dataTable, element);\n",
              "          const docLink = document.createElement('div');\n",
              "          docLink.innerHTML = docLinkHtml;\n",
              "          element.appendChild(docLink);\n",
              "        }\n",
              "      </script>\n",
              "    </div>\n",
              "  </div>\n",
              "  "
            ]
          },
          "metadata": {},
          "execution_count": 88
        }
      ]
    },
    {
      "cell_type": "code",
      "source": [
        "df10 = df9.drop(['size', 'price_per_sqft'], axis = 'columns')\n",
        "df10.head(3)"
      ],
      "metadata": {
        "colab": {
          "base_uri": "https://localhost:8080/",
          "height": 143
        },
        "id": "D_OTQB5WwICm",
        "outputId": "5022da0d-051b-4782-a806-58997cde4e5f"
      },
      "execution_count": null,
      "outputs": [
        {
          "output_type": "execute_result",
          "data": {
            "text/plain": [
              "              location  total_sqft  bath  price  bhk\n",
              "0  1st Block Jayanagar      2850.0   4.0  428.0    4\n",
              "1  1st Block Jayanagar      1630.0   3.0  194.0    3\n",
              "2  1st Block Jayanagar      1875.0   2.0  235.0    3"
            ],
            "text/html": [
              "\n",
              "  <div id=\"df-2f9a61bc-aac7-4f86-92df-fcd40372be92\">\n",
              "    <div class=\"colab-df-container\">\n",
              "      <div>\n",
              "<style scoped>\n",
              "    .dataframe tbody tr th:only-of-type {\n",
              "        vertical-align: middle;\n",
              "    }\n",
              "\n",
              "    .dataframe tbody tr th {\n",
              "        vertical-align: top;\n",
              "    }\n",
              "\n",
              "    .dataframe thead th {\n",
              "        text-align: right;\n",
              "    }\n",
              "</style>\n",
              "<table border=\"1\" class=\"dataframe\">\n",
              "  <thead>\n",
              "    <tr style=\"text-align: right;\">\n",
              "      <th></th>\n",
              "      <th>location</th>\n",
              "      <th>total_sqft</th>\n",
              "      <th>bath</th>\n",
              "      <th>price</th>\n",
              "      <th>bhk</th>\n",
              "    </tr>\n",
              "  </thead>\n",
              "  <tbody>\n",
              "    <tr>\n",
              "      <th>0</th>\n",
              "      <td>1st Block Jayanagar</td>\n",
              "      <td>2850.0</td>\n",
              "      <td>4.0</td>\n",
              "      <td>428.0</td>\n",
              "      <td>4</td>\n",
              "    </tr>\n",
              "    <tr>\n",
              "      <th>1</th>\n",
              "      <td>1st Block Jayanagar</td>\n",
              "      <td>1630.0</td>\n",
              "      <td>3.0</td>\n",
              "      <td>194.0</td>\n",
              "      <td>3</td>\n",
              "    </tr>\n",
              "    <tr>\n",
              "      <th>2</th>\n",
              "      <td>1st Block Jayanagar</td>\n",
              "      <td>1875.0</td>\n",
              "      <td>2.0</td>\n",
              "      <td>235.0</td>\n",
              "      <td>3</td>\n",
              "    </tr>\n",
              "  </tbody>\n",
              "</table>\n",
              "</div>\n",
              "      <button class=\"colab-df-convert\" onclick=\"convertToInteractive('df-2f9a61bc-aac7-4f86-92df-fcd40372be92')\"\n",
              "              title=\"Convert this dataframe to an interactive table.\"\n",
              "              style=\"display:none;\">\n",
              "        \n",
              "  <svg xmlns=\"http://www.w3.org/2000/svg\" height=\"24px\"viewBox=\"0 0 24 24\"\n",
              "       width=\"24px\">\n",
              "    <path d=\"M0 0h24v24H0V0z\" fill=\"none\"/>\n",
              "    <path d=\"M18.56 5.44l.94 2.06.94-2.06 2.06-.94-2.06-.94-.94-2.06-.94 2.06-2.06.94zm-11 1L8.5 8.5l.94-2.06 2.06-.94-2.06-.94L8.5 2.5l-.94 2.06-2.06.94zm10 10l.94 2.06.94-2.06 2.06-.94-2.06-.94-.94-2.06-.94 2.06-2.06.94z\"/><path d=\"M17.41 7.96l-1.37-1.37c-.4-.4-.92-.59-1.43-.59-.52 0-1.04.2-1.43.59L10.3 9.45l-7.72 7.72c-.78.78-.78 2.05 0 2.83L4 21.41c.39.39.9.59 1.41.59.51 0 1.02-.2 1.41-.59l7.78-7.78 2.81-2.81c.8-.78.8-2.07 0-2.86zM5.41 20L4 18.59l7.72-7.72 1.47 1.35L5.41 20z\"/>\n",
              "  </svg>\n",
              "      </button>\n",
              "      \n",
              "  <style>\n",
              "    .colab-df-container {\n",
              "      display:flex;\n",
              "      flex-wrap:wrap;\n",
              "      gap: 12px;\n",
              "    }\n",
              "\n",
              "    .colab-df-convert {\n",
              "      background-color: #E8F0FE;\n",
              "      border: none;\n",
              "      border-radius: 50%;\n",
              "      cursor: pointer;\n",
              "      display: none;\n",
              "      fill: #1967D2;\n",
              "      height: 32px;\n",
              "      padding: 0 0 0 0;\n",
              "      width: 32px;\n",
              "    }\n",
              "\n",
              "    .colab-df-convert:hover {\n",
              "      background-color: #E2EBFA;\n",
              "      box-shadow: 0px 1px 2px rgba(60, 64, 67, 0.3), 0px 1px 3px 1px rgba(60, 64, 67, 0.15);\n",
              "      fill: #174EA6;\n",
              "    }\n",
              "\n",
              "    [theme=dark] .colab-df-convert {\n",
              "      background-color: #3B4455;\n",
              "      fill: #D2E3FC;\n",
              "    }\n",
              "\n",
              "    [theme=dark] .colab-df-convert:hover {\n",
              "      background-color: #434B5C;\n",
              "      box-shadow: 0px 1px 3px 1px rgba(0, 0, 0, 0.15);\n",
              "      filter: drop-shadow(0px 1px 2px rgba(0, 0, 0, 0.3));\n",
              "      fill: #FFFFFF;\n",
              "    }\n",
              "  </style>\n",
              "\n",
              "      <script>\n",
              "        const buttonEl =\n",
              "          document.querySelector('#df-2f9a61bc-aac7-4f86-92df-fcd40372be92 button.colab-df-convert');\n",
              "        buttonEl.style.display =\n",
              "          google.colab.kernel.accessAllowed ? 'block' : 'none';\n",
              "\n",
              "        async function convertToInteractive(key) {\n",
              "          const element = document.querySelector('#df-2f9a61bc-aac7-4f86-92df-fcd40372be92');\n",
              "          const dataTable =\n",
              "            await google.colab.kernel.invokeFunction('convertToInteractive',\n",
              "                                                     [key], {});\n",
              "          if (!dataTable) return;\n",
              "\n",
              "          const docLinkHtml = 'Like what you see? Visit the ' +\n",
              "            '<a target=\"_blank\" href=https://colab.research.google.com/notebooks/data_table.ipynb>data table notebook</a>'\n",
              "            + ' to learn more about interactive tables.';\n",
              "          element.innerHTML = '';\n",
              "          dataTable['output_type'] = 'display_data';\n",
              "          await google.colab.output.renderOutput(dataTable, element);\n",
              "          const docLink = document.createElement('div');\n",
              "          docLink.innerHTML = docLinkHtml;\n",
              "          element.appendChild(docLink);\n",
              "        }\n",
              "      </script>\n",
              "    </div>\n",
              "  </div>\n",
              "  "
            ]
          },
          "metadata": {},
          "execution_count": 89
        }
      ]
    },
    {
      "cell_type": "markdown",
      "source": [
        "Machine Learning model cannot read text data, so we have to convert this into numeric info via One Hot Encoding (aka dummies). "
      ],
      "metadata": {
        "id": "Bku1LIvgyYfg"
      }
    },
    {
      "cell_type": "markdown",
      "source": [
        "## Use One Hot Encoding for Location"
      ],
      "metadata": {
        "id": "l47Wf1NswU00"
      }
    },
    {
      "cell_type": "code",
      "source": [
        "dummies = pd.get_dummies(df10.location)\n",
        "dummies.head(3)"
      ],
      "metadata": {
        "colab": {
          "base_uri": "https://localhost:8080/",
          "height": 289
        },
        "id": "EwX81N24wT5T",
        "outputId": "e1248fa0-0e84-4c6e-a044-db4deb96e505"
      },
      "execution_count": null,
      "outputs": [
        {
          "output_type": "execute_result",
          "data": {
            "text/plain": [
              "   1st Block Jayanagar  1st Phase JP Nagar  2nd Phase Judicial Layout  \\\n",
              "0                    1                   0                          0   \n",
              "1                    1                   0                          0   \n",
              "2                    1                   0                          0   \n",
              "\n",
              "   2nd Stage Nagarbhavi  5th Block Hbr Layout  5th Phase JP Nagar  \\\n",
              "0                     0                     0                   0   \n",
              "1                     0                     0                   0   \n",
              "2                     0                     0                   0   \n",
              "\n",
              "   6th Phase JP Nagar  7th Phase JP Nagar  8th Phase JP Nagar  \\\n",
              "0                   0                   0                   0   \n",
              "1                   0                   0                   0   \n",
              "2                   0                   0                   0   \n",
              "\n",
              "   9th Phase JP Nagar  ...  Vishveshwarya Layout  Vishwapriya Layout  \\\n",
              "0                   0  ...                     0                   0   \n",
              "1                   0  ...                     0                   0   \n",
              "2                   0  ...                     0                   0   \n",
              "\n",
              "   Vittasandra  Whitefield  Yelachenahalli  Yelahanka  Yelahanka New Town  \\\n",
              "0            0           0               0          0                   0   \n",
              "1            0           0               0          0                   0   \n",
              "2            0           0               0          0                   0   \n",
              "\n",
              "   Yelenahalli  Yeshwanthpur  other  \n",
              "0            0             0      0  \n",
              "1            0             0      0  \n",
              "2            0             0      0  \n",
              "\n",
              "[3 rows x 241 columns]"
            ],
            "text/html": [
              "\n",
              "  <div id=\"df-b19f594d-c87c-4db2-8bb1-253e446841aa\">\n",
              "    <div class=\"colab-df-container\">\n",
              "      <div>\n",
              "<style scoped>\n",
              "    .dataframe tbody tr th:only-of-type {\n",
              "        vertical-align: middle;\n",
              "    }\n",
              "\n",
              "    .dataframe tbody tr th {\n",
              "        vertical-align: top;\n",
              "    }\n",
              "\n",
              "    .dataframe thead th {\n",
              "        text-align: right;\n",
              "    }\n",
              "</style>\n",
              "<table border=\"1\" class=\"dataframe\">\n",
              "  <thead>\n",
              "    <tr style=\"text-align: right;\">\n",
              "      <th></th>\n",
              "      <th>1st Block Jayanagar</th>\n",
              "      <th>1st Phase JP Nagar</th>\n",
              "      <th>2nd Phase Judicial Layout</th>\n",
              "      <th>2nd Stage Nagarbhavi</th>\n",
              "      <th>5th Block Hbr Layout</th>\n",
              "      <th>5th Phase JP Nagar</th>\n",
              "      <th>6th Phase JP Nagar</th>\n",
              "      <th>7th Phase JP Nagar</th>\n",
              "      <th>8th Phase JP Nagar</th>\n",
              "      <th>9th Phase JP Nagar</th>\n",
              "      <th>...</th>\n",
              "      <th>Vishveshwarya Layout</th>\n",
              "      <th>Vishwapriya Layout</th>\n",
              "      <th>Vittasandra</th>\n",
              "      <th>Whitefield</th>\n",
              "      <th>Yelachenahalli</th>\n",
              "      <th>Yelahanka</th>\n",
              "      <th>Yelahanka New Town</th>\n",
              "      <th>Yelenahalli</th>\n",
              "      <th>Yeshwanthpur</th>\n",
              "      <th>other</th>\n",
              "    </tr>\n",
              "  </thead>\n",
              "  <tbody>\n",
              "    <tr>\n",
              "      <th>0</th>\n",
              "      <td>1</td>\n",
              "      <td>0</td>\n",
              "      <td>0</td>\n",
              "      <td>0</td>\n",
              "      <td>0</td>\n",
              "      <td>0</td>\n",
              "      <td>0</td>\n",
              "      <td>0</td>\n",
              "      <td>0</td>\n",
              "      <td>0</td>\n",
              "      <td>...</td>\n",
              "      <td>0</td>\n",
              "      <td>0</td>\n",
              "      <td>0</td>\n",
              "      <td>0</td>\n",
              "      <td>0</td>\n",
              "      <td>0</td>\n",
              "      <td>0</td>\n",
              "      <td>0</td>\n",
              "      <td>0</td>\n",
              "      <td>0</td>\n",
              "    </tr>\n",
              "    <tr>\n",
              "      <th>1</th>\n",
              "      <td>1</td>\n",
              "      <td>0</td>\n",
              "      <td>0</td>\n",
              "      <td>0</td>\n",
              "      <td>0</td>\n",
              "      <td>0</td>\n",
              "      <td>0</td>\n",
              "      <td>0</td>\n",
              "      <td>0</td>\n",
              "      <td>0</td>\n",
              "      <td>...</td>\n",
              "      <td>0</td>\n",
              "      <td>0</td>\n",
              "      <td>0</td>\n",
              "      <td>0</td>\n",
              "      <td>0</td>\n",
              "      <td>0</td>\n",
              "      <td>0</td>\n",
              "      <td>0</td>\n",
              "      <td>0</td>\n",
              "      <td>0</td>\n",
              "    </tr>\n",
              "    <tr>\n",
              "      <th>2</th>\n",
              "      <td>1</td>\n",
              "      <td>0</td>\n",
              "      <td>0</td>\n",
              "      <td>0</td>\n",
              "      <td>0</td>\n",
              "      <td>0</td>\n",
              "      <td>0</td>\n",
              "      <td>0</td>\n",
              "      <td>0</td>\n",
              "      <td>0</td>\n",
              "      <td>...</td>\n",
              "      <td>0</td>\n",
              "      <td>0</td>\n",
              "      <td>0</td>\n",
              "      <td>0</td>\n",
              "      <td>0</td>\n",
              "      <td>0</td>\n",
              "      <td>0</td>\n",
              "      <td>0</td>\n",
              "      <td>0</td>\n",
              "      <td>0</td>\n",
              "    </tr>\n",
              "  </tbody>\n",
              "</table>\n",
              "<p>3 rows × 241 columns</p>\n",
              "</div>\n",
              "      <button class=\"colab-df-convert\" onclick=\"convertToInteractive('df-b19f594d-c87c-4db2-8bb1-253e446841aa')\"\n",
              "              title=\"Convert this dataframe to an interactive table.\"\n",
              "              style=\"display:none;\">\n",
              "        \n",
              "  <svg xmlns=\"http://www.w3.org/2000/svg\" height=\"24px\"viewBox=\"0 0 24 24\"\n",
              "       width=\"24px\">\n",
              "    <path d=\"M0 0h24v24H0V0z\" fill=\"none\"/>\n",
              "    <path d=\"M18.56 5.44l.94 2.06.94-2.06 2.06-.94-2.06-.94-.94-2.06-.94 2.06-2.06.94zm-11 1L8.5 8.5l.94-2.06 2.06-.94-2.06-.94L8.5 2.5l-.94 2.06-2.06.94zm10 10l.94 2.06.94-2.06 2.06-.94-2.06-.94-.94-2.06-.94 2.06-2.06.94z\"/><path d=\"M17.41 7.96l-1.37-1.37c-.4-.4-.92-.59-1.43-.59-.52 0-1.04.2-1.43.59L10.3 9.45l-7.72 7.72c-.78.78-.78 2.05 0 2.83L4 21.41c.39.39.9.59 1.41.59.51 0 1.02-.2 1.41-.59l7.78-7.78 2.81-2.81c.8-.78.8-2.07 0-2.86zM5.41 20L4 18.59l7.72-7.72 1.47 1.35L5.41 20z\"/>\n",
              "  </svg>\n",
              "      </button>\n",
              "      \n",
              "  <style>\n",
              "    .colab-df-container {\n",
              "      display:flex;\n",
              "      flex-wrap:wrap;\n",
              "      gap: 12px;\n",
              "    }\n",
              "\n",
              "    .colab-df-convert {\n",
              "      background-color: #E8F0FE;\n",
              "      border: none;\n",
              "      border-radius: 50%;\n",
              "      cursor: pointer;\n",
              "      display: none;\n",
              "      fill: #1967D2;\n",
              "      height: 32px;\n",
              "      padding: 0 0 0 0;\n",
              "      width: 32px;\n",
              "    }\n",
              "\n",
              "    .colab-df-convert:hover {\n",
              "      background-color: #E2EBFA;\n",
              "      box-shadow: 0px 1px 2px rgba(60, 64, 67, 0.3), 0px 1px 3px 1px rgba(60, 64, 67, 0.15);\n",
              "      fill: #174EA6;\n",
              "    }\n",
              "\n",
              "    [theme=dark] .colab-df-convert {\n",
              "      background-color: #3B4455;\n",
              "      fill: #D2E3FC;\n",
              "    }\n",
              "\n",
              "    [theme=dark] .colab-df-convert:hover {\n",
              "      background-color: #434B5C;\n",
              "      box-shadow: 0px 1px 3px 1px rgba(0, 0, 0, 0.15);\n",
              "      filter: drop-shadow(0px 1px 2px rgba(0, 0, 0, 0.3));\n",
              "      fill: #FFFFFF;\n",
              "    }\n",
              "  </style>\n",
              "\n",
              "      <script>\n",
              "        const buttonEl =\n",
              "          document.querySelector('#df-b19f594d-c87c-4db2-8bb1-253e446841aa button.colab-df-convert');\n",
              "        buttonEl.style.display =\n",
              "          google.colab.kernel.accessAllowed ? 'block' : 'none';\n",
              "\n",
              "        async function convertToInteractive(key) {\n",
              "          const element = document.querySelector('#df-b19f594d-c87c-4db2-8bb1-253e446841aa');\n",
              "          const dataTable =\n",
              "            await google.colab.kernel.invokeFunction('convertToInteractive',\n",
              "                                                     [key], {});\n",
              "          if (!dataTable) return;\n",
              "\n",
              "          const docLinkHtml = 'Like what you see? Visit the ' +\n",
              "            '<a target=\"_blank\" href=https://colab.research.google.com/notebooks/data_table.ipynb>data table notebook</a>'\n",
              "            + ' to learn more about interactive tables.';\n",
              "          element.innerHTML = '';\n",
              "          dataTable['output_type'] = 'display_data';\n",
              "          await google.colab.output.renderOutput(dataTable, element);\n",
              "          const docLink = document.createElement('div');\n",
              "          docLink.innerHTML = docLinkHtml;\n",
              "          element.appendChild(docLink);\n",
              "        }\n",
              "      </script>\n",
              "    </div>\n",
              "  </div>\n",
              "  "
            ]
          },
          "metadata": {},
          "execution_count": 90
        }
      ]
    },
    {
      "cell_type": "code",
      "source": [
        "#append dummies to original dataframe.\n",
        "df11 = pd.concat([df10, dummies.drop('other', axis= 'columns')], axis= 'columns')\n",
        "df11.head()"
      ],
      "metadata": {
        "colab": {
          "base_uri": "https://localhost:8080/",
          "height": 438
        },
        "id": "m-zpUpKwwkcj",
        "outputId": "47ca32f7-d672-4d5e-dba6-c2b8bd89d7fd"
      },
      "execution_count": null,
      "outputs": [
        {
          "output_type": "execute_result",
          "data": {
            "text/plain": [
              "              location  total_sqft  bath  price  bhk  1st Block Jayanagar  \\\n",
              "0  1st Block Jayanagar      2850.0   4.0  428.0    4                    1   \n",
              "1  1st Block Jayanagar      1630.0   3.0  194.0    3                    1   \n",
              "2  1st Block Jayanagar      1875.0   2.0  235.0    3                    1   \n",
              "3  1st Block Jayanagar      1200.0   2.0  130.0    3                    1   \n",
              "4  1st Block Jayanagar      1235.0   2.0  148.0    2                    1   \n",
              "\n",
              "   1st Phase JP Nagar  2nd Phase Judicial Layout  2nd Stage Nagarbhavi  \\\n",
              "0                   0                          0                     0   \n",
              "1                   0                          0                     0   \n",
              "2                   0                          0                     0   \n",
              "3                   0                          0                     0   \n",
              "4                   0                          0                     0   \n",
              "\n",
              "   5th Block Hbr Layout  ...  Vijayanagar  Vishveshwarya Layout  \\\n",
              "0                     0  ...            0                     0   \n",
              "1                     0  ...            0                     0   \n",
              "2                     0  ...            0                     0   \n",
              "3                     0  ...            0                     0   \n",
              "4                     0  ...            0                     0   \n",
              "\n",
              "   Vishwapriya Layout  Vittasandra  Whitefield  Yelachenahalli  Yelahanka  \\\n",
              "0                   0            0           0               0          0   \n",
              "1                   0            0           0               0          0   \n",
              "2                   0            0           0               0          0   \n",
              "3                   0            0           0               0          0   \n",
              "4                   0            0           0               0          0   \n",
              "\n",
              "   Yelahanka New Town  Yelenahalli  Yeshwanthpur  \n",
              "0                   0            0             0  \n",
              "1                   0            0             0  \n",
              "2                   0            0             0  \n",
              "3                   0            0             0  \n",
              "4                   0            0             0  \n",
              "\n",
              "[5 rows x 245 columns]"
            ],
            "text/html": [
              "\n",
              "  <div id=\"df-b90145c0-238f-4f0b-ae0d-4c586660f354\">\n",
              "    <div class=\"colab-df-container\">\n",
              "      <div>\n",
              "<style scoped>\n",
              "    .dataframe tbody tr th:only-of-type {\n",
              "        vertical-align: middle;\n",
              "    }\n",
              "\n",
              "    .dataframe tbody tr th {\n",
              "        vertical-align: top;\n",
              "    }\n",
              "\n",
              "    .dataframe thead th {\n",
              "        text-align: right;\n",
              "    }\n",
              "</style>\n",
              "<table border=\"1\" class=\"dataframe\">\n",
              "  <thead>\n",
              "    <tr style=\"text-align: right;\">\n",
              "      <th></th>\n",
              "      <th>location</th>\n",
              "      <th>total_sqft</th>\n",
              "      <th>bath</th>\n",
              "      <th>price</th>\n",
              "      <th>bhk</th>\n",
              "      <th>1st Block Jayanagar</th>\n",
              "      <th>1st Phase JP Nagar</th>\n",
              "      <th>2nd Phase Judicial Layout</th>\n",
              "      <th>2nd Stage Nagarbhavi</th>\n",
              "      <th>5th Block Hbr Layout</th>\n",
              "      <th>...</th>\n",
              "      <th>Vijayanagar</th>\n",
              "      <th>Vishveshwarya Layout</th>\n",
              "      <th>Vishwapriya Layout</th>\n",
              "      <th>Vittasandra</th>\n",
              "      <th>Whitefield</th>\n",
              "      <th>Yelachenahalli</th>\n",
              "      <th>Yelahanka</th>\n",
              "      <th>Yelahanka New Town</th>\n",
              "      <th>Yelenahalli</th>\n",
              "      <th>Yeshwanthpur</th>\n",
              "    </tr>\n",
              "  </thead>\n",
              "  <tbody>\n",
              "    <tr>\n",
              "      <th>0</th>\n",
              "      <td>1st Block Jayanagar</td>\n",
              "      <td>2850.0</td>\n",
              "      <td>4.0</td>\n",
              "      <td>428.0</td>\n",
              "      <td>4</td>\n",
              "      <td>1</td>\n",
              "      <td>0</td>\n",
              "      <td>0</td>\n",
              "      <td>0</td>\n",
              "      <td>0</td>\n",
              "      <td>...</td>\n",
              "      <td>0</td>\n",
              "      <td>0</td>\n",
              "      <td>0</td>\n",
              "      <td>0</td>\n",
              "      <td>0</td>\n",
              "      <td>0</td>\n",
              "      <td>0</td>\n",
              "      <td>0</td>\n",
              "      <td>0</td>\n",
              "      <td>0</td>\n",
              "    </tr>\n",
              "    <tr>\n",
              "      <th>1</th>\n",
              "      <td>1st Block Jayanagar</td>\n",
              "      <td>1630.0</td>\n",
              "      <td>3.0</td>\n",
              "      <td>194.0</td>\n",
              "      <td>3</td>\n",
              "      <td>1</td>\n",
              "      <td>0</td>\n",
              "      <td>0</td>\n",
              "      <td>0</td>\n",
              "      <td>0</td>\n",
              "      <td>...</td>\n",
              "      <td>0</td>\n",
              "      <td>0</td>\n",
              "      <td>0</td>\n",
              "      <td>0</td>\n",
              "      <td>0</td>\n",
              "      <td>0</td>\n",
              "      <td>0</td>\n",
              "      <td>0</td>\n",
              "      <td>0</td>\n",
              "      <td>0</td>\n",
              "    </tr>\n",
              "    <tr>\n",
              "      <th>2</th>\n",
              "      <td>1st Block Jayanagar</td>\n",
              "      <td>1875.0</td>\n",
              "      <td>2.0</td>\n",
              "      <td>235.0</td>\n",
              "      <td>3</td>\n",
              "      <td>1</td>\n",
              "      <td>0</td>\n",
              "      <td>0</td>\n",
              "      <td>0</td>\n",
              "      <td>0</td>\n",
              "      <td>...</td>\n",
              "      <td>0</td>\n",
              "      <td>0</td>\n",
              "      <td>0</td>\n",
              "      <td>0</td>\n",
              "      <td>0</td>\n",
              "      <td>0</td>\n",
              "      <td>0</td>\n",
              "      <td>0</td>\n",
              "      <td>0</td>\n",
              "      <td>0</td>\n",
              "    </tr>\n",
              "    <tr>\n",
              "      <th>3</th>\n",
              "      <td>1st Block Jayanagar</td>\n",
              "      <td>1200.0</td>\n",
              "      <td>2.0</td>\n",
              "      <td>130.0</td>\n",
              "      <td>3</td>\n",
              "      <td>1</td>\n",
              "      <td>0</td>\n",
              "      <td>0</td>\n",
              "      <td>0</td>\n",
              "      <td>0</td>\n",
              "      <td>...</td>\n",
              "      <td>0</td>\n",
              "      <td>0</td>\n",
              "      <td>0</td>\n",
              "      <td>0</td>\n",
              "      <td>0</td>\n",
              "      <td>0</td>\n",
              "      <td>0</td>\n",
              "      <td>0</td>\n",
              "      <td>0</td>\n",
              "      <td>0</td>\n",
              "    </tr>\n",
              "    <tr>\n",
              "      <th>4</th>\n",
              "      <td>1st Block Jayanagar</td>\n",
              "      <td>1235.0</td>\n",
              "      <td>2.0</td>\n",
              "      <td>148.0</td>\n",
              "      <td>2</td>\n",
              "      <td>1</td>\n",
              "      <td>0</td>\n",
              "      <td>0</td>\n",
              "      <td>0</td>\n",
              "      <td>0</td>\n",
              "      <td>...</td>\n",
              "      <td>0</td>\n",
              "      <td>0</td>\n",
              "      <td>0</td>\n",
              "      <td>0</td>\n",
              "      <td>0</td>\n",
              "      <td>0</td>\n",
              "      <td>0</td>\n",
              "      <td>0</td>\n",
              "      <td>0</td>\n",
              "      <td>0</td>\n",
              "    </tr>\n",
              "  </tbody>\n",
              "</table>\n",
              "<p>5 rows × 245 columns</p>\n",
              "</div>\n",
              "      <button class=\"colab-df-convert\" onclick=\"convertToInteractive('df-b90145c0-238f-4f0b-ae0d-4c586660f354')\"\n",
              "              title=\"Convert this dataframe to an interactive table.\"\n",
              "              style=\"display:none;\">\n",
              "        \n",
              "  <svg xmlns=\"http://www.w3.org/2000/svg\" height=\"24px\"viewBox=\"0 0 24 24\"\n",
              "       width=\"24px\">\n",
              "    <path d=\"M0 0h24v24H0V0z\" fill=\"none\"/>\n",
              "    <path d=\"M18.56 5.44l.94 2.06.94-2.06 2.06-.94-2.06-.94-.94-2.06-.94 2.06-2.06.94zm-11 1L8.5 8.5l.94-2.06 2.06-.94-2.06-.94L8.5 2.5l-.94 2.06-2.06.94zm10 10l.94 2.06.94-2.06 2.06-.94-2.06-.94-.94-2.06-.94 2.06-2.06.94z\"/><path d=\"M17.41 7.96l-1.37-1.37c-.4-.4-.92-.59-1.43-.59-.52 0-1.04.2-1.43.59L10.3 9.45l-7.72 7.72c-.78.78-.78 2.05 0 2.83L4 21.41c.39.39.9.59 1.41.59.51 0 1.02-.2 1.41-.59l7.78-7.78 2.81-2.81c.8-.78.8-2.07 0-2.86zM5.41 20L4 18.59l7.72-7.72 1.47 1.35L5.41 20z\"/>\n",
              "  </svg>\n",
              "      </button>\n",
              "      \n",
              "  <style>\n",
              "    .colab-df-container {\n",
              "      display:flex;\n",
              "      flex-wrap:wrap;\n",
              "      gap: 12px;\n",
              "    }\n",
              "\n",
              "    .colab-df-convert {\n",
              "      background-color: #E8F0FE;\n",
              "      border: none;\n",
              "      border-radius: 50%;\n",
              "      cursor: pointer;\n",
              "      display: none;\n",
              "      fill: #1967D2;\n",
              "      height: 32px;\n",
              "      padding: 0 0 0 0;\n",
              "      width: 32px;\n",
              "    }\n",
              "\n",
              "    .colab-df-convert:hover {\n",
              "      background-color: #E2EBFA;\n",
              "      box-shadow: 0px 1px 2px rgba(60, 64, 67, 0.3), 0px 1px 3px 1px rgba(60, 64, 67, 0.15);\n",
              "      fill: #174EA6;\n",
              "    }\n",
              "\n",
              "    [theme=dark] .colab-df-convert {\n",
              "      background-color: #3B4455;\n",
              "      fill: #D2E3FC;\n",
              "    }\n",
              "\n",
              "    [theme=dark] .colab-df-convert:hover {\n",
              "      background-color: #434B5C;\n",
              "      box-shadow: 0px 1px 3px 1px rgba(0, 0, 0, 0.15);\n",
              "      filter: drop-shadow(0px 1px 2px rgba(0, 0, 0, 0.3));\n",
              "      fill: #FFFFFF;\n",
              "    }\n",
              "  </style>\n",
              "\n",
              "      <script>\n",
              "        const buttonEl =\n",
              "          document.querySelector('#df-b90145c0-238f-4f0b-ae0d-4c586660f354 button.colab-df-convert');\n",
              "        buttonEl.style.display =\n",
              "          google.colab.kernel.accessAllowed ? 'block' : 'none';\n",
              "\n",
              "        async function convertToInteractive(key) {\n",
              "          const element = document.querySelector('#df-b90145c0-238f-4f0b-ae0d-4c586660f354');\n",
              "          const dataTable =\n",
              "            await google.colab.kernel.invokeFunction('convertToInteractive',\n",
              "                                                     [key], {});\n",
              "          if (!dataTable) return;\n",
              "\n",
              "          const docLinkHtml = 'Like what you see? Visit the ' +\n",
              "            '<a target=\"_blank\" href=https://colab.research.google.com/notebooks/data_table.ipynb>data table notebook</a>'\n",
              "            + ' to learn more about interactive tables.';\n",
              "          element.innerHTML = '';\n",
              "          dataTable['output_type'] = 'display_data';\n",
              "          await google.colab.output.renderOutput(dataTable, element);\n",
              "          const docLink = document.createElement('div');\n",
              "          docLink.innerHTML = docLinkHtml;\n",
              "          element.appendChild(docLink);\n",
              "        }\n",
              "      </script>\n",
              "    </div>\n",
              "  </div>\n",
              "  "
            ]
          },
          "metadata": {},
          "execution_count": 104
        }
      ]
    },
    {
      "cell_type": "code",
      "source": [
        "df12 = df11.drop('location', axis= 'columns')\n",
        "df12.head()"
      ],
      "metadata": {
        "colab": {
          "base_uri": "https://localhost:8080/",
          "height": 352
        },
        "id": "ZFbJs0dQwsjK",
        "outputId": "a2a0d691-1ce8-4089-ecd1-a69570b896b2"
      },
      "execution_count": null,
      "outputs": [
        {
          "output_type": "execute_result",
          "data": {
            "text/plain": [
              "   total_sqft  bath  price  bhk  1st Block Jayanagar  1st Phase JP Nagar  \\\n",
              "0      2850.0   4.0  428.0    4                    1                   0   \n",
              "1      1630.0   3.0  194.0    3                    1                   0   \n",
              "2      1875.0   2.0  235.0    3                    1                   0   \n",
              "3      1200.0   2.0  130.0    3                    1                   0   \n",
              "4      1235.0   2.0  148.0    2                    1                   0   \n",
              "\n",
              "   2nd Phase Judicial Layout  2nd Stage Nagarbhavi  5th Block Hbr Layout  \\\n",
              "0                          0                     0                     0   \n",
              "1                          0                     0                     0   \n",
              "2                          0                     0                     0   \n",
              "3                          0                     0                     0   \n",
              "4                          0                     0                     0   \n",
              "\n",
              "   5th Phase JP Nagar  ...  Vijayanagar  Vishveshwarya Layout  \\\n",
              "0                   0  ...            0                     0   \n",
              "1                   0  ...            0                     0   \n",
              "2                   0  ...            0                     0   \n",
              "3                   0  ...            0                     0   \n",
              "4                   0  ...            0                     0   \n",
              "\n",
              "   Vishwapriya Layout  Vittasandra  Whitefield  Yelachenahalli  Yelahanka  \\\n",
              "0                   0            0           0               0          0   \n",
              "1                   0            0           0               0          0   \n",
              "2                   0            0           0               0          0   \n",
              "3                   0            0           0               0          0   \n",
              "4                   0            0           0               0          0   \n",
              "\n",
              "   Yelahanka New Town  Yelenahalli  Yeshwanthpur  \n",
              "0                   0            0             0  \n",
              "1                   0            0             0  \n",
              "2                   0            0             0  \n",
              "3                   0            0             0  \n",
              "4                   0            0             0  \n",
              "\n",
              "[5 rows x 244 columns]"
            ],
            "text/html": [
              "\n",
              "  <div id=\"df-08fccdad-db9f-4d22-a586-00a86178be95\">\n",
              "    <div class=\"colab-df-container\">\n",
              "      <div>\n",
              "<style scoped>\n",
              "    .dataframe tbody tr th:only-of-type {\n",
              "        vertical-align: middle;\n",
              "    }\n",
              "\n",
              "    .dataframe tbody tr th {\n",
              "        vertical-align: top;\n",
              "    }\n",
              "\n",
              "    .dataframe thead th {\n",
              "        text-align: right;\n",
              "    }\n",
              "</style>\n",
              "<table border=\"1\" class=\"dataframe\">\n",
              "  <thead>\n",
              "    <tr style=\"text-align: right;\">\n",
              "      <th></th>\n",
              "      <th>total_sqft</th>\n",
              "      <th>bath</th>\n",
              "      <th>price</th>\n",
              "      <th>bhk</th>\n",
              "      <th>1st Block Jayanagar</th>\n",
              "      <th>1st Phase JP Nagar</th>\n",
              "      <th>2nd Phase Judicial Layout</th>\n",
              "      <th>2nd Stage Nagarbhavi</th>\n",
              "      <th>5th Block Hbr Layout</th>\n",
              "      <th>5th Phase JP Nagar</th>\n",
              "      <th>...</th>\n",
              "      <th>Vijayanagar</th>\n",
              "      <th>Vishveshwarya Layout</th>\n",
              "      <th>Vishwapriya Layout</th>\n",
              "      <th>Vittasandra</th>\n",
              "      <th>Whitefield</th>\n",
              "      <th>Yelachenahalli</th>\n",
              "      <th>Yelahanka</th>\n",
              "      <th>Yelahanka New Town</th>\n",
              "      <th>Yelenahalli</th>\n",
              "      <th>Yeshwanthpur</th>\n",
              "    </tr>\n",
              "  </thead>\n",
              "  <tbody>\n",
              "    <tr>\n",
              "      <th>0</th>\n",
              "      <td>2850.0</td>\n",
              "      <td>4.0</td>\n",
              "      <td>428.0</td>\n",
              "      <td>4</td>\n",
              "      <td>1</td>\n",
              "      <td>0</td>\n",
              "      <td>0</td>\n",
              "      <td>0</td>\n",
              "      <td>0</td>\n",
              "      <td>0</td>\n",
              "      <td>...</td>\n",
              "      <td>0</td>\n",
              "      <td>0</td>\n",
              "      <td>0</td>\n",
              "      <td>0</td>\n",
              "      <td>0</td>\n",
              "      <td>0</td>\n",
              "      <td>0</td>\n",
              "      <td>0</td>\n",
              "      <td>0</td>\n",
              "      <td>0</td>\n",
              "    </tr>\n",
              "    <tr>\n",
              "      <th>1</th>\n",
              "      <td>1630.0</td>\n",
              "      <td>3.0</td>\n",
              "      <td>194.0</td>\n",
              "      <td>3</td>\n",
              "      <td>1</td>\n",
              "      <td>0</td>\n",
              "      <td>0</td>\n",
              "      <td>0</td>\n",
              "      <td>0</td>\n",
              "      <td>0</td>\n",
              "      <td>...</td>\n",
              "      <td>0</td>\n",
              "      <td>0</td>\n",
              "      <td>0</td>\n",
              "      <td>0</td>\n",
              "      <td>0</td>\n",
              "      <td>0</td>\n",
              "      <td>0</td>\n",
              "      <td>0</td>\n",
              "      <td>0</td>\n",
              "      <td>0</td>\n",
              "    </tr>\n",
              "    <tr>\n",
              "      <th>2</th>\n",
              "      <td>1875.0</td>\n",
              "      <td>2.0</td>\n",
              "      <td>235.0</td>\n",
              "      <td>3</td>\n",
              "      <td>1</td>\n",
              "      <td>0</td>\n",
              "      <td>0</td>\n",
              "      <td>0</td>\n",
              "      <td>0</td>\n",
              "      <td>0</td>\n",
              "      <td>...</td>\n",
              "      <td>0</td>\n",
              "      <td>0</td>\n",
              "      <td>0</td>\n",
              "      <td>0</td>\n",
              "      <td>0</td>\n",
              "      <td>0</td>\n",
              "      <td>0</td>\n",
              "      <td>0</td>\n",
              "      <td>0</td>\n",
              "      <td>0</td>\n",
              "    </tr>\n",
              "    <tr>\n",
              "      <th>3</th>\n",
              "      <td>1200.0</td>\n",
              "      <td>2.0</td>\n",
              "      <td>130.0</td>\n",
              "      <td>3</td>\n",
              "      <td>1</td>\n",
              "      <td>0</td>\n",
              "      <td>0</td>\n",
              "      <td>0</td>\n",
              "      <td>0</td>\n",
              "      <td>0</td>\n",
              "      <td>...</td>\n",
              "      <td>0</td>\n",
              "      <td>0</td>\n",
              "      <td>0</td>\n",
              "      <td>0</td>\n",
              "      <td>0</td>\n",
              "      <td>0</td>\n",
              "      <td>0</td>\n",
              "      <td>0</td>\n",
              "      <td>0</td>\n",
              "      <td>0</td>\n",
              "    </tr>\n",
              "    <tr>\n",
              "      <th>4</th>\n",
              "      <td>1235.0</td>\n",
              "      <td>2.0</td>\n",
              "      <td>148.0</td>\n",
              "      <td>2</td>\n",
              "      <td>1</td>\n",
              "      <td>0</td>\n",
              "      <td>0</td>\n",
              "      <td>0</td>\n",
              "      <td>0</td>\n",
              "      <td>0</td>\n",
              "      <td>...</td>\n",
              "      <td>0</td>\n",
              "      <td>0</td>\n",
              "      <td>0</td>\n",
              "      <td>0</td>\n",
              "      <td>0</td>\n",
              "      <td>0</td>\n",
              "      <td>0</td>\n",
              "      <td>0</td>\n",
              "      <td>0</td>\n",
              "      <td>0</td>\n",
              "    </tr>\n",
              "  </tbody>\n",
              "</table>\n",
              "<p>5 rows × 244 columns</p>\n",
              "</div>\n",
              "      <button class=\"colab-df-convert\" onclick=\"convertToInteractive('df-08fccdad-db9f-4d22-a586-00a86178be95')\"\n",
              "              title=\"Convert this dataframe to an interactive table.\"\n",
              "              style=\"display:none;\">\n",
              "        \n",
              "  <svg xmlns=\"http://www.w3.org/2000/svg\" height=\"24px\"viewBox=\"0 0 24 24\"\n",
              "       width=\"24px\">\n",
              "    <path d=\"M0 0h24v24H0V0z\" fill=\"none\"/>\n",
              "    <path d=\"M18.56 5.44l.94 2.06.94-2.06 2.06-.94-2.06-.94-.94-2.06-.94 2.06-2.06.94zm-11 1L8.5 8.5l.94-2.06 2.06-.94-2.06-.94L8.5 2.5l-.94 2.06-2.06.94zm10 10l.94 2.06.94-2.06 2.06-.94-2.06-.94-.94-2.06-.94 2.06-2.06.94z\"/><path d=\"M17.41 7.96l-1.37-1.37c-.4-.4-.92-.59-1.43-.59-.52 0-1.04.2-1.43.59L10.3 9.45l-7.72 7.72c-.78.78-.78 2.05 0 2.83L4 21.41c.39.39.9.59 1.41.59.51 0 1.02-.2 1.41-.59l7.78-7.78 2.81-2.81c.8-.78.8-2.07 0-2.86zM5.41 20L4 18.59l7.72-7.72 1.47 1.35L5.41 20z\"/>\n",
              "  </svg>\n",
              "      </button>\n",
              "      \n",
              "  <style>\n",
              "    .colab-df-container {\n",
              "      display:flex;\n",
              "      flex-wrap:wrap;\n",
              "      gap: 12px;\n",
              "    }\n",
              "\n",
              "    .colab-df-convert {\n",
              "      background-color: #E8F0FE;\n",
              "      border: none;\n",
              "      border-radius: 50%;\n",
              "      cursor: pointer;\n",
              "      display: none;\n",
              "      fill: #1967D2;\n",
              "      height: 32px;\n",
              "      padding: 0 0 0 0;\n",
              "      width: 32px;\n",
              "    }\n",
              "\n",
              "    .colab-df-convert:hover {\n",
              "      background-color: #E2EBFA;\n",
              "      box-shadow: 0px 1px 2px rgba(60, 64, 67, 0.3), 0px 1px 3px 1px rgba(60, 64, 67, 0.15);\n",
              "      fill: #174EA6;\n",
              "    }\n",
              "\n",
              "    [theme=dark] .colab-df-convert {\n",
              "      background-color: #3B4455;\n",
              "      fill: #D2E3FC;\n",
              "    }\n",
              "\n",
              "    [theme=dark] .colab-df-convert:hover {\n",
              "      background-color: #434B5C;\n",
              "      box-shadow: 0px 1px 3px 1px rgba(0, 0, 0, 0.15);\n",
              "      filter: drop-shadow(0px 1px 2px rgba(0, 0, 0, 0.3));\n",
              "      fill: #FFFFFF;\n",
              "    }\n",
              "  </style>\n",
              "\n",
              "      <script>\n",
              "        const buttonEl =\n",
              "          document.querySelector('#df-08fccdad-db9f-4d22-a586-00a86178be95 button.colab-df-convert');\n",
              "        buttonEl.style.display =\n",
              "          google.colab.kernel.accessAllowed ? 'block' : 'none';\n",
              "\n",
              "        async function convertToInteractive(key) {\n",
              "          const element = document.querySelector('#df-08fccdad-db9f-4d22-a586-00a86178be95');\n",
              "          const dataTable =\n",
              "            await google.colab.kernel.invokeFunction('convertToInteractive',\n",
              "                                                     [key], {});\n",
              "          if (!dataTable) return;\n",
              "\n",
              "          const docLinkHtml = 'Like what you see? Visit the ' +\n",
              "            '<a target=\"_blank\" href=https://colab.research.google.com/notebooks/data_table.ipynb>data table notebook</a>'\n",
              "            + ' to learn more about interactive tables.';\n",
              "          element.innerHTML = '';\n",
              "          dataTable['output_type'] = 'display_data';\n",
              "          await google.colab.output.renderOutput(dataTable, element);\n",
              "          const docLink = document.createElement('div');\n",
              "          docLink.innerHTML = docLinkHtml;\n",
              "          element.appendChild(docLink);\n",
              "        }\n",
              "      </script>\n",
              "    </div>\n",
              "  </div>\n",
              "  "
            ]
          },
          "metadata": {},
          "execution_count": 95
        }
      ]
    },
    {
      "cell_type": "markdown",
      "source": [
        "## Build a prediction model"
      ],
      "metadata": {
        "id": "EqD50Ms1xBGZ"
      }
    },
    {
      "cell_type": "code",
      "source": [
        "df12.shape"
      ],
      "metadata": {
        "colab": {
          "base_uri": "https://localhost:8080/"
        },
        "id": "0SkK_NszxDTw",
        "outputId": "769f21f3-5785-4ba9-f2bd-0c8f89a595b7"
      },
      "execution_count": null,
      "outputs": [
        {
          "output_type": "execute_result",
          "data": {
            "text/plain": [
              "(7239, 244)"
            ]
          },
          "metadata": {},
          "execution_count": 96
        }
      ]
    },
    {
      "cell_type": "code",
      "source": [
        "X = df12.drop(['price'], axis = 'columns') #price is a dependent variable \n",
        "X.head(3) # X is needed for the model training. "
      ],
      "metadata": {
        "colab": {
          "base_uri": "https://localhost:8080/",
          "height": 289
        },
        "id": "GS_zHl_TxFB7",
        "outputId": "abd171b2-099a-448c-9d91-b997a2e93491"
      },
      "execution_count": null,
      "outputs": [
        {
          "output_type": "execute_result",
          "data": {
            "text/plain": [
              "   total_sqft  bath  bhk  1st Block Jayanagar  1st Phase JP Nagar  \\\n",
              "0      2850.0   4.0    4                    1                   0   \n",
              "1      1630.0   3.0    3                    1                   0   \n",
              "2      1875.0   2.0    3                    1                   0   \n",
              "\n",
              "   2nd Phase Judicial Layout  2nd Stage Nagarbhavi  5th Block Hbr Layout  \\\n",
              "0                          0                     0                     0   \n",
              "1                          0                     0                     0   \n",
              "2                          0                     0                     0   \n",
              "\n",
              "   5th Phase JP Nagar  6th Phase JP Nagar  ...  Vijayanagar  \\\n",
              "0                   0                   0  ...            0   \n",
              "1                   0                   0  ...            0   \n",
              "2                   0                   0  ...            0   \n",
              "\n",
              "   Vishveshwarya Layout  Vishwapriya Layout  Vittasandra  Whitefield  \\\n",
              "0                     0                   0            0           0   \n",
              "1                     0                   0            0           0   \n",
              "2                     0                   0            0           0   \n",
              "\n",
              "   Yelachenahalli  Yelahanka  Yelahanka New Town  Yelenahalli  Yeshwanthpur  \n",
              "0               0          0                   0            0             0  \n",
              "1               0          0                   0            0             0  \n",
              "2               0          0                   0            0             0  \n",
              "\n",
              "[3 rows x 243 columns]"
            ],
            "text/html": [
              "\n",
              "  <div id=\"df-1bdf1c09-65ee-472d-b6f9-ac768e90a5ef\">\n",
              "    <div class=\"colab-df-container\">\n",
              "      <div>\n",
              "<style scoped>\n",
              "    .dataframe tbody tr th:only-of-type {\n",
              "        vertical-align: middle;\n",
              "    }\n",
              "\n",
              "    .dataframe tbody tr th {\n",
              "        vertical-align: top;\n",
              "    }\n",
              "\n",
              "    .dataframe thead th {\n",
              "        text-align: right;\n",
              "    }\n",
              "</style>\n",
              "<table border=\"1\" class=\"dataframe\">\n",
              "  <thead>\n",
              "    <tr style=\"text-align: right;\">\n",
              "      <th></th>\n",
              "      <th>total_sqft</th>\n",
              "      <th>bath</th>\n",
              "      <th>bhk</th>\n",
              "      <th>1st Block Jayanagar</th>\n",
              "      <th>1st Phase JP Nagar</th>\n",
              "      <th>2nd Phase Judicial Layout</th>\n",
              "      <th>2nd Stage Nagarbhavi</th>\n",
              "      <th>5th Block Hbr Layout</th>\n",
              "      <th>5th Phase JP Nagar</th>\n",
              "      <th>6th Phase JP Nagar</th>\n",
              "      <th>...</th>\n",
              "      <th>Vijayanagar</th>\n",
              "      <th>Vishveshwarya Layout</th>\n",
              "      <th>Vishwapriya Layout</th>\n",
              "      <th>Vittasandra</th>\n",
              "      <th>Whitefield</th>\n",
              "      <th>Yelachenahalli</th>\n",
              "      <th>Yelahanka</th>\n",
              "      <th>Yelahanka New Town</th>\n",
              "      <th>Yelenahalli</th>\n",
              "      <th>Yeshwanthpur</th>\n",
              "    </tr>\n",
              "  </thead>\n",
              "  <tbody>\n",
              "    <tr>\n",
              "      <th>0</th>\n",
              "      <td>2850.0</td>\n",
              "      <td>4.0</td>\n",
              "      <td>4</td>\n",
              "      <td>1</td>\n",
              "      <td>0</td>\n",
              "      <td>0</td>\n",
              "      <td>0</td>\n",
              "      <td>0</td>\n",
              "      <td>0</td>\n",
              "      <td>0</td>\n",
              "      <td>...</td>\n",
              "      <td>0</td>\n",
              "      <td>0</td>\n",
              "      <td>0</td>\n",
              "      <td>0</td>\n",
              "      <td>0</td>\n",
              "      <td>0</td>\n",
              "      <td>0</td>\n",
              "      <td>0</td>\n",
              "      <td>0</td>\n",
              "      <td>0</td>\n",
              "    </tr>\n",
              "    <tr>\n",
              "      <th>1</th>\n",
              "      <td>1630.0</td>\n",
              "      <td>3.0</td>\n",
              "      <td>3</td>\n",
              "      <td>1</td>\n",
              "      <td>0</td>\n",
              "      <td>0</td>\n",
              "      <td>0</td>\n",
              "      <td>0</td>\n",
              "      <td>0</td>\n",
              "      <td>0</td>\n",
              "      <td>...</td>\n",
              "      <td>0</td>\n",
              "      <td>0</td>\n",
              "      <td>0</td>\n",
              "      <td>0</td>\n",
              "      <td>0</td>\n",
              "      <td>0</td>\n",
              "      <td>0</td>\n",
              "      <td>0</td>\n",
              "      <td>0</td>\n",
              "      <td>0</td>\n",
              "    </tr>\n",
              "    <tr>\n",
              "      <th>2</th>\n",
              "      <td>1875.0</td>\n",
              "      <td>2.0</td>\n",
              "      <td>3</td>\n",
              "      <td>1</td>\n",
              "      <td>0</td>\n",
              "      <td>0</td>\n",
              "      <td>0</td>\n",
              "      <td>0</td>\n",
              "      <td>0</td>\n",
              "      <td>0</td>\n",
              "      <td>...</td>\n",
              "      <td>0</td>\n",
              "      <td>0</td>\n",
              "      <td>0</td>\n",
              "      <td>0</td>\n",
              "      <td>0</td>\n",
              "      <td>0</td>\n",
              "      <td>0</td>\n",
              "      <td>0</td>\n",
              "      <td>0</td>\n",
              "      <td>0</td>\n",
              "    </tr>\n",
              "  </tbody>\n",
              "</table>\n",
              "<p>3 rows × 243 columns</p>\n",
              "</div>\n",
              "      <button class=\"colab-df-convert\" onclick=\"convertToInteractive('df-1bdf1c09-65ee-472d-b6f9-ac768e90a5ef')\"\n",
              "              title=\"Convert this dataframe to an interactive table.\"\n",
              "              style=\"display:none;\">\n",
              "        \n",
              "  <svg xmlns=\"http://www.w3.org/2000/svg\" height=\"24px\"viewBox=\"0 0 24 24\"\n",
              "       width=\"24px\">\n",
              "    <path d=\"M0 0h24v24H0V0z\" fill=\"none\"/>\n",
              "    <path d=\"M18.56 5.44l.94 2.06.94-2.06 2.06-.94-2.06-.94-.94-2.06-.94 2.06-2.06.94zm-11 1L8.5 8.5l.94-2.06 2.06-.94-2.06-.94L8.5 2.5l-.94 2.06-2.06.94zm10 10l.94 2.06.94-2.06 2.06-.94-2.06-.94-.94-2.06-.94 2.06-2.06.94z\"/><path d=\"M17.41 7.96l-1.37-1.37c-.4-.4-.92-.59-1.43-.59-.52 0-1.04.2-1.43.59L10.3 9.45l-7.72 7.72c-.78.78-.78 2.05 0 2.83L4 21.41c.39.39.9.59 1.41.59.51 0 1.02-.2 1.41-.59l7.78-7.78 2.81-2.81c.8-.78.8-2.07 0-2.86zM5.41 20L4 18.59l7.72-7.72 1.47 1.35L5.41 20z\"/>\n",
              "  </svg>\n",
              "      </button>\n",
              "      \n",
              "  <style>\n",
              "    .colab-df-container {\n",
              "      display:flex;\n",
              "      flex-wrap:wrap;\n",
              "      gap: 12px;\n",
              "    }\n",
              "\n",
              "    .colab-df-convert {\n",
              "      background-color: #E8F0FE;\n",
              "      border: none;\n",
              "      border-radius: 50%;\n",
              "      cursor: pointer;\n",
              "      display: none;\n",
              "      fill: #1967D2;\n",
              "      height: 32px;\n",
              "      padding: 0 0 0 0;\n",
              "      width: 32px;\n",
              "    }\n",
              "\n",
              "    .colab-df-convert:hover {\n",
              "      background-color: #E2EBFA;\n",
              "      box-shadow: 0px 1px 2px rgba(60, 64, 67, 0.3), 0px 1px 3px 1px rgba(60, 64, 67, 0.15);\n",
              "      fill: #174EA6;\n",
              "    }\n",
              "\n",
              "    [theme=dark] .colab-df-convert {\n",
              "      background-color: #3B4455;\n",
              "      fill: #D2E3FC;\n",
              "    }\n",
              "\n",
              "    [theme=dark] .colab-df-convert:hover {\n",
              "      background-color: #434B5C;\n",
              "      box-shadow: 0px 1px 3px 1px rgba(0, 0, 0, 0.15);\n",
              "      filter: drop-shadow(0px 1px 2px rgba(0, 0, 0, 0.3));\n",
              "      fill: #FFFFFF;\n",
              "    }\n",
              "  </style>\n",
              "\n",
              "      <script>\n",
              "        const buttonEl =\n",
              "          document.querySelector('#df-1bdf1c09-65ee-472d-b6f9-ac768e90a5ef button.colab-df-convert');\n",
              "        buttonEl.style.display =\n",
              "          google.colab.kernel.accessAllowed ? 'block' : 'none';\n",
              "\n",
              "        async function convertToInteractive(key) {\n",
              "          const element = document.querySelector('#df-1bdf1c09-65ee-472d-b6f9-ac768e90a5ef');\n",
              "          const dataTable =\n",
              "            await google.colab.kernel.invokeFunction('convertToInteractive',\n",
              "                                                     [key], {});\n",
              "          if (!dataTable) return;\n",
              "\n",
              "          const docLinkHtml = 'Like what you see? Visit the ' +\n",
              "            '<a target=\"_blank\" href=https://colab.research.google.com/notebooks/data_table.ipynb>data table notebook</a>'\n",
              "            + ' to learn more about interactive tables.';\n",
              "          element.innerHTML = '';\n",
              "          dataTable['output_type'] = 'display_data';\n",
              "          await google.colab.output.renderOutput(dataTable, element);\n",
              "          const docLink = document.createElement('div');\n",
              "          docLink.innerHTML = docLinkHtml;\n",
              "          element.appendChild(docLink);\n",
              "        }\n",
              "      </script>\n",
              "    </div>\n",
              "  </div>\n",
              "  "
            ]
          },
          "metadata": {},
          "execution_count": 97
        }
      ]
    },
    {
      "cell_type": "code",
      "source": [
        "X.shape"
      ],
      "metadata": {
        "colab": {
          "base_uri": "https://localhost:8080/"
        },
        "id": "8E4df51qxKRm",
        "outputId": "1faf76c8-2d43-4b78-98ee-6d41ae3eda53"
      },
      "execution_count": null,
      "outputs": [
        {
          "output_type": "execute_result",
          "data": {
            "text/plain": [
              "(7239, 243)"
            ]
          },
          "metadata": {},
          "execution_count": 98
        }
      ]
    },
    {
      "cell_type": "code",
      "source": [
        "y = df12.price\n",
        "y.head(3)"
      ],
      "metadata": {
        "colab": {
          "base_uri": "https://localhost:8080/"
        },
        "id": "d4S84zCLxL_K",
        "outputId": "739a516d-d056-4bb9-deb9-49876f2a5959"
      },
      "execution_count": null,
      "outputs": [
        {
          "output_type": "execute_result",
          "data": {
            "text/plain": [
              "0    428.0\n",
              "1    194.0\n",
              "2    235.0\n",
              "Name: price, dtype: float64"
            ]
          },
          "metadata": {},
          "execution_count": 99
        }
      ]
    },
    {
      "cell_type": "code",
      "source": [
        "len(y)"
      ],
      "metadata": {
        "colab": {
          "base_uri": "https://localhost:8080/"
        },
        "id": "7EYZSn2wxOlG",
        "outputId": "fd611357-b7ac-4b2f-9ca3-38c1b73adf59"
      },
      "execution_count": null,
      "outputs": [
        {
          "output_type": "execute_result",
          "data": {
            "text/plain": [
              "7239"
            ]
          },
          "metadata": {},
          "execution_count": 100
        }
      ]
    },
    {
      "cell_type": "code",
      "source": [
        "from sklearn.model_selection import train_test_split\n",
        "X_train, X_test, y_train, y_test = train_test_split(X,y,test_size = 0.2, random_state=10) \n",
        "#20% is test sample and the remaining 80% is training sample."
      ],
      "metadata": {
        "id": "maS5txRqxQLe"
      },
      "execution_count": null,
      "outputs": []
    },
    {
      "cell_type": "code",
      "source": [
        "from sklearn.linear_model import LinearRegression\n",
        "lr_clf = LinearRegression()\n",
        "lr_clf.fit(X_train, y_train) #fit method on X_train and y_train\n",
        "lr_clf.score(X_test, y_test) "
      ],
      "metadata": {
        "colab": {
          "base_uri": "https://localhost:8080/"
        },
        "id": "CyEgLEy-xcRG",
        "outputId": "ac5d79f8-23bc-498d-b2a7-cdf8275d80f0"
      },
      "execution_count": null,
      "outputs": [
        {
          "output_type": "execute_result",
          "data": {
            "text/plain": [
              "0.8629132245229443"
            ]
          },
          "metadata": {},
          "execution_count": 102
        }
      ]
    },
    {
      "cell_type": "markdown",
      "source": [
        "## Use K-Fold Cross Validation to measure accuracy of our Linear Regression Model"
      ],
      "metadata": {
        "id": "kWA0WVjNxoG9"
      }
    },
    {
      "cell_type": "code",
      "source": [
        "from sklearn.model_selection import ShuffleSplit\n",
        "from sklearn.model_selection import cross_val_score\n",
        "\n",
        "cv = ShuffleSplit(n_splits = 5, test_size = 0.2 , random_state =0)\n",
        "\n",
        "cross_val_score(LinearRegression(), X, y, cv=cv)"
      ],
      "metadata": {
        "colab": {
          "base_uri": "https://localhost:8080/"
        },
        "id": "MWOkHINIxt4j",
        "outputId": "006d429a-5ba3-49a2-9d9c-71dc908be34e"
      },
      "execution_count": null,
      "outputs": [
        {
          "output_type": "execute_result",
          "data": {
            "text/plain": [
              "array([0.82702546, 0.86027005, 0.85322178, 0.8436466 , 0.85481502])"
            ]
          },
          "metadata": {},
          "execution_count": 103
        }
      ]
    },
    {
      "cell_type": "markdown",
      "source": [
        "We can see that in 5 iterations we get a score above 80% all the time. This is pretty good but we want to test few other algorithms for regression to see if we can get even better score. We will use GridSearchCV for this purpose."
      ],
      "metadata": {
        "id": "sP5mij1az9T7"
      }
    },
    {
      "cell_type": "markdown",
      "source": [
        "## Find best model using GridSearchCV"
      ],
      "metadata": {
        "id": "qfedSkBU0BxH"
      }
    },
    {
      "cell_type": "code",
      "source": [
        "from sklearn.model_selection import GridSearchCV\n",
        "\n",
        "from sklearn.linear_model import Lasso\n",
        "from sklearn.tree import DecisionTreeRegressor\n",
        "\n",
        "def find_best_model_using_gridsearchcv(X,y):\n",
        "    algos = {\n",
        "        'linear_regression' : {\n",
        "            'model': LinearRegression(),\n",
        "            'params': {\n",
        "                'normalize': [True, False]\n",
        "            }\n",
        "        },\n",
        "        'lasso': {\n",
        "            'model': Lasso(),\n",
        "            'params': {\n",
        "                'alpha': [1,2],\n",
        "                'selection': ['random', 'cyclic']\n",
        "            }\n",
        "        },\n",
        "        'decision_tree': {\n",
        "            'model': DecisionTreeRegressor(),\n",
        "            'params': {\n",
        "                'criterion' : ['mse','friedman_mse'],\n",
        "                'splitter': ['best','random']\n",
        "            }\n",
        "        }\n",
        "    }\n",
        "    scores = []\n",
        "    cv = ShuffleSplit(n_splits=5, test_size=0.2, random_state=0)\n",
        "    for algo_name, config in algos.items():\n",
        "        gs =  GridSearchCV(config['model'], config['params'], cv=cv, return_train_score=False)\n",
        "        gs.fit(X,y)\n",
        "        scores.append({\n",
        "            'model': algo_name,\n",
        "            'best_score': gs.best_score_,\n",
        "            'best_params': gs.best_params_\n",
        "        })\n",
        "\n",
        "    return pd.DataFrame(scores,columns=['model','best_score','best_params'])\n",
        "\n",
        "find_best_model_using_gridsearchcv(X,y)"
      ],
      "metadata": {
        "colab": {
          "base_uri": "https://localhost:8080/",
          "height": 143
        },
        "id": "7F80G8qAz7EI",
        "outputId": "35ec6b16-a6cd-4b25-e8a2-7d3b54433634"
      },
      "execution_count": null,
      "outputs": [
        {
          "output_type": "execute_result",
          "data": {
            "text/plain": [
              "               model  best_score                               best_params\n",
              "0  linear_regression    0.847796                      {'normalize': False}\n",
              "1              lasso    0.726830       {'alpha': 2, 'selection': 'random'}\n",
              "2      decision_tree    0.715885  {'criterion': 'mse', 'splitter': 'best'}"
            ],
            "text/html": [
              "\n",
              "  <div id=\"df-d2280c87-3ec3-4a8b-b628-f6bb3a7ae9de\">\n",
              "    <div class=\"colab-df-container\">\n",
              "      <div>\n",
              "<style scoped>\n",
              "    .dataframe tbody tr th:only-of-type {\n",
              "        vertical-align: middle;\n",
              "    }\n",
              "\n",
              "    .dataframe tbody tr th {\n",
              "        vertical-align: top;\n",
              "    }\n",
              "\n",
              "    .dataframe thead th {\n",
              "        text-align: right;\n",
              "    }\n",
              "</style>\n",
              "<table border=\"1\" class=\"dataframe\">\n",
              "  <thead>\n",
              "    <tr style=\"text-align: right;\">\n",
              "      <th></th>\n",
              "      <th>model</th>\n",
              "      <th>best_score</th>\n",
              "      <th>best_params</th>\n",
              "    </tr>\n",
              "  </thead>\n",
              "  <tbody>\n",
              "    <tr>\n",
              "      <th>0</th>\n",
              "      <td>linear_regression</td>\n",
              "      <td>0.847796</td>\n",
              "      <td>{'normalize': False}</td>\n",
              "    </tr>\n",
              "    <tr>\n",
              "      <th>1</th>\n",
              "      <td>lasso</td>\n",
              "      <td>0.726830</td>\n",
              "      <td>{'alpha': 2, 'selection': 'random'}</td>\n",
              "    </tr>\n",
              "    <tr>\n",
              "      <th>2</th>\n",
              "      <td>decision_tree</td>\n",
              "      <td>0.715885</td>\n",
              "      <td>{'criterion': 'mse', 'splitter': 'best'}</td>\n",
              "    </tr>\n",
              "  </tbody>\n",
              "</table>\n",
              "</div>\n",
              "      <button class=\"colab-df-convert\" onclick=\"convertToInteractive('df-d2280c87-3ec3-4a8b-b628-f6bb3a7ae9de')\"\n",
              "              title=\"Convert this dataframe to an interactive table.\"\n",
              "              style=\"display:none;\">\n",
              "        \n",
              "  <svg xmlns=\"http://www.w3.org/2000/svg\" height=\"24px\"viewBox=\"0 0 24 24\"\n",
              "       width=\"24px\">\n",
              "    <path d=\"M0 0h24v24H0V0z\" fill=\"none\"/>\n",
              "    <path d=\"M18.56 5.44l.94 2.06.94-2.06 2.06-.94-2.06-.94-.94-2.06-.94 2.06-2.06.94zm-11 1L8.5 8.5l.94-2.06 2.06-.94-2.06-.94L8.5 2.5l-.94 2.06-2.06.94zm10 10l.94 2.06.94-2.06 2.06-.94-2.06-.94-.94-2.06-.94 2.06-2.06.94z\"/><path d=\"M17.41 7.96l-1.37-1.37c-.4-.4-.92-.59-1.43-.59-.52 0-1.04.2-1.43.59L10.3 9.45l-7.72 7.72c-.78.78-.78 2.05 0 2.83L4 21.41c.39.39.9.59 1.41.59.51 0 1.02-.2 1.41-.59l7.78-7.78 2.81-2.81c.8-.78.8-2.07 0-2.86zM5.41 20L4 18.59l7.72-7.72 1.47 1.35L5.41 20z\"/>\n",
              "  </svg>\n",
              "      </button>\n",
              "      \n",
              "  <style>\n",
              "    .colab-df-container {\n",
              "      display:flex;\n",
              "      flex-wrap:wrap;\n",
              "      gap: 12px;\n",
              "    }\n",
              "\n",
              "    .colab-df-convert {\n",
              "      background-color: #E8F0FE;\n",
              "      border: none;\n",
              "      border-radius: 50%;\n",
              "      cursor: pointer;\n",
              "      display: none;\n",
              "      fill: #1967D2;\n",
              "      height: 32px;\n",
              "      padding: 0 0 0 0;\n",
              "      width: 32px;\n",
              "    }\n",
              "\n",
              "    .colab-df-convert:hover {\n",
              "      background-color: #E2EBFA;\n",
              "      box-shadow: 0px 1px 2px rgba(60, 64, 67, 0.3), 0px 1px 3px 1px rgba(60, 64, 67, 0.15);\n",
              "      fill: #174EA6;\n",
              "    }\n",
              "\n",
              "    [theme=dark] .colab-df-convert {\n",
              "      background-color: #3B4455;\n",
              "      fill: #D2E3FC;\n",
              "    }\n",
              "\n",
              "    [theme=dark] .colab-df-convert:hover {\n",
              "      background-color: #434B5C;\n",
              "      box-shadow: 0px 1px 3px 1px rgba(0, 0, 0, 0.15);\n",
              "      filter: drop-shadow(0px 1px 2px rgba(0, 0, 0, 0.3));\n",
              "      fill: #FFFFFF;\n",
              "    }\n",
              "  </style>\n",
              "\n",
              "      <script>\n",
              "        const buttonEl =\n",
              "          document.querySelector('#df-d2280c87-3ec3-4a8b-b628-f6bb3a7ae9de button.colab-df-convert');\n",
              "        buttonEl.style.display =\n",
              "          google.colab.kernel.accessAllowed ? 'block' : 'none';\n",
              "\n",
              "        async function convertToInteractive(key) {\n",
              "          const element = document.querySelector('#df-d2280c87-3ec3-4a8b-b628-f6bb3a7ae9de');\n",
              "          const dataTable =\n",
              "            await google.colab.kernel.invokeFunction('convertToInteractive',\n",
              "                                                     [key], {});\n",
              "          if (!dataTable) return;\n",
              "\n",
              "          const docLinkHtml = 'Like what you see? Visit the ' +\n",
              "            '<a target=\"_blank\" href=https://colab.research.google.com/notebooks/data_table.ipynb>data table notebook</a>'\n",
              "            + ' to learn more about interactive tables.';\n",
              "          element.innerHTML = '';\n",
              "          dataTable['output_type'] = 'display_data';\n",
              "          await google.colab.output.renderOutput(dataTable, element);\n",
              "          const docLink = document.createElement('div');\n",
              "          docLink.innerHTML = docLinkHtml;\n",
              "          element.appendChild(docLink);\n",
              "        }\n",
              "      </script>\n",
              "    </div>\n",
              "  </div>\n",
              "  "
            ]
          },
          "metadata": {},
          "execution_count": 111
        }
      ]
    },
    {
      "cell_type": "markdown",
      "source": [
        "linear regression (with normlize false parameter) gives the best score for my model."
      ],
      "metadata": {
        "id": "loMS0O1U0_lt"
      }
    },
    {
      "cell_type": "markdown",
      "source": [
        "## Test the model for few properties"
      ],
      "metadata": {
        "id": "oHqo3OSj1zT3"
      }
    },
    {
      "cell_type": "code",
      "source": [
        "def predict_price(location,sqft,bath,bhk):    \n",
        "    loc_index = np.where(X.columns==location)[0][0]\n",
        "\n",
        "    x = np.zeros(len(X.columns))\n",
        "    x[0] = sqft\n",
        "    x[1] = bath\n",
        "    x[2] = bhk\n",
        "    if loc_index >= 0:\n",
        "        x[loc_index] = 1\n",
        "\n",
        "    return lr_clf.predict([x])[0]"
      ],
      "metadata": {
        "id": "PW8Yi2jn0_z6"
      },
      "execution_count": null,
      "outputs": []
    },
    {
      "cell_type": "code",
      "source": [
        "predict_price('1st Phase JP Nagar',1000, 2, 2)"
      ],
      "metadata": {
        "colab": {
          "base_uri": "https://localhost:8080/"
        },
        "id": "uqwgf2tv2F8a",
        "outputId": "5200f2ec-e110-4541-c750-6bdaa3685ab4"
      },
      "execution_count": null,
      "outputs": [
        {
          "output_type": "execute_result",
          "data": {
            "text/plain": [
              "83.86570258312139"
            ]
          },
          "metadata": {},
          "execution_count": 112
        }
      ]
    },
    {
      "cell_type": "code",
      "source": [
        "predict_price('1st Phase JP Nagar',1000, 3, 3)"
      ],
      "metadata": {
        "colab": {
          "base_uri": "https://localhost:8080/"
        },
        "id": "ag4phpzt3_w5",
        "outputId": "6d9d51c3-7474-4aef-df07-77eaf67c7b69"
      },
      "execution_count": null,
      "outputs": [
        {
          "output_type": "execute_result",
          "data": {
            "text/plain": [
              "86.08062284986894"
            ]
          },
          "metadata": {},
          "execution_count": 116
        }
      ]
    },
    {
      "cell_type": "code",
      "source": [
        "predict_price('Indira Nagar',1000, 2, 2)"
      ],
      "metadata": {
        "colab": {
          "base_uri": "https://localhost:8080/"
        },
        "id": "aL6XeCqY2T1a",
        "outputId": "69d5e157-a2fc-41e3-9a47-03b465aae6ff"
      },
      "execution_count": null,
      "outputs": [
        {
          "output_type": "execute_result",
          "data": {
            "text/plain": [
              "193.31197733179874"
            ]
          },
          "metadata": {},
          "execution_count": 113
        }
      ]
    },
    {
      "cell_type": "code",
      "source": [
        "predict_price('Indira Nagar',1000, 3, 3)"
      ],
      "metadata": {
        "colab": {
          "base_uri": "https://localhost:8080/"
        },
        "id": "bfw0avlL4AWh",
        "outputId": "2fa1caef-0a61-4b45-bb73-a5a55f47d85b"
      },
      "execution_count": null,
      "outputs": [
        {
          "output_type": "execute_result",
          "data": {
            "text/plain": [
              "195.52689759854633"
            ]
          },
          "metadata": {},
          "execution_count": 117
        }
      ]
    },
    {
      "cell_type": "markdown",
      "source": [
        ""
      ],
      "metadata": {
        "id": "dDqcMVe54Gtd"
      }
    },
    {
      "cell_type": "markdown",
      "source": [
        "## Export the tested model to a pickle file"
      ],
      "metadata": {
        "id": "1tDbZUgs2NXL"
      }
    },
    {
      "cell_type": "code",
      "source": [
        "import pickle\n",
        "with open('banglore_home_prices_model.pickle', 'wb') as f:\n",
        "      pickle.dump(lr_clf, f)"
      ],
      "metadata": {
        "id": "lhoDMR7Y3J1_"
      },
      "execution_count": null,
      "outputs": []
    },
    {
      "cell_type": "markdown",
      "source": [
        "## Export location and column information to a file that will be useful later on in our prediction application"
      ],
      "metadata": {
        "id": "0uOahjhY3WoW"
      }
    },
    {
      "cell_type": "code",
      "source": [
        "import json\n",
        "columns = { \n",
        "    'data_columns' : [col.lower() for col in X.columns]\n",
        "}\n",
        "with open(\"columns.json\", \"w\") as f:\n",
        "  f.write(json.dumps(columns))"
      ],
      "metadata": {
        "id": "RW3tDguk3gpa"
      },
      "execution_count": null,
      "outputs": []
    }
  ]
}